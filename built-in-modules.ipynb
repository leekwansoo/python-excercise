{
 "cells": [
  {
   "cell_type": "markdown",
   "id": "0faaf51f",
   "metadata": {},
   "source": [
    "##  Python Built-in Modules\n",
    "\n",
    "This page lists the built-in modules that ship with the Python 3.13 Standard Library.\n",
    "\n",
    "These modules are available without extra installation (some are platform-dependent)."
   ]
  },
  {
   "cell_type": "markdown",
   "id": "1feb2a85",
   "metadata": {},
   "source": [
    "Module\t    Description\t                                                                        Introduced\n",
    "abc\t        Tools for defining Abstract Base Classes (interfaces for Python classes).\t        2.6\n",
    "aifc\t    Read and write AIFF/AIFF-C audio files.\t                                            1.5.2\n",
    "argparse\tParse command line arguments and create user-friendly CLIs.\t                        2.7\n",
    "array\t    Efficient arrays of basic numeric types (compact alternative to lists).\t            1.0\n",
    "ast\t        Work with Python code as an Abstract Syntax Tree (analyze or transform code).\t    2.6\n",
    "asyncio\t    Write concurrent code using the async/await syntax (event loop, tasks, IO).\t        3.4\n",
    "atexit\t    Register functions to run automatically when the program exits.\t                    2.0"
   ]
  },
  {
   "cell_type": "markdown",
   "id": "970f9b6d",
   "metadata": {},
   "source": [
    "Module\t    Description\t                                                                        Introduced\n",
    "base64\t    Encode and decode data using Base16, Base32, Base64, etc.\t                        2.0\n",
    "bdb\t        Debugger framework used by pdb (implements the core debugging logic).\t             —\n",
    "binascii\tConvert between binary and ASCII (hex, base64 helpers at C speed).\t                2.0\n",
    "bisect\t    Maintain sorted lists; insert and search with binary search.\t                    2.0\n",
    "builtins\tAccess Python’s built-in objects like len, range, and exceptions.\t                3.0\n",
    "bz2\t        Read and write bzip2-compressed files and streams.\t                                2.3"
   ]
  },
  {
   "cell_type": "markdown",
   "id": "7c592df5",
   "metadata": {},
   "source": [
    "Module\t    Description\t                                                                        Introduced\n",
    "calendar\tWork with dates as calendars; print text calendars and compute month info.\t        2.0\n",
    "cgi\t        Helpers for Common Gateway Interface (legacy web server scripts).\t                2.0\n",
    "cgitb\t    Pretty tracebacks for CGI scripts (HTML formatted error reports).\t                 —\n",
    "cmd\t        Build simple line-oriented command interpreters (REPL-like shells).\t                2.0\n",
    "code\t    Run an interactive interpreter or embed one in your program.\t                    2.0\n",
    "codecs\t    Text encodings and decoding/encoding helpers.\t                                    2.0\n",
    "codeop\t    Compile Python code objects conditionally (used by code editors and shells).\t    2.0\n",
    "collections\tHigh-performance container datatypes like deque, Counter, namedtuple.\t            2.4\n",
    "colorsys\tConvert between color systems: RGB, YIQ, HLS, HSV.\t                                2.0\n",
    "concurrent\tConcurrency framework (futures) for running callables asynchronously.\t            3.2\n",
    "configparser\tRead and write INI-style configuration files.\t                                3.0\n",
    "contextlib\tUtilities for context managers and the with-statement.\t                            2.5\n",
    "contextvars\tContext-local storage for async code (like thread-local, but for tasks).\t        3.7\n",
    "copy\t    Shallow and deep copy operations for Python objects.\t                            2.0\n",
    "copyreg\t    Register custom pickling functions for complex objects.\t                            3.0\n",
    "csv\t        Read and write CSV files (comma-separated values) with ease.\t                    2.3\n",
    "ctypes\t    Call C libraries and work with C-compatible data types.\t                            2.5\n",
    "curses\t    Terminal handling for character-cell UIs (Unix-like systems only).\t                2.0"
   ]
  },
  {
   "cell_type": "markdown",
   "id": "63d1394d",
   "metadata": {},
   "source": [
    "Module\t    Description\t                                                                        Introduced\n",
    "dataclasses\tDecorator and helpers for classes that store data (auto-generate init, repr, etc.).\t3.7\n",
    "datetime\tDates, times, time zones, and timedeltas made simple and precise.\t                2.3\n",
    "dbm\t        Family of simple on-disk key/value databases (backed by platform libs).\t            2.0\n",
    "decimal\t    Fixed-point and floating decimal arithmetic for money and exact math.\t            2.4\n",
    "difflib\t    Compare sequences and create human-readable diffs.\t                                2.1\n",
    "dis\t        Disassemble Python bytecode for inspection and debugging.\t                        2.0\n",
    "doctest\t    Test examples embedded in docstrings (keeps docs and code in sync).\t                2.1"
   ]
  },
  {
   "cell_type": "markdown",
   "id": "143bbe2a",
   "metadata": {},
   "source": [
    "Module\t    Description\t                                                                        Introduced\n",
    "email\t    Parse, build, and send email messages (headers, MIME, attachments).\t                2.2\n",
    "encodings\tImplementation of text encodings used by Python’s codec system.\t                    2.0\n",
    "ensurepip\tBootstraps pip into a Python installation.\t                                        3.4\n",
    "enum\t    Define enumerations (named constants) with nice semantics.\t                        3.4\n",
    "errno\t    Standard error number constants from the OS.\t                                    2.0"
   ]
  },
  {
   "cell_type": "markdown",
   "id": "b1f90d36",
   "metadata": {},
   "source": [
    "Module\t    Description\t                                                                        Introduced\n",
    "faulthandler\tDump Python tracebacks on a crash or on demand (helps debug hard faults).\t    3.3\n",
    "filecmp\t    Compare files and directories to see what changed.\t                                2.0\n",
    "fileinput\tLoop over lines from stdin or a list of files as a single stream.\t                2.0\n",
    "fnmatch\t    Match filenames using shell-style wildcards.\t                                    2.0\n",
    "fractions\tRational numbers (Fractions) for exact arithmetic.\t                                2.6\n",
    "ftplib\t    FTP client library for transferring files.\t                                        2.0\n",
    "functools\tHigher-order functions and utilities (lru_cache, partial, wraps, etc.).\t            2.5"
   ]
  },
  {
   "cell_type": "markdown",
   "id": "7ee11c0f",
   "metadata": {},
   "source": [
    "Module\t    Description\t                                                                        Introduced\n",
    "gc\t        Control the garbage collector and inspect tracked objects.\t                        2.0\n",
    "getopt\t    Parse command-line options (POSIX-style).\t                                        1.5.2\n",
    "getpass\t    Prompt for a password without echoing it to the console.\t                        2.0\n",
    "gettext\t    Internationalization (i18n) support for translating messages.\t                    2.3\n",
    "glob\t    Find pathnames matching a pattern like *.py.\t                                    2.0\n",
    "graphlib\tTopological sorting utilities for dependency graphs.\t                            3.9\n",
    "gzip\t    Read and write gzip-compressed files and streams.\t                                2.0"
   ]
  },
  {
   "cell_type": "markdown",
   "id": "2701ca9f",
   "metadata": {},
   "source": [
    "Module\t    Description\t                                                                        Introduced\n",
    "hashlib\t    Secure hashes and message digests (SHA, MD5, BLAKE2, etc.).\t                        2.5\n",
    "heapq\t    Heap queue (priority queue) algorithms on plain lists.\t                            2.3\n",
    "hmac\t    Keyed-hash message authentication codes (HMAC).\t                                    2.2\n",
    "html\t    HTML helpers (escape/unescape text).\t                                            3.2\n",
    "http\t    HTTP modules package (client, server, cookies).\t                                    3.0"
   ]
  },
  {
   "cell_type": "markdown",
   "id": "10597406",
   "metadata": {},
   "source": [
    "Module\t    Description\t                                                                        Introduced\n",
    "idlelib\t    Support for the IDLE interactive Python environment.\t                              —\n",
    "imaplib\t    IMAP4 client library for accessing email servers.\t                                2.0\n",
    "imghdr\t    Determine the type of an image file.\t                                            2.0\n",
    "imp\t        Access the import internals (deprecated; use importlib).\t                          —\n",
    "importlib\tProgrammatic interface to Python’s import mechanism.\t                            3.1\n",
    "inspect\t    Inspect live objects such as modules, classes, and functions.\t                     —\n",
    "io\t        Input/Output streams and buffering (text and binary).\t                            2.6"
   ]
  },
  {
   "cell_type": "markdown",
   "id": "e1ad2f7d",
   "metadata": {},
   "source": [
    "Module\t    Description\t                                                                        Introduced\n",
    "json\t    Encode and decode JSON data (JavaScript Object Notation).\t                        2.6\n",
    "keyword\t    Test for Python keywords; list all keywords.\n",
    "linecache\tRead text lines from files with random access.\t                                    2.0\n",
    "locale\t    Internationalization (i18n) support for formatting numbers and dates.\t            2.0\n",
    "logging\t    Flexible event logging system with various handlers.\t                            2.3\n",
    "lzma\t    Compression using the LZMA algorithm (xz format).\t                                3.3"
   ]
  },
  {
   "cell_type": "markdown",
   "id": "56ecfb97",
   "metadata": {},
   "source": [
    "Module\t    Description\t                                                                        Introduced\n",
    "mailbox\t    Work with various mailbox formats (mbox, Maildir, etc.).\t                        2.3\n",
    "mailcap\t    Read mailcap files (MIME handlers configuration).\t                                2.0\n",
    "marshal\t    Read and write Python values in a binary format (for .pyc internals).\t            —\n",
    "math\t    Fast math functions: trigonometry, logarithms, constants, etc.\t                    —\n",
    "mimetypes\tGuess a file’s type based on its filename or URL.\t                                2.0\n",
    "mmap\t    Memory-map files for efficient random access.\t                                    2.0\n",
    "modulefinder\tFind modules used by a script (dependency scanning).\t                        —\n",
    "msilib\t    Create and read Microsoft Installer (.msi) files (Windows only).\t                —\n",
    "msvcrt\t    Access to Microsoft C runtime routines (Windows only).\t                            —\n",
    "multiprocessing\tRun code in parallel using processes (bypass the GIL).\t                        2.6"
   ]
  },
  {
   "cell_type": "markdown",
   "id": "213a2d6f",
   "metadata": {},
   "source": [
    "Module\t    Description\t                                                                        Introduced\n",
    "netrc\t    Parse .netrc files for machine login credentials.\t                                2.0\n",
    "nntplib\t    Client for NNTP (Usenet) news servers.\t                                            2.0\n",
    "numbers\t    Abstract base classes for numeric types.\t                                        2.6\n",
    "nis\t        Interface to Sun’s NIS (Yellow Pages) service (Unix platforms).\t                    —\n",
    "ntpath\t    Windows path operations (used by os.path on Windows).\t                            2.0\n",
    "\n",
    "operator\tFunctional interface to operators (add, mul, itemgetter, attrgetter).\t            1.5.2\n",
    "optparse\tDeprecated parser for command line options (use argparse).\t                        2.3\n",
    "os\t        Operating system interfaces: files, environment, processes.\t                        —"
   ]
  },
  {
   "cell_type": "markdown",
   "id": "95b9dfee",
   "metadata": {},
   "source": [
    "Module\t    Description\t                                                                        Introduced\n",
    "pathlib\t    Object-oriented filesystem paths.\t                                                3.4\n",
    "pdb\t        Interactive debugger for Python programs.\t                                        2.0\n",
    "pickle\t    Serialize and deserialize Python objects (not secure against untrusted data).\t    2.0\n",
    "pickletools\tTools for analyzing pickled data.\t                                                2.3\n",
    "pipes\t    Pipe shell commands together (Unix).\t                                            2.0\n",
    "pkgutil\t    Utilities for packages: walk packages, find loaders, etc.\t                        2.3\n",
    "platform\tAccess to underlying platform information.\t                                        2.3\n",
    "plistlib\tRead and write Apple .plist files.\t                                                2.6\n",
    "poplib\t    POP3 email client.\t                                                                2.0\n",
    "posix\t    POSIX APIs (Unix-only, low-level).\t                                                2.0\n",
    "pprint\t    Pretty-print Python data structures.\t                                            2.0\n",
    "profile\t    Deterministic profiling of Python programs.\t                                        2.0\n",
    "pstats\t    Work with profiling results produced by profile/cProfile.\t                        2.0\n",
    "pty\t        Pseudo-terminal utilities (Unix).\t                                                2.0\n",
    "pyclbr\t    Read module to get class browser information without importing it.\t                2.0\n",
    "pydoc\t    Generate and view Python documentation.\t                                            2.1\n",
    "py_compile\tCompile Python source files to bytecode.\t                                        2.0"
   ]
  },
  {
   "cell_type": "markdown",
   "id": "48f34d3a",
   "metadata": {},
   "source": [
    "Module\t    Description\t                                                                        Introduced\n",
    "queue\t    Thread-safe FIFO/LIFO/priority queues.\t                                            2.6\n",
    "quopri\t    Encode/decode MIME quoted-printable data.\t                                        2.0\n",
    "\n",
    "random\t    Generate pseudo-random numbers for various distributions.\t                        2.0\n",
    "re\t        Regular expression operations for pattern matching in strings.\t                    2.0\n",
    "reprlib\t    Safe string representations for large or recursive structures.\t                    3.0\n",
    "resource\tControl and query system resource limits (Unix).\t                                2.0\n",
    "rlcompleter\tTab-completion support for the interactive interpreter.\t                            2.0\n",
    "runpy\t    Run modules as scripts (like python -m).\t                                        2.5"
   ]
  },
  {
   "cell_type": "markdown",
   "id": "5985c621",
   "metadata": {},
   "source": [
    "Module\t    Description\t                                                                        Introduced\n",
    "sched\t    Event scheduler for running functions at specific times.\t                        2.0\n",
    "secrets\t    Generate cryptographically strong random numbers and tokens.\t                    3.6\n",
    "select\t    Low-level I/O multiplexing (select, poll, epoll, kqueue).\t                        2.0\n",
    "selectors\tHigh-level I/O multiplexing built on select module.\t                                3.4\n",
    "shelve\t    Simple persistent storage for Python objects (dict-like API).\t                    2.0\n",
    "shlex\t    Parse shell-like syntaxes into tokens.\t                                            2.0\n",
    "shutil\t    High-level file operations: copy, move, archive, disk usage.\t                    2.0\n",
    "signal\t    Set handlers for asynchronous signals.\t                                            2.0\n",
    "site\t    Site-specific configuration hook that runs at startup.\t                            2.0\n",
    "smtplib\t    Send emails using the SMTP protocol.\t                                            2.0\n",
    "socket\t    Low-level networking interface.\t                                                    2.0\n",
    "socketserver\tFramework for network servers (TCP/UDP).\t                                    3.0\n",
    "sqlite3\t    Built-in lightweight SQL database (SQLite).\t                                        2.5\n",
    "ssl\t        TLS/SSL wrapper for secure network connections.\t                                    2.6\n",
    "stat\t    Constants and helpers for interpreting os.stat() results.\t                        2.0\n",
    "statistics\tBasic statistics (mean, median, stdev).\t                                            3.4\n",
    "string\t    Common string constants and helpers.\t                                            2.0\n",
    "stringprep\tString preparation for internet protocols (IDNA).\t                                2.3\n",
    "struct\t    Convert between Python values and C structs packed as bytes.\t                    2.0\n",
    "subprocess\tSpawn new processes and connect to their input/output/error pipes.\t                2.4\n",
    "sunau\t    Read and write Sun AU audio files.\t                                                2.0\n",
    "symtable\tAccess the compiler's internal symbol tables.\t                                    2.6\n",
    "sys\t        Access to interpreter variables and functions.\t                                     —\n",
    "sysconfig\tAccess Python's configuration information.\t                                        3.2"
   ]
  },
  {
   "cell_type": "markdown",
   "id": "78a43933",
   "metadata": {},
   "source": [
    "Module\t    Description\t                                                                        Introduced\n",
    "tabnanny\tDetect ambiguous indentation in Python source files.\t                            2.0\n",
    "tarfile\t    Read and write tar archives, including gzip/bz2/xz.\t                                2.3\n",
    "telnetlib\tTelnet client implementation.\t                                                    2.0\n",
    "tempfile\tCreate temporary files and directories safely.\t                                    2.0\n",
    "termios\t    POSIX terminal control (Unix).\t                                                    2.0\n",
    "test\t    Regression tests package for the Python standard library.\t                        2.0\n",
    "textwrap\tWrap and fill text paragraphs.\t                                                    2.3\n",
    "threading\tHigher-level threading interface (locks, events, threads).\t                        2.0\n",
    "time\t    Time access and conversions.\t                                                    —\n",
    "timeit\t    Measure execution time of small code snippets.\t                                    2.3\n",
    "tkinter\t    Standard GUI toolkit (Tk interface) package.\t                                    3.0\n",
    "token\t    Token constants used by the Python tokenizer.\t                                    2.0\n",
    "tokenize\tTurn Python source into tokens (lexical scanner).\t                                2.0\n",
    "tomllib\t    Read TOML files into Python data structures.\t                                    3.11\n",
    "trace\t    Trace program execution and produce coverage reports.\t                            2.0\n",
    "traceback\tPrint or retrieve stack traces.\t                                                    2.0\n",
    "tracemalloc\tTrack memory allocations to find leaks and hotspots.\t                            3.4\n",
    "tty\t        Terminal control functions (Unix).\t                                                2.0\n",
    "turtle\t    Simple graphics library for teaching and fun.\t                                    2.5\n",
    "types\t    Names for built-in types and helper factories.\t                                    2.0\n",
    "typing\t    Type hints and typing helpers for static analysis and tooling.\t                    3.5"
   ]
  },
  {
   "cell_type": "markdown",
   "id": "6365b0c2",
   "metadata": {},
   "source": [
    "Module\t    Description\t                                                                        Introduced\n",
    "unicodedata\tAccess the Unicode Character Database (properties, normalization).\t                2.0\n",
    "unittest\tUnit testing framework (xUnit style) for Python.\t                                2.1\n",
    "urllib\t    Package for working with URLs (requests, parsing, robots).\t                        2.0\n",
    "uuid\t    Generate universally unique identifiers (UUIDs).\t                                2.5\n",
    "\n",
    "venv\t    Create lightweight isolated Python environments.\t                                3.3\n",
    "\n",
    "warnings\tIssue and control warning messages.\t                                                2.0\n",
    "wave\t    Read and write WAV audio files.\t                                                    2.0\n",
    "weakref\t    Weak references to objects (avoid reference cycles).\t                            2.0\n",
    "webbrowser\tOpen URLs in a web browser.                                                     \t2.0\n",
    "wsgiref\t    WSGI utilities and simple reference server for web apps.\t                        2.3"
   ]
  },
  {
   "cell_type": "markdown",
   "id": "cc2ab4f4",
   "metadata": {},
   "source": [
    "Module\t    Description\t                                                                        Introduced\n",
    "xdrlib\t    Pack and unpack XDR data (External Data Representation).\t                        2.0\n",
    "xml\t        XML processing package.\t                                                            2.0\n",
    "xmlrpc\t    XML-RPC client and server package.\t                                                2.2\n",
    "\n",
    "zipapp\t    Create executable Python zip applications.\t                                        3.5\n",
    "zipfile\t    Read and write ZIP archives.\t                                                    2.0\n",
    "zipimport\tImport modules from ZIP archives.\t                                                2.3\n",
    "zlib\t    Compress and decompress data using zlib.\t                                        2.0\n",
    "zoneinfo\tIANA time zone support for datetime.\t                                            3.9"
   ]
  }
 ],
 "metadata": {
  "kernelspec": {
   "display_name": "Python 3",
   "language": "python",
   "name": "python3"
  },
  "language_info": {
   "name": "python",
   "version": "3.13.6"
  }
 },
 "nbformat": 4,
 "nbformat_minor": 5
}
