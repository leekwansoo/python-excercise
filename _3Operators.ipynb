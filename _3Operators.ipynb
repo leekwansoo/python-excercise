{
 "cells": [
  {
   "cell_type": "markdown",
   "id": "a133b52c",
   "metadata": {},
   "source": [
    "## Python Operators\n",
    "\n",
    "# Operators are used to perform operations on variables and values.\n",
    "\n",
    "Python divides the operators in the following groups:\n",
    "\n",
    "    Arithmetic operators\n",
    "    Assignment operators\n",
    "    Comparison operators\n",
    "    Logical operators\n",
    "    Identity operators\n",
    "    Membership operators\n",
    "    Bitwise operators"
   ]
  },
  {
   "cell_type": "markdown",
   "id": "af717720",
   "metadata": {},
   "source": [
    "# Python Arithmetic Operators\n",
    "\n",
    "url: https://www.w3schools.com/python/python_operators.asp\n",
    "\n",
    "Operator\tName\t            Example\t\n",
    "+\t        Addition\t        x + y\t\n",
    "-\t        Subtraction\t        x - y\t\n",
    "*\t        Multiplication\t    x * y\t\n",
    "/\t        Division\t        x / y\t\n",
    "%\t        Modulus\t            x % y\t\n",
    "**\t        Exponentiation\t    x ** y\t\n",
    "//\t        Floor division\t    x // y\t\n"
   ]
  },
  {
   "cell_type": "markdown",
   "id": "03a98c5c",
   "metadata": {},
   "source": [
    "# Python Assignment Operators\n",
    "\n",
    "url: s://www.w3schools.com/python/python_operators.asp\n",
    "\n",
    "Assignment operators are used to assign values to variables:\n",
    "\n",
    "Operator\tExample\t        Same As\t\n",
    "=\t        x = 5\t        x = 5\t\n",
    "+=\t        x += 3\t        x = x + 3\t\n",
    "-=\t        x -= 3\t        x = x - 3\t\n",
    "*=\t        x *= 3\t        x = x * 3\t\n",
    "/=\t        x /= 3\t        x = x / 3\t\n",
    "%=\t        x %= 3\t        x = x % 3\t\n",
    "//=\t        x //= 3\t        x = x // 3\t\n",
    "**=\t        x **= 3\t        x = x ** 3\t\n",
    "&=\t        x &= 3\t        x = x & 3\t\n",
    "|=\t        x |= 3\t        x = x | 3\t\n",
    "^=\t        x ^= 3\t        x = x ^ 3\t\n",
    ">>=\t        x >>= 3\t        x = x >> 3\t\n",
    "<<=\t        x <<= 3\t        x = x << 3\t\n",
    ":=\t        print(x := 3)\tx = 3\n",
    "                            print(x)\t\n"
   ]
  },
  {
   "cell_type": "code",
   "execution_count": null,
   "id": "9027737c",
   "metadata": {},
   "outputs": [],
   "source": [
    "# Python Comparison Operators\n",
    "\n",
    "url: https://www.w3schools.com/python/python_operators.asp\n",
    "\n",
    "Comparison operators are used to compare two values:\n",
    "\n",
    "Operator\tName\t                    Example\t\n",
    "==\t        Equal\t                    x == y\t\n",
    "!=\t        Not equal\t                x != y\t\n",
    ">\t        Greater than\t            x > y\t\n",
    "<\t        Less than\t                x < y\t\n",
    ">=\t        Greater than or equal to\tx >= y\t\n",
    "<=\t        Less than or equal to\t    x <= y\n"
   ]
  },
  {
   "cell_type": "markdown",
   "id": "ccd8fe89",
   "metadata": {},
   "source": [
    "# Python Logical Operators\n",
    "\n",
    "url: https://www.w3schools.com/python/python_operators.asp\n",
    "\n",
    "Logical operators are used to combine conditional statements:\n",
    "\n",
    "Operator\tDescription\t                                                Example\t\n",
    "and \t    Returns True if both statements are true\t                x < 5 and  x < 10\t\n",
    "or\t        Returns True if one of the statements is true\t            x < 5 or x < 4\t\n",
    "not\t        Reverse the result, returns False if the result is true\tnot(x < 5 and x < 10)\t\n"
   ]
  },
  {
   "cell_type": "markdown",
   "id": "43ac5e72",
   "metadata": {},
   "source": [
    "# Python Bitwise Operators\n",
    "\n",
    "url: https://www.w3schools.com/python/python_operators.asp\n",
    "\n",
    "Bitwise operators are used to compare (binary) numbers:\n",
    "\n",
    "Operator\tName\t                Description\t                                                    Example\t\n",
    "& \t        AND\t                    Sets each bit to 1 if both bits are 1\t                        x & y\t\n",
    "|\t        OR\t                    Sets each bit to 1 if one of two bits is 1\t                    x | y\t\n",
    "^\t        XOR\t                    Sets each bit to 1 if only one of two bits is 1\t                x ^ y\t    \n",
    "~\t        NOT\t                    Inverts all the bits\t                                        ~x\t\n",
    "<<\t        Zero fill left shift\tShift left by pushing zeros in from the right \n",
    "                                    and let the leftmost bits fall off\t                            x << 2\t\n",
    ">>\t        Signed right shift\t    Shift right by pushing copies of the leftmost bit in \n",
    "                                    from the left, and let the rightmost bits fall off\t            x >> 2"
   ]
  },
  {
   "cell_type": "markdown",
   "id": "0c5fe598",
   "metadata": {},
   "source": [
    "# Operator Precedence\n",
    "\n",
    "url: https://www.w3schools.com/python/python_operators.asp\n",
    "\n",
    "Operator precedence describes the order in which operations are performed."
   ]
  },
  {
   "cell_type": "code",
   "execution_count": 1,
   "id": "c572a479",
   "metadata": {},
   "outputs": [
    {
     "name": "stdout",
     "output_type": "stream",
     "text": [
      "0\n"
     ]
    }
   ],
   "source": [
    "# Example\n",
    "\n",
    "print((6 + 3) - (6 + 3))"
   ]
  },
  {
   "cell_type": "markdown",
   "id": "5e47fa97",
   "metadata": {},
   "source": [
    "Operator\t                Description\t\n",
    "\n",
    "()\t                        Parentheses\t\n",
    "**\t                        Exponentiation\t\n",
    "+x  -x  ~x\t                Unary plus, unary minus, and bitwise NOT\t\n",
    "*  /  //  %\t                Multiplication, division, floor division, and modulus\t\n",
    "+  -\t                    Addition and subtraction\t\n",
    "<<  >>\t                    Bitwise left and right shifts\t\n",
    "&\t                        Bitwise AND\t\n",
    "^\t                        Bitwise XOR\t\n",
    "|\t                        Bitwise OR\t\n",
    "==  !=  >  >=  <  <=  is is \n",
    "not  in  not in \t        Comparisons, identity, and membership operators\t\n",
    "not\t                        Logical NOT\t\n",
    "and\t                        AND\t\n",
    "or\t                        OR"
   ]
  },
  {
   "cell_type": "markdown",
   "id": "c99cafac",
   "metadata": {},
   "source": [
    "# Python Lists operation\n",
    "\n",
    "url: https://www.w3schools.com/python/python_lists.asp\n",
    "\n",
    "Lists are used to store multiple items in a single variable.\n",
    "\n",
    "Lists are one of 4 built-in data types in Python used to store collections of data, \n",
    "the other 3 are Tuple, Set, and Dictionary, all with different qualities and usage.\n",
    "\n",
    "Lists are created using square brackets:\n"
   ]
  },
  {
   "cell_type": "code",
   "execution_count": 2,
   "id": "f4b3ec99",
   "metadata": {},
   "outputs": [
    {
     "name": "stdout",
     "output_type": "stream",
     "text": [
      "['apple', 'banana', 'cherry']\n"
     ]
    }
   ],
   "source": [
    "# Create a List\n",
    "thislist = [\"apple\", \"banana\", \"cherry\"]\n",
    "print(thislist)"
   ]
  },
  {
   "cell_type": "code",
   "execution_count": 4,
   "id": "e5f98908",
   "metadata": {},
   "outputs": [
    {
     "name": "stdout",
     "output_type": "stream",
     "text": [
      "4\n"
     ]
    }
   ],
   "source": [
    "# List length\n",
    "\n",
    "thislist = [\"apple\", \"banana\", \"cherry\", \"cherry\"]\n",
    "print(len(thislist))"
   ]
  },
  {
   "cell_type": "code",
   "execution_count": 9,
   "id": "ba18034a",
   "metadata": {},
   "outputs": [
    {
     "name": "stdout",
     "output_type": "stream",
     "text": [
      "7 \n",
      "\n",
      "<class 'list'>\n"
     ]
    }
   ],
   "source": [
    "# List Items - Data Types\n",
    "# List items can be of any data type:\n",
    "# A list can contain different data types:\n",
    "\n",
    "list1 = [\"apple\", \"banana\", \"cherry\"]\n",
    "list2 = [1, 5, 7, 9, 3]\n",
    "list3 = [True, False, False]\n",
    "list4 = [\"apple\", \"banana\", \"cherry\", 1, 5, 7, 9, 3, True]\n",
    "\n",
    "print(list4[5], \"\\n\")\n",
    "\n",
    "# What is the data type of a list?\n",
    "mylist = [\"apple\", \"banana\", \"cherry\"]\n",
    "print(type(mylist))"
   ]
  },
  {
   "cell_type": "code",
   "execution_count": null,
   "id": "18470ceb",
   "metadata": {},
   "outputs": [
    {
     "name": "stdout",
     "output_type": "stream",
     "text": [
      "['apple', 'banana', 'cherry']\n"
     ]
    }
   ],
   "source": [
    "# The list() Constructor\n",
    "# It is also possible to use the list() constructor when creating a new list.\n",
    "thislist = list((\"apple\", \"banana\", \"cherry\"))  ## note the double round-brackets\n",
    "print(thislist)"
   ]
  },
  {
   "cell_type": "markdown",
   "id": "f965d4f7",
   "metadata": {},
   "source": [
    "## Python Collections (Arrays)\n",
    "There are four collection data types in the Python programming language:\n",
    "\n",
    "    **List** is a collection which is ordered and changeable. Allows duplicate members.\n",
    "    **Tuple** is a collection which is ordered and unchangeable. Allows duplicate members.\n",
    "    **Set** is a collection which is unordered, unchangeable*, and unindexed. No duplicate members.\n",
    "    **Dictionary** is a collection which is ordered** and changeable. No duplicate members."
   ]
  },
  {
   "cell_type": "code",
   "execution_count": null,
   "id": "41380e87",
   "metadata": {},
   "outputs": [
    {
     "name": "stdout",
     "output_type": "stream",
     "text": [
      "banana \n",
      "\n",
      "banana \n",
      "\n"
     ]
    }
   ],
   "source": [
    "## Access List Items\n",
    "\n",
    "thislist = [\"apple\", \"banana\", \"cherry\"]\n",
    "print(thislist[1], \"\\n\")  # index number start from 0\n",
    "\n",
    "# negative indexing means start from the end\n",
    "print(thislist[-1], \"\\n\")  # -1 refers to the last item"
   ]
  },
  {
   "cell_type": "code",
   "execution_count": 15,
   "id": "bead1e73",
   "metadata": {},
   "outputs": [
    {
     "name": "stdout",
     "output_type": "stream",
     "text": [
      "['cherry', 'orange', 'kiwi'] \n",
      "\n",
      "['apple', 'banana', 'cherry', 'orange'] \n",
      "\n"
     ]
    }
   ],
   "source": [
    "# Range of indexes\n",
    "# You can specify a range of indexes by specifying where to start and where to end the range\n",
    "# When specifying a range, the return value will be a new list with the specified items.\n",
    "\n",
    "thislist = [\"apple\", \"banana\", \"cherry\", \"orange\", \"kiwi\", \"melon\", \"mango\"]\n",
    "print(thislist[2:5], \"\\n\")\n",
    "\n",
    "print(thislist[:4], \"\\n\")  # items from the beginning to, but NOT including, \"kiwi\"\n"
   ]
  },
  {
   "cell_type": "code",
   "execution_count": 17,
   "id": "7ca48658",
   "metadata": {},
   "outputs": [
    {
     "name": "stdout",
     "output_type": "stream",
     "text": [
      "['orange', 'kiwi', 'melon']\n"
     ]
    }
   ],
   "source": [
    "# Range of Negative Indexes\n",
    "# SSpecify negative indexes if you want to start the search from the end of the list:\n",
    "\n",
    "thislist = [\"apple\", \"banana\", \"cherry\", \"orange\", \"kiwi\", \"melon\", \"mango\"]\n",
    "print(thislist[-4:-1])"
   ]
  },
  {
   "cell_type": "code",
   "execution_count": 20,
   "id": "956ea3c1",
   "metadata": {},
   "outputs": [
    {
     "name": "stdout",
     "output_type": "stream",
     "text": [
      "['orange', 'kiwi', 'melon', 'mango']\n"
     ]
    }
   ],
   "source": [
    "thislist = [\"apple\", \"banana\", \"cherry\", \"orange\", \"kiwi\", \"melon\", \"mango\"]\n",
    "print(thislist[-4:])"
   ]
  },
  {
   "cell_type": "code",
   "execution_count": null,
   "id": "74f3f88f",
   "metadata": {},
   "outputs": [
    {
     "name": "stdout",
     "output_type": "stream",
     "text": [
      "Yes, 'apple' is in the fruits list\n"
     ]
    }
   ],
   "source": [
    "# Check if Item Exists\n",
    "\n",
    "thislist = [\"apple\", \"banana\", \"cherry\"]\n",
    "if \"apple\" in thislist:\n",
    "  print(\"Yes, 'apple' is in the fruits list\")\n",
    "else:\n",
    "  print(\"No, 'apple' is NOT in the fruits list\")"
   ]
  },
  {
   "cell_type": "code",
   "execution_count": 24,
   "id": "0affbdba",
   "metadata": {},
   "outputs": [
    {
     "name": "stdout",
     "output_type": "stream",
     "text": [
      "No, 'tangerine' is NOT in the fruits list\n"
     ]
    }
   ],
   "source": [
    "# Check if Item Exists\n",
    "fruit = \"tangerine\"\n",
    "thislist = [\"apple\", \"banana\", \"cherry\"]\n",
    "if fruit in thislist:\n",
    "  print(f\"Yes, '{fruit}' is in the fruits list\")\n",
    "else:\n",
    "  print(f\"No, '{fruit}' is NOT in the fruits list\")"
   ]
  },
  {
   "cell_type": "code",
   "execution_count": 22,
   "id": "af41cd74",
   "metadata": {},
   "outputs": [
    {
     "name": "stdout",
     "output_type": "stream",
     "text": [
      "True\n"
     ]
    }
   ],
   "source": [
    "a = \"apple\" in thislist\n",
    "print(a)"
   ]
  },
  {
   "cell_type": "code",
   "execution_count": 26,
   "id": "5f9e8240",
   "metadata": {},
   "outputs": [
    {
     "name": "stdout",
     "output_type": "stream",
     "text": [
      "['apple', 'kiwi', 'cherry'] \n",
      "\n"
     ]
    }
   ],
   "source": [
    "# Python - Change List Items\n",
    "\n",
    "thislist = [\"apple\", \"banana\", \"cherry\"]\n",
    "thislist[1] = \"kiwi\"\n",
    "print(thislist, \"\\n\") "
   ]
  },
  {
   "cell_type": "code",
   "execution_count": 27,
   "id": "af1f51b9",
   "metadata": {},
   "outputs": [
    {
     "name": "stdout",
     "output_type": "stream",
     "text": [
      "['apple', 'kiwi', 'melon']\n"
     ]
    }
   ],
   "source": [
    "# Change a Range of Item Values\n",
    "# To change the value of items within a specific range, define a list with the new values, and refer to the range of index numbers where you want to insert the new values:\n",
    "thislist = [\"apple\", \"banana\", \"cherry\"]\n",
    "thislist[1:3] = [\"kiwi\", \"melon\"]\n",
    "print(thislist)"
   ]
  },
  {
   "cell_type": "code",
   "execution_count": 30,
   "id": "aa94ab4d",
   "metadata": {},
   "outputs": [
    {
     "name": "stdout",
     "output_type": "stream",
     "text": [
      "['apple', 'watermelon', 'papaya']\n"
     ]
    }
   ],
   "source": [
    "thislist = [\"apple\", \"banana\", \"cherry\"]\n",
    "thislist[1:3] = [\"watermelon\", \"papaya\"]\n",
    "print(thislist)"
   ]
  },
  {
   "cell_type": "code",
   "execution_count": 29,
   "id": "75dbd96c",
   "metadata": {},
   "outputs": [
    {
     "name": "stdout",
     "output_type": "stream",
     "text": [
      "['apple', 'banana', 'cherry', 'watermelon', 'papaya']\n"
     ]
    }
   ],
   "source": [
    "thislist = [\"apple\", \"banana\", \"cherry\"]\n",
    "thislist[3:5] = [\"watermelon\", \"papaya\"]  # if you try to insert more items than you replace, the new items will be inserted where you specified, and the remaining items will move accordingly\n",
    "print(thislist)"
   ]
  },
  {
   "cell_type": "code",
   "execution_count": 32,
   "id": "3180b6b5",
   "metadata": {},
   "outputs": [
    {
     "name": "stdout",
     "output_type": "stream",
     "text": [
      "['apple', 'banana', 'cherry', 'orange'] \n",
      "\n",
      "['apple', 'banana', 'cherry', 'orange', 'strawberry'] \n",
      "\n"
     ]
    }
   ],
   "source": [
    "# Append Items\n",
    "# To add an item to the end of the list, use the append() method:\n",
    "\n",
    "thislist = [\"apple\", \"banana\", \"cherry\"]\n",
    "thislist.append(\"orange\")\n",
    "print(thislist, \"\\n\")\n",
    "thislist.append(\"strawberry\")\n",
    "print(thislist, \"\\n\")"
   ]
  },
  {
   "cell_type": "code",
   "execution_count": 33,
   "id": "98b1c73c",
   "metadata": {},
   "outputs": [
    {
     "name": "stdout",
     "output_type": "stream",
     "text": [
      "['apple', 'orange', 'banana', 'cherry']\n"
     ]
    }
   ],
   "source": [
    "# Insert Items\n",
    "# To insert a list item at a specified index, use the insert() method.\n",
    "\n",
    "thislist = [\"apple\", \"banana\", \"cherry\"]\n",
    "thislist.insert(1, \"orange\")\n",
    "print(thislist)"
   ]
  },
  {
   "cell_type": "code",
   "execution_count": 35,
   "id": "1eaa560d",
   "metadata": {},
   "outputs": [
    {
     "name": "stdout",
     "output_type": "stream",
     "text": [
      "['apple', 'banana', 'cherry', 'mango', 'pineapple', 'papaya'] \n",
      "\n",
      "['apple', 'banana', 'cherry', 'mango', 'pineapple', 'papaya', 'mango', 'pineapple', 'papaya']\n"
     ]
    }
   ],
   "source": [
    "# Extend List\n",
    "# o append elements from another list to the current list, use the extend() method.\n",
    "\n",
    "thislist = [\"apple\", \"banana\", \"cherry\"]\n",
    "tropical = [\"mango\", \"pineapple\", \"papaya\"]\n",
    "thislist.extend(tropical)\n",
    "print(thislist, \"\\n\")\n",
    "a = thislist + tropical\n",
    "print(a)"
   ]
  },
  {
   "cell_type": "code",
   "execution_count": 36,
   "id": "4764ec47",
   "metadata": {},
   "outputs": [
    {
     "name": "stdout",
     "output_type": "stream",
     "text": [
      "['apple', 'banana', 'cherry', 'kiwi', 'orange'] \n",
      "\n"
     ]
    }
   ],
   "source": [
    "# Add Any Iterable\n",
    "# The extend() method does not have to append lists, you can add any iterable object (tuples, sets, dictionaries etc.).\n",
    "\n",
    "thislist = [\"apple\", \"banana\", \"cherry\"]\n",
    "thistuple = (\"kiwi\", \"orange\")\n",
    "thislist.extend(thistuple)\n",
    "print(thislist, \"\\n\")"
   ]
  },
  {
   "cell_type": "code",
   "execution_count": 37,
   "id": "f5a56859",
   "metadata": {},
   "outputs": [
    {
     "name": "stdout",
     "output_type": "stream",
     "text": [
      "['apple', 'cherry'] \n",
      "\n"
     ]
    }
   ],
   "source": [
    "# Remove List Items\n",
    "\n",
    "thislist = [\"apple\", \"banana\", \"cherry\"]\n",
    "thislist.remove(\"banana\")\n",
    "print(thislist, \"\\n\")"
   ]
  },
  {
   "cell_type": "code",
   "execution_count": 40,
   "id": "93338ee8",
   "metadata": {},
   "outputs": [
    {
     "name": "stdout",
     "output_type": "stream",
     "text": [
      "['apple', 'cherry', 'banana', 'kiwi'] \n",
      "\n"
     ]
    }
   ],
   "source": [
    "# Remove the first occurrence of \"banana\" if same item appears more than once\n",
    "\n",
    "thislist = [\"apple\", \"banana\", \"cherry\", \"banana\", \"kiwi\"]\n",
    "thislist.remove(\"banana\")\n",
    "print(thislist, \"\\n\")"
   ]
  },
  {
   "cell_type": "code",
   "execution_count": null,
   "id": "adbcbf26",
   "metadata": {},
   "outputs": [
    {
     "name": "stdout",
     "output_type": "stream",
     "text": [
      "['apple', 'cherry'] \n",
      "\n"
     ]
    }
   ],
   "source": [
    "# \n",
    "\n",
    "thislist = [\"apple\", \"banana\", \"cherry\"]\n",
    "thislist.remove(thislist[1])\n",
    "print(thislist, \"\\n\")"
   ]
  },
  {
   "cell_type": "code",
   "execution_count": 42,
   "id": "60628d6f",
   "metadata": {},
   "outputs": [
    {
     "name": "stdout",
     "output_type": "stream",
     "text": [
      "['apple', 'cherry'] \n",
      "\n",
      "['apple'] \n",
      "\n"
     ]
    }
   ],
   "source": [
    "# Remove Specified Index\n",
    "# The pop() method removes the specified index.\n",
    "thislist = [\"apple\", \"banana\", \"cherry\"]\n",
    "thislist.pop(1)\n",
    "print(thislist, \"\\n\")\n",
    "thislist.pop(1)\n",
    "print(thislist, \"\\n\")"
   ]
  },
  {
   "cell_type": "code",
   "execution_count": 43,
   "id": "b0e13f19",
   "metadata": {},
   "outputs": [
    {
     "name": "stdout",
     "output_type": "stream",
     "text": [
      "['apple', 'banana'] \n",
      "\n",
      "['apple'] \n",
      "\n"
     ]
    }
   ],
   "source": [
    "# f you do not specify the index, the pop() method removes the last item.\n",
    "\n",
    "thislist = [\"apple\", \"banana\", \"cherry\"]\n",
    "thislist.pop()\n",
    "print(thislist, \"\\n\")\n",
    "\n",
    "thislist.pop()\n",
    "print(thislist, \"\\n\")"
   ]
  },
  {
   "cell_type": "code",
   "execution_count": 44,
   "id": "265ba0c2",
   "metadata": {},
   "outputs": [
    {
     "name": "stdout",
     "output_type": "stream",
     "text": [
      "['banana', 'cherry'] \n",
      "\n"
     ]
    }
   ],
   "source": [
    "# The del keyword also removes the specified index:\n",
    "\n",
    "thislist = [\"apple\", \"banana\", \"cherry\"]\n",
    "del thislist[0]\n",
    "print(thislist, \"\\n\")"
   ]
  },
  {
   "cell_type": "code",
   "execution_count": 47,
   "id": "10049a98",
   "metadata": {},
   "outputs": [
    {
     "name": "stdout",
     "output_type": "stream",
     "text": [
      "['apple', 'banana', 'cherry'] \n",
      "\n"
     ]
    },
    {
     "ename": "NameError",
     "evalue": "name 'thislist' is not defined",
     "output_type": "error",
     "traceback": [
      "\u001b[31m---------------------------------------------------------------------------\u001b[39m",
      "\u001b[31mNameError\u001b[39m                                 Traceback (most recent call last)",
      "\u001b[36mCell\u001b[39m\u001b[36m \u001b[39m\u001b[32mIn[47]\u001b[39m\u001b[32m, line 5\u001b[39m\n\u001b[32m      3\u001b[39m \u001b[38;5;28mprint\u001b[39m(thislist, \u001b[33m\"\u001b[39m\u001b[38;5;130;01m\\n\u001b[39;00m\u001b[33m\"\u001b[39m)\n\u001b[32m      4\u001b[39m \u001b[38;5;28;01mdel\u001b[39;00m thislist\n\u001b[32m----> \u001b[39m\u001b[32m5\u001b[39m \u001b[38;5;28mprint\u001b[39m(\u001b[43mthislist\u001b[49m, \u001b[33m\"\u001b[39m\u001b[38;5;130;01m\\n\u001b[39;00m\u001b[33m\"\u001b[39m)\n",
      "\u001b[31mNameError\u001b[39m: name 'thislist' is not defined"
     ]
    }
   ],
   "source": [
    "# Delete the entire list:\n",
    "thislist = [\"apple\", \"banana\", \"cherry\"]\n",
    "print(thislist, \"\\n\")\n",
    "del thislist\n",
    "print(thislist, \"\\n\")"
   ]
  },
  {
   "cell_type": "code",
   "execution_count": 48,
   "id": "2021cd05",
   "metadata": {},
   "outputs": [
    {
     "name": "stdout",
     "output_type": "stream",
     "text": [
      "[] \n",
      "\n"
     ]
    }
   ],
   "source": [
    "# Clear the list\n",
    "\n",
    "thislist = [\"apple\", \"banana\", \"cherry\"]\n",
    "thislist.clear()\n",
    "print(thislist, \"\\n\")"
   ]
  },
  {
   "cell_type": "markdown",
   "id": "f0c5bf59",
   "metadata": {},
   "source": [
    "## Python - Loop Lists\n",
    "url: https://www.w3schools.com/python/python_lists_loop.asp\n",
    "\n",
    "Loop Through the Index Numbers\n",
    "You can also loop through the list items by referring to their index number.\n",
    "\n",
    "Use the range() and len() functions to create a suitable iterable."
   ]
  },
  {
   "cell_type": "code",
   "execution_count": 49,
   "id": "8c370280",
   "metadata": {},
   "outputs": [
    {
     "name": "stdout",
     "output_type": "stream",
     "text": [
      "apple \n",
      "\n",
      "banana \n",
      "\n",
      "cherry \n",
      "\n"
     ]
    }
   ],
   "source": [
    "# Print all items in the list, one by one:\n",
    "\n",
    "thislist = [\"apple\", \"banana\", \"cherry\"]\n",
    "for x in thislist:\n",
    "  print(x, \"\\n\")"
   ]
  },
  {
   "cell_type": "code",
   "execution_count": 50,
   "id": "9afce3d5",
   "metadata": {},
   "outputs": [
    {
     "name": "stdout",
     "output_type": "stream",
     "text": [
      "apple \n",
      "\n",
      "banana \n",
      "\n",
      "cherry \n",
      "\n"
     ]
    }
   ],
   "source": [
    "# You can loop through the list items by referring to their index number.\n",
    "\n",
    "# Use the range() and len() functions to create a suitable iterable.\n",
    "\n",
    "thislist = [\"apple\", \"banana\", \"cherry\"]\n",
    "for i in range(len(thislist)):\n",
    "  print(thislist[i], \"\\n\")"
   ]
  },
  {
   "cell_type": "code",
   "execution_count": 51,
   "id": "411b721c",
   "metadata": {},
   "outputs": [
    {
     "name": "stdout",
     "output_type": "stream",
     "text": [
      "apple \n",
      "\n",
      "banana \n",
      "\n",
      "cherry \n",
      "\n"
     ]
    }
   ],
   "source": [
    "# You can loop through the list items by using a while loop.\n",
    "\n",
    "# Use the len() function to determine the length of the list, then start at 0 and loop your way through the list items by referring to their indexes.\n",
    "\n",
    "# Remember to increase the index by 1 after each iteration.\n",
    "\n",
    "thislist = [\"apple\", \"banana\", \"cherry\"]\n",
    "i = 0\n",
    "while i < len(thislist):\n",
    "  print(thislist[i], \"\\n\")\n",
    "  i = i + 1"
   ]
  },
  {
   "cell_type": "code",
   "execution_count": 52,
   "id": "f86d3a5c",
   "metadata": {},
   "outputs": [
    {
     "name": "stdout",
     "output_type": "stream",
     "text": [
      "apple \n",
      "\n",
      "banana \n",
      "\n",
      "cherry \n",
      "\n"
     ]
    },
    {
     "data": {
      "text/plain": [
       "[None, None, None]"
      ]
     },
     "execution_count": 52,
     "metadata": {},
     "output_type": "execute_result"
    }
   ],
   "source": [
    "# Looping Using List Comprehension\n",
    "\n",
    "thislist = [\"apple\", \"banana\", \"cherry\"]\n",
    "[print(x, \"\\n\") for x in thislist]"
   ]
  },
  {
   "cell_type": "code",
   "execution_count": null,
   "id": "24bca14c",
   "metadata": {},
   "outputs": [],
   "source": [
    "# List Comprehension\n",
    "\n",
    "url: https://www.w3schools.com/python/python_lists_comprehension.asp\n",
    "\n",
    "# skipped intentionally"
   ]
  },
  {
   "cell_type": "markdown",
   "id": "7393cda6",
   "metadata": {},
   "source": [
    "## Python - Sort Lists\n",
    "\n",
    "url: https://www.w3schools.com/python/python_lists_sort.asp"
   ]
  },
  {
   "cell_type": "code",
   "execution_count": 53,
   "id": "54d2b86b",
   "metadata": {},
   "outputs": [
    {
     "name": "stdout",
     "output_type": "stream",
     "text": [
      "['banana', 'kiwi', 'mango', 'orange', 'pineapple']\n"
     ]
    }
   ],
   "source": [
    "# Sort List Alphanumerically\n",
    "\n",
    "thislist = [\"orange\", \"mango\", \"kiwi\", \"pineapple\", \"banana\"]\n",
    "thislist.sort()\n",
    "print(thislist)"
   ]
  },
  {
   "cell_type": "code",
   "execution_count": 54,
   "id": "2e1fb91b",
   "metadata": {},
   "outputs": [
    {
     "name": "stdout",
     "output_type": "stream",
     "text": [
      "[23, 50, 65, 82, 100]\n"
     ]
    }
   ],
   "source": [
    "# Sort the list numerically:\n",
    "thislist = [100, 50, 65, 82, 23]\n",
    "thislist.sort()\n",
    "print(thislist)"
   ]
  },
  {
   "cell_type": "code",
   "execution_count": 56,
   "id": "c060964d",
   "metadata": {},
   "outputs": [
    {
     "name": "stdout",
     "output_type": "stream",
     "text": [
      "['pineapple', 'orange', 'mango', 'kiwi', 'banana'] \n",
      "\n",
      "[100, 82, 65, 50, 23] \n",
      "\n"
     ]
    }
   ],
   "source": [
    "# Sort Descending\n",
    "thislist = [\"orange\", \"mango\", \"kiwi\", \"pineapple\", \"banana\"]\n",
    "thislist.sort(reverse = True)\n",
    "print(thislist, \"\\n\")\n",
    "\n",
    "thislist = [100, 50, 65, 82, 23]\n",
    "thislist.sort(reverse = True)\n",
    "print(thislist, \"\\n\")"
   ]
  },
  {
   "cell_type": "markdown",
   "id": "8c5f6ce0",
   "metadata": {},
   "source": [
    "## Customize Sort Function\n",
    "You can also customize your own function by using the keyword argument key = function.\n",
    "\n",
    "The function will return a number that will be used to sort the list (the lowest number first):"
   ]
  },
  {
   "cell_type": "code",
   "execution_count": 57,
   "id": "fd35ec07",
   "metadata": {},
   "outputs": [
    {
     "name": "stdout",
     "output_type": "stream",
     "text": [
      "[50, 65, 23, 82, 100] \n",
      "\n"
     ]
    }
   ],
   "source": [
    "# Sort the list based on how close the number is to 50:\n",
    "\n",
    "def myfunc(n):\n",
    "  return abs(n - 50)\n",
    "\n",
    "thislist = [100, 50, 65, 82, 23]\n",
    "thislist.sort(key = myfunc)\n",
    "print(thislist, \"\\n\")"
   ]
  },
  {
   "cell_type": "code",
   "execution_count": 59,
   "id": "26596874",
   "metadata": {},
   "outputs": [
    {
     "name": "stdout",
     "output_type": "stream",
     "text": [
      "['Kiwi', 'Orange', 'banana', 'cherry'] \n",
      "\n",
      "['banana', 'cherry', 'Kiwi', 'Orange'] \n",
      "\n"
     ]
    }
   ],
   "source": [
    "# By default the sort() method is case sensitive, resulting in all capital letters being sorted before lower case letters:\n",
    "# Case sensitive sorting can give an unexpected result:\n",
    "\n",
    "thislist = [\"banana\", \"Orange\", \"Kiwi\", \"cherry\"]\n",
    "thislist.sort()\n",
    "print(thislist, \"\\n\")\n",
    "\n",
    "thislist = [\"banana\", \"Orange\", \"Kiwi\", \"cherry\"]\n",
    "thislist.sort(key = str.lower)\n",
    "print(thislist, \"\\n\")"
   ]
  },
  {
   "cell_type": "code",
   "execution_count": 60,
   "id": "8e629274",
   "metadata": {},
   "outputs": [
    {
     "name": "stdout",
     "output_type": "stream",
     "text": [
      "['cherry', 'Kiwi', 'Orange', 'banana'] \n",
      "\n"
     ]
    }
   ],
   "source": [
    "# Reverse the order of the list items\n",
    "\n",
    "thislist = [\"banana\", \"Orange\", \"Kiwi\", \"cherry\"]\n",
    "thislist.reverse()\n",
    "print(thislist, \"\\n\")"
   ]
  },
  {
   "cell_type": "markdown",
   "id": "848565e7",
   "metadata": {},
   "source": [
    "# Python - Copy Lists\n",
    "\n",
    "url: https://www.w3schools.com/python/python_lists_copy.asp\n",
    "\n",
    "You cannot copy a list simply by typing list2 = list1, because: list2 will only be a reference to list1, and changes made in list1 will automatically also be made in list2.\n",
    "\n",
    "you can use the built-in List method copy() to copy a list."
   ]
  },
  {
   "cell_type": "code",
   "execution_count": 61,
   "id": "42cf4c07",
   "metadata": {},
   "outputs": [
    {
     "name": "stdout",
     "output_type": "stream",
     "text": [
      "['apple', 'banana', 'cherry'] \n",
      "\n"
     ]
    }
   ],
   "source": [
    "# Make a copy of a list with the copy() method:\n",
    "\n",
    "thislist = [\"apple\", \"banana\", \"cherry\"]\n",
    "mylist = thislist.copy()\n",
    "print(mylist, \"\\n\")"
   ]
  },
  {
   "cell_type": "code",
   "execution_count": 62,
   "id": "45a44f99",
   "metadata": {},
   "outputs": [
    {
     "name": "stdout",
     "output_type": "stream",
     "text": [
      "['apple', 'banana', 'cherry'] \n",
      "\n"
     ]
    }
   ],
   "source": [
    "# Use the slice Operator\n",
    "# You can also make a copy of a list by using the : (slice) operator.\n",
    "\n",
    "thislist = [\"apple\", \"banana\", \"cherry\"]\n",
    "mylist = thislist[:]\n",
    "print(mylist, \"\\n\")"
   ]
  },
  {
   "cell_type": "code",
   "execution_count": 63,
   "id": "03ebd606",
   "metadata": {},
   "outputs": [
    {
     "name": "stdout",
     "output_type": "stream",
     "text": [
      "['a', 'b', 'c', 'd', 'e', 'f'] \n",
      "\n"
     ]
    }
   ],
   "source": [
    "# Python - Join Lists\n",
    "# There are several ways to join, or concatenate, two or more lists in Python.\n",
    "\n",
    "# One of the easiest way is by using the + operator.\n",
    "\n",
    "list1 = [\"a\", \"b\", \"c\"]\n",
    "list2 = [\"d\", \"e\", \"f\"]\n",
    "list3 = list1 + list2\n",
    "print(list3, \"\\n\")"
   ]
  },
  {
   "cell_type": "code",
   "execution_count": 64,
   "id": "09e120f3",
   "metadata": {},
   "outputs": [
    {
     "name": "stdout",
     "output_type": "stream",
     "text": [
      "['a', 'b', 'c', 1, 2, 3]\n"
     ]
    }
   ],
   "source": [
    "# append list2 into list1\n",
    "ist1 = [\"a\", \"b\" , \"c\"]\n",
    "list2 = [1, 2, 3]\n",
    "\n",
    "for x in list2:\n",
    "  list1.append(x)\n",
    "\n",
    "print(list1)"
   ]
  },
  {
   "cell_type": "code",
   "execution_count": 65,
   "id": "b6acf7cd",
   "metadata": {},
   "outputs": [
    {
     "name": "stdout",
     "output_type": "stream",
     "text": [
      "['a', 'b', 'c', 1, 2, 3]\n"
     ]
    }
   ],
   "source": [
    "# Use the extend() method to add list2 at the end of list1:\n",
    "\n",
    "list1 = [\"a\", \"b\" , \"c\"]\n",
    "list2 = [1, 2, 3]\n",
    "\n",
    "list1.extend(list2)\n",
    "print(list1)"
   ]
  },
  {
   "cell_type": "markdown",
   "id": "793d5047",
   "metadata": {},
   "source": [
    "## List Methods\n",
    "Python has a set of built-in methods that you can use on lists.\n",
    "\n",
    "Method\t        Description\n",
    "append()\t    Adds an element at the end of the list\n",
    "clear()\t        Removes all the elements from the list\n",
    "copy()\t        Returns a copy of the list\n",
    "count()\t        Returns the number of elements with the specified value\n",
    "extend()\t    Add the elements of a list (or any iterable), to the end of the current list\n",
    "index()\t        Returns the index of the first element with the specified value\n",
    "insert()\t    Adds an element at the specified position\n",
    "pop()\t        Removes the element at the specified position\n",
    "remove()\t    Removes the item with the specified value\n",
    "reverse()\t    Reverses the order of the list\n",
    "sort()\t        Sorts the list"
   ]
  },
  {
   "cell_type": "markdown",
   "id": "a7687904",
   "metadata": {},
   "source": [
    "## Python Tuples\n",
    "\n",
    "url: https://www.w3schools.com/python/python_tuples.asp\n",
    "\n",
    "Tuple\n",
    "Tuples are used to store multiple items in a single variable.\n",
    "\n",
    "Tuple is one of 4 built-in data types in Python used to store collections of data, \n",
    "the other 3 are List, Set, and Dictionary, all with different qualities and usage.\n",
    "\n",
    "A tuple is a collection which is ordered and unchangeable.: once set that can not be changed\n",
    "\n",
    "Tuples are written with round brackets.\n",
    "\n",
    "Tuple items are ordered, unchangeable, and allow duplicate values.\n",
    "\n",
    "Tuple items are indexed, the first item has index [0], the second item has index [1] etc.\n",
    "\n",
    "Tuples are unchangeable, meaning that we cannot change, add or remove items after the tuple has been created."
   ]
  },
  {
   "cell_type": "code",
   "execution_count": null,
   "id": "50b05050",
   "metadata": {},
   "outputs": [
    {
     "name": "stdout",
     "output_type": "stream",
     "text": [
      "('apple', 'banana', 'cherry') \n",
      "\n"
     ]
    }
   ],
   "source": [
    "# Create a Tuple\n",
    "\n",
    "thistuple = (\"apple\", \"banana\", \"cherry\") # note the round-brackets\n",
    "print(thistuple, \"\\n\")"
   ]
  },
  {
   "cell_type": "code",
   "execution_count": null,
   "id": "863ae8e4",
   "metadata": {},
   "outputs": [
    {
     "name": "stdout",
     "output_type": "stream",
     "text": [
      "('apple', 'banana', 'cherry', 'apple', 'cherry') \n",
      "\n"
     ]
    }
   ],
   "source": [
    "# Tuple items are ordered, unchangeable, and allow duplicate values.\n",
    "\n",
    "thistuple = (\"apple\", \"banana\", \"cherry\", \"apple\", \"cherry\")\n",
    "print(thistuple, \"\\n\")"
   ]
  },
  {
   "cell_type": "code",
   "execution_count": 68,
   "id": "d8dcf53b",
   "metadata": {},
   "outputs": [
    {
     "name": "stdout",
     "output_type": "stream",
     "text": [
      "3 \n",
      "\n"
     ]
    }
   ],
   "source": [
    "# Tuple Length\n",
    "thistuple = (\"apple\", \"banana\", \"cherry\")\n",
    "\n",
    "print(len(thistuple), \"\\n\")\n"
   ]
  },
  {
   "cell_type": "code",
   "execution_count": 69,
   "id": "83a3dbe7",
   "metadata": {},
   "outputs": [
    {
     "name": "stdout",
     "output_type": "stream",
     "text": [
      "<class 'tuple'>\n",
      "<class 'str'>\n"
     ]
    }
   ],
   "source": [
    "# Create Tuple With One Item\n",
    "thistuple = (\"apple\",)\n",
    "print(type(thistuple))\n",
    "\n",
    "#NOT a tuple\n",
    "thistuple = (\"apple\")\n",
    "print(type(thistuple))"
   ]
  },
  {
   "cell_type": "code",
   "execution_count": 72,
   "id": "2f854a25",
   "metadata": {},
   "outputs": [],
   "source": [
    "# Tuple items can be of any data type:\n",
    "tuple1 = (\"apple\", \"banana\", \"cherry\")\n",
    "tuple2 = (1, 5, 7, 9, 3)\n",
    "tuple3 = (True, False, False)\n",
    "\n",
    "# A tuple can contain different data types:\n",
    "\n",
    "tuple4 = (\"abc\", 34, True, 40, \"male\")"
   ]
  },
  {
   "cell_type": "code",
   "execution_count": 73,
   "id": "344cb9cc",
   "metadata": {},
   "outputs": [
    {
     "name": "stdout",
     "output_type": "stream",
     "text": [
      "<class 'tuple'> \n",
      "\n"
     ]
    }
   ],
   "source": [
    "mytuple = (\"apple\", \"banana\", \"cherry\")\n",
    "print(type(mytuple), \"\\n\")"
   ]
  },
  {
   "cell_type": "code",
   "execution_count": 74,
   "id": "bea0cbc1",
   "metadata": {},
   "outputs": [
    {
     "name": "stdout",
     "output_type": "stream",
     "text": [
      "('apple', 'banana', 'cherry') \n",
      "\n"
     ]
    }
   ],
   "source": [
    "# Tuple constructor\n",
    "\n",
    "thistuple = tuple((\"apple\", \"banana\", \"cherry\")) # note the double round-brackets\n",
    "print(thistuple, \"\\n\")"
   ]
  },
  {
   "cell_type": "code",
   "execution_count": 78,
   "id": "22168c8f",
   "metadata": {},
   "outputs": [
    {
     "name": "stdout",
     "output_type": "stream",
     "text": [
      "banana \n",
      "\n",
      "cherry \n",
      "\n"
     ]
    }
   ],
   "source": [
    "# Accessing tuple items\n",
    "\n",
    "thistuple = (\"apple\", \"banana\", \"cherry\")\n",
    "print(thistuple[1], \"\\n\")\n",
    "print(thistuple[-1], \"\\n\")\n",
    "\n"
   ]
  },
  {
   "cell_type": "code",
   "execution_count": 81,
   "id": "ce4c4b73",
   "metadata": {},
   "outputs": [
    {
     "name": "stdout",
     "output_type": "stream",
     "text": [
      "('cherry', 'orange', 'kiwi') \n",
      "\n",
      "('apple', 'banana', 'cherry', 'orange') \n",
      "\n",
      "('cherry', 'orange', 'kiwi', 'melon', 'mango') \n",
      "\n"
     ]
    }
   ],
   "source": [
    "# Range of indexes\n",
    "# You can specify a range of indexes by specifying where to start and where to end the range\n",
    "\n",
    "thistuple = (\"apple\", \"banana\", \"cherry\", \"orange\", \"kiwi\", \"melon\", \"mango\")\n",
    "print(thistuple[2:5], \"\\n\")\n",
    "\n",
    "print(thistuple[:4], \"\\n\")  # items from the beginning to, but NOT including, \"kiwi\"\n",
    "\n",
    "# This example returns the items from \"cherry\" and to the end:\n",
    "print(thistuple[2:], \"\\n\")"
   ]
  },
  {
   "cell_type": "code",
   "execution_count": null,
   "id": "085a900d",
   "metadata": {},
   "outputs": [
    {
     "name": "stdout",
     "output_type": "stream",
     "text": [
      "mango \n",
      "\n",
      "('orange', 'kiwi', 'melon') \n",
      "\n"
     ]
    }
   ],
   "source": [
    "# Range of negative indexes\n",
    "# Specify negative indexes if you want to start the search from the end of the tuple:\n",
    "\n",
    "thistuple = (\"apple\", \"banana\", \"cherry\", \"orange\", \"kiwi\", \"melon\", \"mango\")\n",
    "print(thistuple[-1], \"\\n\")\n",
    "\n",
    "print(thistuple[-4:-1], \"\\n\") # print items from index -4 to -1 (but NOT including -1)"
   ]
  },
  {
   "cell_type": "code",
   "execution_count": 84,
   "id": "43da3cb9",
   "metadata": {},
   "outputs": [
    {
     "name": "stdout",
     "output_type": "stream",
     "text": [
      "Yes, 'banana' is in the fruits tuple\n"
     ]
    }
   ],
   "source": [
    "# Check if Item Exists\n",
    "# To determine if a specified item is present in a tuple use the in keyword:\n",
    "\n",
    "thistuple = (\"apple\", \"banana\", \"cherry\")\n",
    "if \"banana\" in thistuple:\n",
    "    print(\"Yes, 'banana' is in the fruits tuple\")"
   ]
  },
  {
   "cell_type": "markdown",
   "id": "8b381989",
   "metadata": {},
   "source": [
    "## Python - Update Tuples\n",
    "Tuples are unchangeable, meaning that you cannot change, add, or remove items once the tuple is created.\n",
    "\n",
    "But there are some workarounds.\n",
    "\n",
    "Change Tuple Values\n",
    "Once a tuple is created, you cannot change its values. Tuples are unchangeable, or immutable as it also is called.\n",
    "\n",
    "But there is a workaround. You can convert the tuple into a list, change the list, and convert the list back into a tuple.\n",
    "\n",
    "\n"
   ]
  },
  {
   "cell_type": "code",
   "execution_count": 85,
   "id": "5f1de338",
   "metadata": {},
   "outputs": [
    {
     "name": "stdout",
     "output_type": "stream",
     "text": [
      "('apple', 'kiwi', 'cherry')\n"
     ]
    }
   ],
   "source": [
    "# Convert the tuple into a list to be able to change it:\n",
    "\n",
    "x = (\"apple\", \"banana\", \"cherry\")\n",
    "y = list(x)\n",
    "y[1] = \"kiwi\"\n",
    "x = tuple(y)\n",
    "\n",
    "print(x)"
   ]
  },
  {
   "cell_type": "code",
   "execution_count": 87,
   "id": "a4b429f3",
   "metadata": {},
   "outputs": [
    {
     "name": "stdout",
     "output_type": "stream",
     "text": [
      "('apple', 'banana', 'cherry', 'orange')\n"
     ]
    }
   ],
   "source": [
    "# Add items into the Tuple\n",
    "# Convert the tuple into a list, add \"orange\", and convert it back into a tuple:\n",
    "\n",
    "thistuple = (\"apple\", \"banana\", \"cherry\")\n",
    "y = list(thistuple)\n",
    "y.append(\"orange\")\n",
    "thistuple = tuple(y)\n",
    "\n",
    "print(thistuple)"
   ]
  },
  {
   "cell_type": "code",
   "execution_count": 88,
   "id": "909e9bc4",
   "metadata": {},
   "outputs": [
    {
     "name": "stdout",
     "output_type": "stream",
     "text": [
      "('apple', 'banana', 'cherry', 'orange')\n"
     ]
    }
   ],
   "source": [
    "# Add tuple to a tuple. You are allowed to add tuples to tuples, so if you want to add one item, (or many), \n",
    "# create a new tuple with the item(s), and add it to the existing tuple:\n",
    "\n",
    "thistuple = (\"apple\", \"banana\", \"cherry\")\n",
    "y = (\"orange\",)\n",
    "thistuple += y\n",
    "\n",
    "print(thistuple)"
   ]
  },
  {
   "cell_type": "markdown",
   "id": "ca3de9b2",
   "metadata": {},
   "source": [
    "## Remove items from Tuple\n",
    "\n",
    "Tuples are unchangeable, so you cannot remove items from it, \n",
    "but you can use the same workaround as we used for changing and adding tuple items:\n",
    "\n"
   ]
  },
  {
   "cell_type": "code",
   "execution_count": 89,
   "id": "6fd0935b",
   "metadata": {},
   "outputs": [
    {
     "name": "stdout",
     "output_type": "stream",
     "text": [
      "('banana', 'cherry')\n"
     ]
    }
   ],
   "source": [
    "# Convert the tuple into a list, remove \"apple\", and convert it back into a tuple:\n",
    "\n",
    "thistuple = (\"apple\", \"banana\", \"cherry\")\n",
    "y = list(thistuple)\n",
    "y.remove(\"apple\")\n",
    "thistuple = tuple(y)\n",
    "\n",
    "print(thistuple)"
   ]
  },
  {
   "cell_type": "code",
   "execution_count": 90,
   "id": "a55c25ef",
   "metadata": {},
   "outputs": [
    {
     "ename": "NameError",
     "evalue": "name 'thistuple' is not defined",
     "output_type": "error",
     "traceback": [
      "\u001b[31m---------------------------------------------------------------------------\u001b[39m",
      "\u001b[31mNameError\u001b[39m                                 Traceback (most recent call last)",
      "\u001b[36mCell\u001b[39m\u001b[36m \u001b[39m\u001b[32mIn[90]\u001b[39m\u001b[32m, line 4\u001b[39m\n\u001b[32m      2\u001b[39m thistuple = (\u001b[33m\"\u001b[39m\u001b[33mapple\u001b[39m\u001b[33m\"\u001b[39m, \u001b[33m\"\u001b[39m\u001b[33mbanana\u001b[39m\u001b[33m\"\u001b[39m, \u001b[33m\"\u001b[39m\u001b[33mcherry\u001b[39m\u001b[33m\"\u001b[39m)\n\u001b[32m      3\u001b[39m \u001b[38;5;28;01mdel\u001b[39;00m thistuple\n\u001b[32m----> \u001b[39m\u001b[32m4\u001b[39m \u001b[38;5;28mprint\u001b[39m(\u001b[43mthistuple\u001b[49m) \u001b[38;5;66;03m#this will raise an error because the tuple no longer exists\u001b[39;00m\n",
      "\u001b[31mNameError\u001b[39m: name 'thistuple' is not defined"
     ]
    }
   ],
   "source": [
    "# The del keyword can delete the tuple completely:\n",
    "thistuple = (\"apple\", \"banana\", \"cherry\")\n",
    "del thistuple\n",
    "print(thistuple) #this will raise an error because the tuple no longer exists"
   ]
  },
  {
   "cell_type": "markdown",
   "id": "5effaf44",
   "metadata": {},
   "source": [
    "## Python - Unpack Tuples\n",
    "\n",
    "When we create a tuple, we normally assign values to it. This is called \"packing\" a tuple:\n",
    "\n",
    "But, in Python, we are also allowed to extract the values back into variables. This is called \"unpacking\":"
   ]
  },
  {
   "cell_type": "code",
   "execution_count": 91,
   "id": "7599a3ba",
   "metadata": {},
   "outputs": [
    {
     "name": "stdout",
     "output_type": "stream",
     "text": [
      "apple\n",
      "banana\n",
      "cherry\n"
     ]
    }
   ],
   "source": [
    "# Unpacking a tuple\n",
    "\n",
    "fruits = (\"apple\", \"banana\", \"cherry\")\n",
    "\n",
    "(green, yellow, red) = fruits\n",
    "\n",
    "print(green)\n",
    "print(yellow)\n",
    "print(red)"
   ]
  },
  {
   "cell_type": "code",
   "execution_count": 92,
   "id": "0bc52f99",
   "metadata": {},
   "outputs": [
    {
     "name": "stdout",
     "output_type": "stream",
     "text": [
      "apple\n",
      "banana\n",
      "['cherry', 'orange', 'grape']\n"
     ]
    }
   ],
   "source": [
    "# If the number of variables is less than the number of values, you can add an * to the variable name and the values will be assigned to the variable as a list:\n",
    "\n",
    "fruits = (\"apple\", \"banana\", \"cherry\", \"orange\", \"grape\")\n",
    "\n",
    "(green, yellow, *red) = fruits\n",
    "\n",
    "print(green)\n",
    "print(yellow)\n",
    "print(red)"
   ]
  },
  {
   "cell_type": "code",
   "execution_count": 93,
   "id": "73f905a9",
   "metadata": {},
   "outputs": [
    {
     "name": "stdout",
     "output_type": "stream",
     "text": [
      "apple\n",
      "['mango', 'papaya', 'pineapple']\n",
      "cherry\n"
     ]
    }
   ],
   "source": [
    "# Add a list of values the \"tropic\" variable:\n",
    "\n",
    "fruits = (\"apple\", \"mango\", \"papaya\", \"pineapple\", \"cherry\")\n",
    "\n",
    "(green, *tropic, red) = fruits\n",
    "\n",
    "print(green)\n",
    "print(tropic)\n",
    "print(red)\n"
   ]
  },
  {
   "cell_type": "markdown",
   "id": "d9777917",
   "metadata": {},
   "source": [
    "## Loop Tuples\n",
    "\n",
    "Loop Through the Index Numbers\n",
    "You can also loop through the tuple items by referring to their index number.\n",
    "\n",
    "Use the range() and len() functions to create a suitable iterable"
   ]
  },
  {
   "cell_type": "code",
   "execution_count": 94,
   "id": "4af53e12",
   "metadata": {},
   "outputs": [
    {
     "name": "stdout",
     "output_type": "stream",
     "text": [
      "apple\n",
      "banana\n",
      "cherry\n"
     ]
    }
   ],
   "source": [
    "thistuple = (\"apple\", \"banana\", \"cherry\")\n",
    "for x in thistuple:\n",
    "  print(x)"
   ]
  },
  {
   "cell_type": "code",
   "execution_count": 95,
   "id": "1c85ba50",
   "metadata": {},
   "outputs": [
    {
     "name": "stdout",
     "output_type": "stream",
     "text": [
      "apple\n",
      "banana\n",
      "cherry\n"
     ]
    }
   ],
   "source": [
    "thistuple = (\"apple\", \"banana\", \"cherry\")\n",
    "for i in range(len(thistuple)):\n",
    "  print(thistuple[i])"
   ]
  },
  {
   "cell_type": "code",
   "execution_count": 96,
   "id": "f292f5f3",
   "metadata": {},
   "outputs": [
    {
     "name": "stdout",
     "output_type": "stream",
     "text": [
      "apple\n",
      "banana\n",
      "cherry\n"
     ]
    }
   ],
   "source": [
    "# Using a While Loop\n",
    "\n",
    "thistuple = (\"apple\", \"banana\", \"cherry\")\n",
    "i = 0\n",
    "while i < len(thistuple):\n",
    "  print(thistuple[i])\n",
    "  i = i + 1"
   ]
  },
  {
   "cell_type": "code",
   "execution_count": 97,
   "id": "9b77e4c1",
   "metadata": {},
   "outputs": [
    {
     "name": "stdout",
     "output_type": "stream",
     "text": [
      "('a', 'b', 'c', 1, 2, 3)\n"
     ]
    }
   ],
   "source": [
    "## Join Tuples\n",
    "# To join two or more tuples you can use the + operator:\n",
    "\n",
    "tuple1 = (\"a\", \"b\" , \"c\")\n",
    "tuple2 = (1, 2, 3)\n",
    "\n",
    "tuple3 = tuple1 + tuple2\n",
    "print(tuple3)"
   ]
  },
  {
   "cell_type": "code",
   "execution_count": 98,
   "id": "8640bec0",
   "metadata": {},
   "outputs": [
    {
     "name": "stdout",
     "output_type": "stream",
     "text": [
      "('apple', 'banana', 'cherry', 'apple', 'banana', 'cherry')\n"
     ]
    }
   ],
   "source": [
    "# Multiply Tuples\n",
    "# You can multiply the content of a tuple a given number of times by using the * operator:\n",
    "\n",
    "fruits = (\"apple\", \"banana\", \"cherry\")\n",
    "mytuple = fruits * 2\n",
    "\n",
    "print(mytuple)\n"
   ]
  },
  {
   "cell_type": "markdown",
   "id": "bd8d6e8c",
   "metadata": {},
   "source": [
    "## Tuple Methods\n",
    "\n",
    "Python has two built-in methods that you can use on tuples.\n",
    "\n",
    "Method\t        Description\n",
    "count()\t        Returns the number of times a specified value occurs in a tuple\n",
    "index()\t        Searches the tuple for a specified value and returns the position of where it was found"
   ]
  }
 ],
 "metadata": {
  "kernelspec": {
   "display_name": "Python 3",
   "language": "python",
   "name": "python3"
  },
  "language_info": {
   "codemirror_mode": {
    "name": "ipython",
    "version": 3
   },
   "file_extension": ".py",
   "mimetype": "text/x-python",
   "name": "python",
   "nbconvert_exporter": "python",
   "pygments_lexer": "ipython3",
   "version": "3.13.6"
  }
 },
 "nbformat": 4,
 "nbformat_minor": 5
}
