{
 "cells": [
  {
   "cell_type": "markdown",
   "id": "af9bdd69",
   "metadata": {},
   "source": [
    "##  Python Random Module\n",
    "\n",
    "Python has a built-in module that you can use to make random numbers.\n",
    "\n",
    "The random module has a set of methods:"
   ]
  },
  {
   "cell_type": "markdown",
   "id": "c3e40dc3",
   "metadata": {},
   "source": [
    "Method\t                    Description\n",
    "seed()\t                    Initialize the random number generator\n",
    "getstate()\t                Returns the current internal state of the random number generator\n",
    "setstate()\t                Restores the internal state of the random number generator\n",
    "getrandbits()\t            Returns a number representing the random bits\n",
    "randrange()\t                Returns a random number between the given range\n",
    "randint()\t                Returns a random number between the given range\n",
    "choice()\t                Returns a random element from the given sequence\n",
    "choices()\t                Returns a list with a random selection from the given sequence\n",
    "shuffle()\t                Takes a sequence and returns the sequence in a random order\n",
    "sample()\t                Returns a given sample of a sequence\n",
    "random()\t                Returns a random float number between 0 and 1\n",
    "uniform()\t                Returns a random float number between two given parameters\n",
    "triangular()\t            Returns a random float number between two given parameters, you can also set a mode parameter to specify the midpoint between the two other parameters\n",
    "betavariate()\t            Returns a random float number between 0 and 1 based on the Beta distribution (used in statistics)\n",
    "expovariate()\t            Returns a random float number based on the Exponential distribution (used in statistics)\n",
    "gammavariate()\t            Returns a random float number based on the Gamma distribution (used in statistics)\n",
    "gauss()\t                    Returns a random float number based on the Gaussian distribution (used in probability theories)\n",
    "lognormvariate()\t        Returns a random float number based on a log-normal distribution (used in probability theories)\n",
    "normalvariate()\t            Returns a random float number based on the normal distribution (used in probability theories)\n",
    "vonmisesvariate()\t        Returns a random float number based on the von Mises distribution (used in directional statistics)\n",
    "paretovariate()\t            Returns a random float number based on the Pareto distribution (used in probability theories)\n",
    "weibullvariate()\t        Returns a random float number based on the Weibull distribution (used in statistics)"
   ]
  }
 ],
 "metadata": {
  "language_info": {
   "name": "python"
  }
 },
 "nbformat": 4,
 "nbformat_minor": 5
}
