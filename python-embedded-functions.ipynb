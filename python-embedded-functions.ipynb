{
 "cells": [
  {
   "cell_type": "markdown",
   "id": "32570272",
   "metadata": {},
   "source": [
    "## Python Embedded Function Modules\n",
    "\n",
    "we can import the following modules using import without installing the modules\n",
    "\n",
    "  "
   ]
  },
  {
   "cell_type": "code",
   "execution_count": null,
   "id": "65940121",
   "metadata": {},
   "outputs": [
    {
     "name": "stdout",
     "output_type": "stream",
     "text": [
      "2025-10-01 10:42:16.310014\n"
     ]
    }
   ],
   "source": [
    "# Python Datetime\n",
    "# The datetime module supplies classes for manipulating dates and times.\n",
    "# Import the datetime module and display the current date:\n",
    "\n",
    "import datetime\n",
    "x = datetime.datetime.now()\n",
    "\n",
    "print(x)"
   ]
  },
  {
   "cell_type": "code",
   "execution_count": null,
   "id": "13abe5d1",
   "metadata": {},
   "outputs": [
    {
     "name": "stdout",
     "output_type": "stream",
     "text": [
      "2025\n",
      "Wednesday\n"
     ]
    }
   ],
   "source": [
    "# x = datetime.datetime.now()\n",
    "#\n",
    "print(x.year)\n",
    "print(x.strftime(\"%A\"))\n",
    "x = datetime.datetime.now()\n",
    "\n",
    "print(x.year)\n",
    "print(x.strftime(\"%A\"))"
   ]
  },
  {
   "cell_type": "code",
   "execution_count": 8,
   "id": "b9cc3b05",
   "metadata": {},
   "outputs": [
    {
     "name": "stdout",
     "output_type": "stream",
     "text": [
      "2025-11-17 00:00:00\n",
      "2025-11-17 23:00:00\n"
     ]
    }
   ],
   "source": [
    "# Creating Date Objects\n",
    "# To create a date, we can use the datetime() class (constructor) of the datetime module.\n",
    "\n",
    "import datetime\n",
    "\n",
    "x = datetime.datetime(2025, 11, 17)\n",
    "y = datetime.datetime(2025, 11, 17, 23, 0, 0)\n",
    "\n",
    "print(x)\n",
    "print(y)"
   ]
  },
  {
   "cell_type": "code",
   "execution_count": 16,
   "id": "d46bab02",
   "metadata": {},
   "outputs": [
    {
     "name": "stdout",
     "output_type": "stream",
     "text": [
      "1918\n",
      "June\n",
      "Saturday\n",
      "01\n",
      "19\n"
     ]
    }
   ],
   "source": [
    "# The strftime() Method\n",
    "# The method strftime() takes one parameter, format, to specify the format of the returned string:\n",
    "\n",
    "x = datetime.datetime(1918, 6, 1)\n",
    "# print the year\n",
    "print(x.year)\n",
    "#print the month\n",
    "print(x.strftime(\"%B\"))\n",
    "# Print the day of the week\n",
    "print(x.strftime(\"%A\"))\n",
    "# Print the day of the month\n",
    "print(x.strftime(\"%d\"))\n",
    "# print the century\n",
    "print(x.strftime(\"%C\"))\n"
   ]
  },
  {
   "cell_type": "markdown",
   "id": "29b3ddb2",
   "metadata": {},
   "source": [
    "# References for all the legal format codes\n",
    "\n",
    "Directive\tDescription\t                                            Example\t\n",
    "%a\t        Weekday, short version\t                                Wed\t\n",
    "%A\t        Weekday, full version\t                                Wednesday\t\n",
    "%w\t        Weekday as a number 0-6, 0 is Sunday\t                3\t\n",
    "%d\t        Day of month 01-31\t                                    31\t\n",
    "%b\t        Month name, short version\t                            Dec\t\n",
    "%B\t        Month name, full version\t                            December\t\n",
    "%m\t        Month as a number 01-12\t                                12\t\n",
    "%y\t        Year, short version, without century\t                18\t\n",
    "%Y\t        Year, full version\t                                    2018\t\n",
    "%H\t        Hour 00-23\t                                            17\t\n",
    "%I\t        Hour 00-12\t                                            05\t\n",
    "%p\t        AM/PM\t                                                PM\t\n",
    "%M\t        Minute 00-59\t                                        41\t\n",
    "%S\t        Second 00-59\t                                        08\t\n",
    "%f\t        Microsecond 000000-999999\t                            548513\t\n",
    "%z\t        UTC offset\t                                            +0100\t\n",
    "%Z\t        Timezone\t                                            CST\t\n",
    "%j\t        Day number of year 001-366\t365\t\n",
    "%U\t        Week number of year, Sunday as the first day of week, 00-53\t52\t\n",
    "%W\t        Week number of year, Monday as the first day of week, 00-53\t52\t\n",
    "%c\t        Local version of date and time\tMon Dec 31 17:41:00     2018\t\n",
    "%C\t        Century\t                                                20\t\n",
    "%x\t        Local version of date\t                                12/31/18\t\n",
    "%X\t        Local version of time\t                                17:41:00\t\n",
    "%%\t        A % character\t                                        %\t\n",
    "%G\t        ISO 8601 year\t                                        2018\t\n",
    "%u\t        ISO 8601 weekday (1-7)\t                                1\t\n",
    "%V\t        ISO 8601 weeknumber (01-53)\t                            01"
   ]
  },
  {
   "cell_type": "markdown",
   "id": "a46cf2d8",
   "metadata": {},
   "source": [
    "## Built-in Math Functions\n",
    "\n",
    "Python has a set of built-in math functions, including an extensive math module, that allows you to perform mathematical tasks on numbers.\n",
    "\n",
    "\n"
   ]
  },
  {
   "cell_type": "code",
   "execution_count": 18,
   "id": "30d0bead",
   "metadata": {},
   "outputs": [
    {
     "name": "stdout",
     "output_type": "stream",
     "text": [
      "5\n",
      "25\n",
      "5 25\n"
     ]
    }
   ],
   "source": [
    "# The min() and max() functions can be used to find the lowest or highest value in an iterable:\n",
    "\n",
    "x = min(5, 10, 25)\n",
    "y = max(5, 10, 25)\n",
    "\n",
    "print(x)\n",
    "print(y)\n",
    "\n",
    "x, y = min(5, 10, 25), max(5, 10, 25)\n",
    "\n",
    "print (x, y)\n"
   ]
  },
  {
   "cell_type": "code",
   "execution_count": 19,
   "id": "c814bed6",
   "metadata": {},
   "outputs": [
    {
     "name": "stdout",
     "output_type": "stream",
     "text": [
      "7.25\n"
     ]
    }
   ],
   "source": [
    "# The abs() function returns the absolute (positive) value of the specified number:\n",
    "\n",
    "x = abs(-7.25)\n",
    "\n",
    "print(x)"
   ]
  },
  {
   "cell_type": "code",
   "execution_count": 23,
   "id": "c0d37872",
   "metadata": {},
   "outputs": [
    {
     "name": "stdout",
     "output_type": "stream",
     "text": [
      "64 1\n"
     ]
    }
   ],
   "source": [
    "# The pow(x, y) function returns the value of x to the power of y (xy).\n",
    "\n",
    "x = pow(4, 3)\n",
    "y = pow(4, 0)\n",
    "\n",
    "print(x, y)"
   ]
  },
  {
   "cell_type": "markdown",
   "id": "a30bb8a6",
   "metadata": {},
   "source": [
    "## Python JSON\n",
    "\n",
    "JSON is a syntax for storing and exchanging data.\n",
    "\n",
    "JSON is text, written with JavaScript object notation."
   ]
  },
  {
   "cell_type": "code",
   "execution_count": 24,
   "id": "e3aec6d1",
   "metadata": {},
   "outputs": [
    {
     "name": "stdout",
     "output_type": "stream",
     "text": [
      "30\n"
     ]
    }
   ],
   "source": [
    "# import json module to use it as json\n",
    "import json\n",
    "\n",
    "# If you have a JSON string, you can parse it by using the json.loads() method.\n",
    "# The result will be a Python dictionary.\n",
    "\n",
    "# Convert from json to python dictionary\n",
    "\n",
    "import json\n",
    "\n",
    "# some JSON:\n",
    "x =  '{ \"name\":\"John\", \"age\":30, \"city\":\"New York\"}'\n",
    "\n",
    "# parse x:\n",
    "y = json.loads(x)\n",
    "\n",
    "# the result is a Python dictionary:\n",
    "print(y[\"age\"])\n"
   ]
  },
  {
   "cell_type": "markdown",
   "id": "d63f7395",
   "metadata": {},
   "source": [
    "## Convert from Python to JSON\n",
    "\n",
    "If you have a Python object, you can convert it into a JSON string by using the json.dumps() method."
   ]
  },
  {
   "cell_type": "code",
   "execution_count": 25,
   "id": "fd8875de",
   "metadata": {},
   "outputs": [
    {
     "name": "stdout",
     "output_type": "stream",
     "text": [
      "{\"name\": \"John\", \"age\": 30, \"city\": \"New York\"}\n"
     ]
    }
   ],
   "source": [
    "# Convert from Python to JSON:\n",
    "\n",
    "import json\n",
    "\n",
    "# a Python object (dict):\n",
    "x = {\n",
    "  \"name\": \"John\",\n",
    "  \"age\": 30,\n",
    "  \"city\": \"New York\"\n",
    "}\n",
    "\n",
    "# convert into JSON:\n",
    "y = json.dumps(x)\n",
    "\n",
    "# the result is a JSON string:\n",
    "print(y)"
   ]
  },
  {
   "cell_type": "markdown",
   "id": "3126543f",
   "metadata": {},
   "source": [
    "You can convert Python objects of the following types, into JSON strings:\n",
    "\n",
    "        dict\n",
    "        list\n",
    "        tuple\n",
    "        string\n",
    "        int\n",
    "        float\n",
    "        True\n",
    "        False\n",
    "        None"
   ]
  },
  {
   "cell_type": "code",
   "execution_count": 26,
   "id": "6237a284",
   "metadata": {},
   "outputs": [
    {
     "name": "stdout",
     "output_type": "stream",
     "text": [
      "{\"name\": \"John\", \"age\": 30}\n",
      "[\"apple\", \"bananas\"]\n",
      "[\"apple\", \"bananas\"]\n",
      "\"hello\"\n",
      "42\n",
      "31.76\n",
      "true\n",
      "false\n",
      "null\n"
     ]
    }
   ],
   "source": [
    "# Convert Python objects into JSON strings, and print the values:\n",
    "\n",
    "import json\n",
    "\n",
    "print(json.dumps({\"name\": \"John\", \"age\": 30}))\n",
    "print(json.dumps([\"apple\", \"bananas\"]))\n",
    "print(json.dumps((\"apple\", \"bananas\")))\n",
    "print(json.dumps(\"hello\"))\n",
    "print(json.dumps(42))\n",
    "print(json.dumps(31.76))\n",
    "print(json.dumps(True))\n",
    "print(json.dumps(False))\n",
    "print(json.dumps(None))"
   ]
  },
  {
   "cell_type": "markdown",
   "id": "5d19edb8",
   "metadata": {},
   "source": [
    "## When you convert from Python to JSON, Python objects are converted into the JSON (JavaScript) equivalent:\n",
    "\n",
    "Python\t    JSON\n",
    "dict\t    Object\n",
    "list\t    Array\n",
    "tuple\t    Array\n",
    "str\t        String\n",
    "int\t        Number\n",
    "float\t    Number\n",
    "True\t    true\n",
    "False\t    false\n",
    "None\t    null"
   ]
  },
  {
   "cell_type": "code",
   "execution_count": 27,
   "id": "cb5d8b9f",
   "metadata": {},
   "outputs": [
    {
     "name": "stdout",
     "output_type": "stream",
     "text": [
      "{\"name\": \"John\", \"age\": 30, \"married\": true, \"divorced\": false, \"children\": [\"Ann\", \"Billy\"], \"pets\": null, \"cars\": [{\"model\": \"BMW 230\", \"mpg\": 27.5}, {\"model\": \"Ford Edge\", \"mpg\": 24.1}]}\n"
     ]
    }
   ],
   "source": [
    "# Convert a Python object containing all the legal data types:\n",
    "\n",
    "import json\n",
    "\n",
    "x = {\n",
    "  \"name\": \"John\",\n",
    "  \"age\": 30,\n",
    "  \"married\": True,\n",
    "  \"divorced\": False,\n",
    "  \"children\": (\"Ann\",\"Billy\"),\n",
    "  \"pets\": None,\n",
    "  \"cars\": [\n",
    "    {\"model\": \"BMW 230\", \"mpg\": 27.5},\n",
    "    {\"model\": \"Ford Edge\", \"mpg\": 24.1}\n",
    "  ]\n",
    "}\n",
    "\n",
    "print(json.dumps(x))"
   ]
  },
  {
   "cell_type": "markdown",
   "id": "142941af",
   "metadata": {},
   "source": [
    "## Format the Result\n",
    "\n",
    "The example above prints a JSON string, but it is not very easy to read, with no indentations and line breaks.\n",
    "\n",
    "The json.dumps() method has parameters to make it easier to read the result:\n",
    "\n"
   ]
  },
  {
   "cell_type": "code",
   "execution_count": 29,
   "id": "4c79b2ab",
   "metadata": {},
   "outputs": [
    {
     "name": "stdout",
     "output_type": "stream",
     "text": [
      "{\n",
      "    \"name\": \"John\",\n",
      "    \"age\": 30,\n",
      "    \"married\": true,\n",
      "    \"divorced\": false,\n",
      "    \"children\": [\n",
      "        \"Ann\",\n",
      "        \"Billy\"\n",
      "    ],\n",
      "    \"pets\": null,\n",
      "    \"cars\": [\n",
      "        {\n",
      "            \"model\": \"BMW 230\",\n",
      "            \"mpg\": 27.5\n",
      "        },\n",
      "        {\n",
      "            \"model\": \"Ford Edge\",\n",
      "            \"mpg\": 24.1\n",
      "        }\n",
      "    ]\n",
      "}\n"
     ]
    }
   ],
   "source": [
    "# Use the indent parameter to define the numbers of indents:\n",
    "\n",
    "y =json.dumps(x, indent=4)\n",
    "print(y)"
   ]
  },
  {
   "cell_type": "code",
   "execution_count": 31,
   "id": "78ed6594",
   "metadata": {},
   "outputs": [
    {
     "name": "stdout",
     "output_type": "stream",
     "text": [
      "{\n",
      "    \"name\" = \"John\". \n",
      "    \"age\" = 30. \n",
      "    \"married\" = true. \n",
      "    \"divorced\" = false. \n",
      "    \"children\" = [\n",
      "        \"Ann\". \n",
      "        \"Billy\"\n",
      "    ]. \n",
      "    \"pets\" = null. \n",
      "    \"cars\" = [\n",
      "        {\n",
      "            \"model\" = \"BMW 230\". \n",
      "            \"mpg\" = 27.5\n",
      "        }. \n",
      "        {\n",
      "            \"model\" = \"Ford Edge\". \n",
      "            \"mpg\" = 24.1\n",
      "        }\n",
      "    ]\n",
      "}\n"
     ]
    }
   ],
   "source": [
    "# Use the separators parameter to change the default separator:\n",
    "\n",
    "y = json.dumps(x, indent=4, separators=(\". \", \" = \"))\n",
    "print(y)"
   ]
  },
  {
   "cell_type": "code",
   "execution_count": 33,
   "id": "a82e7c57",
   "metadata": {},
   "outputs": [
    {
     "name": "stdout",
     "output_type": "stream",
     "text": [
      "{\n",
      "    \"age\": 30,\n",
      "    \"cars\": [\n",
      "        {\n",
      "            \"model\": \"BMW 230\",\n",
      "            \"mpg\": 27.5\n",
      "        },\n",
      "        {\n",
      "            \"model\": \"Ford Edge\",\n",
      "            \"mpg\": 24.1\n",
      "        }\n",
      "    ],\n",
      "    \"children\": [\n",
      "        \"Ann\",\n",
      "        \"Billy\"\n",
      "    ],\n",
      "    \"divorced\": false,\n",
      "    \"married\": true,\n",
      "    \"name\": \"John\",\n",
      "    \"pets\": null\n",
      "}\n"
     ]
    }
   ],
   "source": [
    "# Order the Result\n",
    "# The json.dumps() method has parameters to order the keys in the result:\n",
    "# Use the sort_keys parameter to specify if the result should be sorted or not:\n",
    "y = json.dumps(x, indent=4, sort_keys=True)\n",
    "print(y)"
   ]
  },
  {
   "cell_type": "markdown",
   "id": "692e2da1",
   "metadata": {},
   "source": [
    "## Python RegEx\n",
    "\n",
    "A RegEx, or Regular Expression, is a sequence of characters that forms a search pattern.\n",
    "\n",
    "RegEx can be used to check if a string contains the specified search pattern.\n",
    "\n",
    "Python has a built-in package called re, which can be used to work with Regular Expressions.\n",
    "\n",
    "Import the re module:"
   ]
  },
  {
   "cell_type": "code",
   "execution_count": 35,
   "id": "7f659c84",
   "metadata": {},
   "outputs": [
    {
     "name": "stdout",
     "output_type": "stream",
     "text": [
      "<re.Match object; span=(0, 17), match='The rain in Spain'>\n"
     ]
    }
   ],
   "source": [
    "# Search the string to see if it starts with \"The\" and ends with \"Spain\":\n",
    "\n",
    "import re\n",
    "\n",
    "txt = \"The rain in Spain\"\n",
    "x = re.search(\"^The.*Spain$\", txt)\n",
    "\n",
    "print(x)"
   ]
  },
  {
   "cell_type": "markdown",
   "id": "5b862b1b",
   "metadata": {},
   "source": [
    "## RegEx Functions\n",
    "\n",
    "The re module offers a set of functions that allows us to search a string for a match:\n",
    "\n",
    "Function\tDescription\n",
    "findall\t    Returns a list containing all matches\n",
    "search\t    Returns a Match object if there is a match anywhere in the string\n",
    "split\t    Returns a list where the string has been split at each match\n",
    "sub\t        Replaces one or many matches with a string\n"
   ]
  },
  {
   "cell_type": "markdown",
   "id": "1c395504",
   "metadata": {},
   "source": [
    "Metacharacters: characters with a special meaning:\n",
    "\n",
    "Character\tDescription\t                                                                Example\t\n",
    "[]\t        A set of characters\t\"                                                       [a-m]\"\t\n",
    "\\\t        Signals a special sequence (can also be used to escape special characters)\t\"\\d\"\t\n",
    ".\t        Any character (except newline character)\t                                \"he..o\"\t\n",
    "^\t        Starts with                                                             \t\"^hello\"\t\n",
    "$\t        Ends with\t                                                                \"planet$\"\t\n",
    "*\t        Zero or more occurrences\t                                                \"he.*o\"\t\n",
    "+\t        One or more occurrences\t                                                    \"he.+o\"\t\n",
    "?\t        Zero or one occurrences\t                                                    \"he.?o\"\t\n",
    "{}\t        Exactly the specified number of occurrences\t                                \"he.{2}o\"\t\n",
    "|\t        Either or\t                                                                \"falls|stays\"\t\n",
    "()\t        Capture and group\t "
   ]
  },
  {
   "cell_type": "markdown",
   "id": "bc270d0d",
   "metadata": {},
   "source": [
    "Flags\n",
    "You can add flags to the pattern when using regular expressions.\n",
    "\n",
    "Flag\t        Shorthand\tDescription\tTry it\n",
    "re.ASCII\t    re.A\t    Returns only ASCII matches\t\n",
    "re.DEBUG\t\t            Returns debug information\t\n",
    "re.DOTALL\t    re.S\t    Makes the . character match all characters (including newline character)\t\n",
    "re.IGNORECASE\tre.I\t    Case-insensitive matching\t\n",
    "re.MULTILINE\tre.M\t    Returns only matches at the beginning of each line\t\n",
    "re.NOFLAG\t\t            Specifies that no flag is set for this pattern\t\n",
    "re.UNICODE\t    re.U\t    Returns Unicode matches. This is default from Python 3. For Python 2: use this flag to return only Unicode matches\t\n",
    "re.VERBOSE\t    re.X\t    Allows whitespaces and comments inside patterns. Makes the pattern more readable"
   ]
  },
  {
   "cell_type": "markdown",
   "id": "0ad38a59",
   "metadata": {},
   "source": [
    "Special Sequences\n",
    "A special sequence is a \\ followed by one of the characters in the list below, and has a special meaning:\n",
    "\n",
    "Character\tDescription\t                                                                                                Example\t\n",
    "\\A\t        Returns a match if the specified characters are at the beginning of the string\t                            \"\\AThe\"\t\n",
    "\\b\t        Returns a match where the specified characters are at the beginning or at the end of a word\n",
    "            (the \"r\" in the beginning is making sure that the string is being treated as a \"raw string\")\t            r\"\\bain\"\n",
    "\n",
    "r           \"ain\\b\"\t\n",
    "\n",
    "\\B\t        Returns a match where the specified characters are present, but NOT at the beginning (or at the end) of a word\n",
    "            (the \"r\" in the beginning is making sure that the string is being treated as a \"raw string\")\t            r\"\\Bain\"\n",
    "\n",
    "r                                                                                                                       \"ain\\B\"\t\n",
    "\n",
    "\\d\t        Returns a match where the string contains digits (numbers from 0-9)\t                                        \"\\d\"\t\n",
    "\\D\t        Returns a match where the string DOES NOT contain digits\t                                                \"\\D\"\t\n",
    "\\s\t        Returns a match where the string contains a white space character\t                                        \"\\s\"\t\n",
    "\\S\t        Returns a match where the string DOES NOT contain a white space character\t                                \"\\S\"\t\n",
    "\\w\t        Returns a match where the string contains any word characters \n",
    "            (characters from a to Z, digits from 0-9, and the underscore _ character)\t                                \"\\w\"\t\n",
    "\\W\t        Returns a match where the string DOES NOT contain any word characters\t                                    \"\\W\"\t\n",
    "\\Z\t        Returns a match if the specified characters are at the end of the string\t                                \"Spain\\Z\"\t\n"
   ]
  },
  {
   "cell_type": "markdown",
   "id": "f3fe4246",
   "metadata": {},
   "source": [
    "Sets\n",
    "A set is a set of characters inside a pair of square brackets [] with a special meaning:\n",
    "\n",
    "Set\t        Description\t\n",
    "[arn]\t    Returns a match where one of the specified characters (a, r, or n) is present\t\n",
    "[a-n]\t    Returns a match for any lower case character, alphabetically between a and n\t\n",
    "[^arn]\t    Returns a match for any character EXCEPT a, r, and n\t\n",
    "[0123]\t    Returns a match where any of the specified digits (0, 1, 2, or 3) are present\t\n",
    "[0-9]\t    Returns a match for any digit between 0 and 9\t\n",
    "[0-5][0-9]\tReturns a match for any two-digit numbers from 00 and 59\t\n",
    "[a-zA-Z]\tReturns a match for any character alphabetically between a and z, lower case OR upper case\t\n",
    "[+]\t        In sets, +, *, ., |, (), $,{} has no special meaning, so [+] means: return a match for any + character in the string"
   ]
  },
  {
   "cell_type": "code",
   "execution_count": 36,
   "id": "be0522bb",
   "metadata": {},
   "outputs": [
    {
     "name": "stdout",
     "output_type": "stream",
     "text": [
      "['ai', 'ai']\n"
     ]
    }
   ],
   "source": [
    "# The findall() Function\n",
    "# The findall() function returns a list containing all matches.\n",
    "\n",
    "import re\n",
    "\n",
    "txt = \"The rain in Spain\"\n",
    "x = re.findall(\"ai\", txt)\n",
    "print(x)\n"
   ]
  },
  {
   "cell_type": "code",
   "execution_count": 37,
   "id": "662d53f0",
   "metadata": {},
   "outputs": [
    {
     "name": "stdout",
     "output_type": "stream",
     "text": [
      "[]\n"
     ]
    }
   ],
   "source": [
    "# Return an empty list if no match was found:\n",
    "\n",
    "import re\n",
    "\n",
    "txt = \"The rain in Spain\"\n",
    "x = re.findall(\"Portugal\", txt)\n",
    "print(x)"
   ]
  },
  {
   "cell_type": "markdown",
   "id": "611e2455",
   "metadata": {},
   "source": [
    "## The search() Function\n",
    "\n",
    "The search() function searches the string for a match, and returns a Match object if there is a match.\n",
    "\n",
    "If there is more than one match, only the first occurrence of the match will be returned:"
   ]
  },
  {
   "cell_type": "code",
   "execution_count": 38,
   "id": "fcb11b6d",
   "metadata": {},
   "outputs": [
    {
     "name": "stdout",
     "output_type": "stream",
     "text": [
      "The first white-space character is located in position: 3\n"
     ]
    },
    {
     "name": "stderr",
     "output_type": "stream",
     "text": [
      "<>:6: SyntaxWarning: invalid escape sequence '\\s'\n",
      "<>:6: SyntaxWarning: invalid escape sequence '\\s'\n",
      "C:\\Users\\SCLuser\\AppData\\Local\\Temp\\ipykernel_7236\\79306769.py:6: SyntaxWarning: invalid escape sequence '\\s'\n",
      "  x = re.search(\"\\s\", txt)\n"
     ]
    }
   ],
   "source": [
    "# Search for the first white-space character in the string:\n",
    "\n",
    "import re\n",
    "\n",
    "txt = \"The rain in Spain\"\n",
    "x = re.search(\"\\s\", txt)\n",
    "\n",
    "print(\"The first white-space character is located in position:\", x.start())"
   ]
  },
  {
   "cell_type": "code",
   "execution_count": 39,
   "id": "4527847e",
   "metadata": {},
   "outputs": [
    {
     "name": "stdout",
     "output_type": "stream",
     "text": [
      "None\n"
     ]
    }
   ],
   "source": [
    "# Make a search that returns no match:\n",
    "\n",
    "import re\n",
    "\n",
    "txt = \"The rain in Spain\"\n",
    "x = re.search(\"Portugal\", txt)\n",
    "print(x)"
   ]
  },
  {
   "cell_type": "code",
   "execution_count": 40,
   "id": "8376e037",
   "metadata": {},
   "outputs": [
    {
     "name": "stdout",
     "output_type": "stream",
     "text": [
      "['The', 'rain', 'in', 'Spain']\n"
     ]
    },
    {
     "name": "stderr",
     "output_type": "stream",
     "text": [
      "<>:7: SyntaxWarning: invalid escape sequence '\\s'\n",
      "<>:7: SyntaxWarning: invalid escape sequence '\\s'\n",
      "C:\\Users\\SCLuser\\AppData\\Local\\Temp\\ipykernel_7236\\973807173.py:7: SyntaxWarning: invalid escape sequence '\\s'\n",
      "  x = re.split(\"\\s\", txt)\n"
     ]
    }
   ],
   "source": [
    "## The split() Function\n",
    "# The split() function returns a list where the string has been split at each match:\n",
    "\n",
    "import re\n",
    "\n",
    "txt = \"The rain in Spain\"\n",
    "x = re.split(\"\\s\", txt)\n",
    "print(x)"
   ]
  },
  {
   "cell_type": "code",
   "execution_count": 41,
   "id": "117e3c44",
   "metadata": {},
   "outputs": [
    {
     "name": "stdout",
     "output_type": "stream",
     "text": [
      "['The', 'rain in Spain']\n"
     ]
    },
    {
     "name": "stderr",
     "output_type": "stream",
     "text": [
      "<>:6: SyntaxWarning: invalid escape sequence '\\s'\n",
      "<>:6: SyntaxWarning: invalid escape sequence '\\s'\n",
      "C:\\Users\\SCLuser\\AppData\\Local\\Temp\\ipykernel_7236\\1604875368.py:6: SyntaxWarning: invalid escape sequence '\\s'\n",
      "  x = re.split(\"\\s\", txt, 1)\n",
      "C:\\Users\\SCLuser\\AppData\\Local\\Temp\\ipykernel_7236\\1604875368.py:6: DeprecationWarning: 'maxsplit' is passed as positional argument\n",
      "  x = re.split(\"\\s\", txt, 1)\n"
     ]
    }
   ],
   "source": [
    "# Split the string only at the first occurrence:\n",
    "\n",
    "import re\n",
    "\n",
    "txt = \"The rain in Spain\"\n",
    "x = re.split(\"\\s\", txt, 1)\n",
    "print(x)"
   ]
  },
  {
   "cell_type": "code",
   "execution_count": 42,
   "id": "6b231384",
   "metadata": {},
   "outputs": [
    {
     "name": "stdout",
     "output_type": "stream",
     "text": [
      "The9rain9in9Spain\n"
     ]
    },
    {
     "name": "stderr",
     "output_type": "stream",
     "text": [
      "<>:9: SyntaxWarning: invalid escape sequence '\\s'\n",
      "<>:9: SyntaxWarning: invalid escape sequence '\\s'\n",
      "C:\\Users\\SCLuser\\AppData\\Local\\Temp\\ipykernel_7236\\4142481468.py:9: SyntaxWarning: invalid escape sequence '\\s'\n",
      "  x = re.sub(\"\\s\", \"9\", txt)\n"
     ]
    }
   ],
   "source": [
    "#The sub() Function\n",
    "# The sub() function replaces the matches with the text of your choice:\n",
    "\n",
    "# replace every white-space character with the number 9:\n",
    "\n",
    "import re\n",
    "\n",
    "txt = \"The rain in Spain\"\n",
    "x = re.sub(\"\\s\", \"9\", txt)\n",
    "print(x)\n"
   ]
  },
  {
   "cell_type": "code",
   "execution_count": 43,
   "id": "508822d7",
   "metadata": {},
   "outputs": [
    {
     "name": "stdout",
     "output_type": "stream",
     "text": [
      "The9rain9in Spain\n"
     ]
    },
    {
     "name": "stderr",
     "output_type": "stream",
     "text": [
      "<>:5: SyntaxWarning: invalid escape sequence '\\s'\n",
      "<>:5: SyntaxWarning: invalid escape sequence '\\s'\n",
      "C:\\Users\\SCLuser\\AppData\\Local\\Temp\\ipykernel_7236\\3948038031.py:5: SyntaxWarning: invalid escape sequence '\\s'\n",
      "  x = re.sub(\"\\s\", \"9\", txt, 2)\n",
      "C:\\Users\\SCLuser\\AppData\\Local\\Temp\\ipykernel_7236\\3948038031.py:5: DeprecationWarning: 'count' is passed as positional argument\n",
      "  x = re.sub(\"\\s\", \"9\", txt, 2)\n"
     ]
    }
   ],
   "source": [
    "# Replace the first 2 occurrences:\n",
    "import re\n",
    "\n",
    "txt = \"The rain in Spain\"\n",
    "x = re.sub(\"\\s\", \"9\", txt, 2)\n",
    "print(x)"
   ]
  },
  {
   "cell_type": "markdown",
   "id": "acfea8fb",
   "metadata": {},
   "source": [
    "## Match Object\n",
    "A Match Object is an object containing information about the search and the result.\n",
    "\n",
    "Note: If there is no match, the value None will be returned, instead of the Match Object."
   ]
  },
  {
   "cell_type": "code",
   "execution_count": 44,
   "id": "1cc05705",
   "metadata": {},
   "outputs": [
    {
     "name": "stdout",
     "output_type": "stream",
     "text": [
      "<re.Match object; span=(5, 7), match='ai'>\n"
     ]
    }
   ],
   "source": [
    "# Do a search that will return a Match Object:\n",
    "\n",
    "import re\n",
    "\n",
    "txt = \"The rain in Spain\"\n",
    "x = re.search(\"ai\", txt)\n",
    "print(x) #this will print an object"
   ]
  },
  {
   "cell_type": "markdown",
   "id": "86a6da2b",
   "metadata": {},
   "source": [
    "The Match object has properties and methods used to retrieve information about the search, and the result:\n",
    "\n",
    "    .span() returns a tuple containing the start-, and end positions of the match.\n",
    "    .string returns the string passed into the function\n",
    "    .group() returns the part of the string where there was a match"
   ]
  },
  {
   "cell_type": "code",
   "execution_count": 45,
   "id": "aeab8540",
   "metadata": {},
   "outputs": [
    {
     "name": "stdout",
     "output_type": "stream",
     "text": [
      "(12, 17)\n"
     ]
    }
   ],
   "source": [
    "# Print the position (start- and end-position) of the first match occurrence.\n",
    "\n",
    "#   The regular expression looks for any words that starts with an upper case \"S\":\n",
    "\n",
    "import re\n",
    "\n",
    "txt = \"The rain in Spain\"\n",
    "x = re.search(r\"\\bS\\w+\", txt)\n",
    "print(x.span())\n"
   ]
  },
  {
   "cell_type": "code",
   "execution_count": 46,
   "id": "a9c0a2dc",
   "metadata": {},
   "outputs": [
    {
     "name": "stdout",
     "output_type": "stream",
     "text": [
      "The rain in Spain\n"
     ]
    }
   ],
   "source": [
    "# Print the string passed into the function:\n",
    "\n",
    "\n",
    "import re\n",
    "\n",
    "txt = \"The rain in Spain\"\n",
    "x = re.search(r\"\\bS\\w+\", txt)\n",
    "print(x.string)"
   ]
  },
  {
   "cell_type": "code",
   "execution_count": 47,
   "id": "d3c6ffe0",
   "metadata": {},
   "outputs": [
    {
     "name": "stdout",
     "output_type": "stream",
     "text": [
      "Spain\n"
     ]
    }
   ],
   "source": [
    "# Print the part of the string where there was a match.\n",
    "\n",
    "# The regular expression looks for any words that starts with an upper case \"S\":\n",
    "\n",
    "import re\n",
    "\n",
    "txt = \"The rain in Spain\"\n",
    "x = re.search(r\"\\bS\\w+\", txt)\n",
    "print(x.group())"
   ]
  },
  {
   "cell_type": "markdown",
   "id": "4a097933",
   "metadata": {},
   "source": [
    "##  Python Built-in Modules\n",
    "\n",
    "This page lists the built-in modules that ship with the Python 3.13 Standard Library.\n",
    "\n",
    "These modules are available without extra installation (some are platform-dependent)."
   ]
  },
  {
   "cell_type": "markdown",
   "id": "ac61533d",
   "metadata": {},
   "source": [
    "Module\t    Description\t                                                                        Introduced\n",
    "abc\t        Tools for defining Abstract Base Classes (interfaces for Python classes).\t        2.6\n",
    "aifc\t    Read and write AIFF/AIFF-C audio files.\t                                            1.5.2\n",
    "argparse\tParse command line arguments and create user-friendly CLIs.\t                        2.7\n",
    "array\t    Efficient arrays of basic numeric types (compact alternative to lists).\t            1.0\n",
    "ast\t        Work with Python code as an Abstract Syntax Tree (analyze or transform code).\t    2.6\n",
    "asyncio\t    Write concurrent code using the async/await syntax (event loop, tasks, IO).\t        3.4\n",
    "atexit\t    Register functions to run automatically when the program exits.\t                    2.0"
   ]
  },
  {
   "cell_type": "markdown",
   "id": "6cf270de",
   "metadata": {},
   "source": [
    "Module\t    Description\t                                                                        Introduced\n",
    "base64\t    Encode and decode data using Base16, Base32, Base64, etc.\t                        2.0\n",
    "bdb\t        Debugger framework used by pdb (implements the core debugging logic).\t             —\n",
    "binascii\tConvert between binary and ASCII (hex, base64 helpers at C speed).\t                2.0\n",
    "bisect\t    Maintain sorted lists; insert and search with binary search.\t                    2.0\n",
    "builtins\tAccess Python’s built-in objects like len, range, and exceptions.\t                3.0\n",
    "bz2\t        Read and write bzip2-compressed files and streams.\t                                2.3"
   ]
  },
  {
   "cell_type": "markdown",
   "id": "ba354326",
   "metadata": {},
   "source": [
    "Module\t    Description\t                                                                        Introduced\n",
    "calendar\tWork with dates as calendars; print text calendars and compute month info.\t        2.0\n",
    "cgi\t        Helpers for Common Gateway Interface (legacy web server scripts).\t                2.0\n",
    "cgitb\t    Pretty tracebacks for CGI scripts (HTML formatted error reports).\t                 —\n",
    "cmd\t        Build simple line-oriented command interpreters (REPL-like shells).\t                2.0\n",
    "code\t    Run an interactive interpreter or embed one in your program.\t                    2.0\n",
    "codecs\t    Text encodings and decoding/encoding helpers.\t                                    2.0\n",
    "codeop\t    Compile Python code objects conditionally (used by code editors and shells).\t    2.0\n",
    "collections\tHigh-performance container datatypes like deque, Counter, namedtuple.\t            2.4\n",
    "colorsys\tConvert between color systems: RGB, YIQ, HLS, HSV.\t                                2.0\n",
    "concurrent\tConcurrency framework (futures) for running callables asynchronously.\t            3.2\n",
    "configparser\tRead and write INI-style configuration files.\t                                3.0\n",
    "contextlib\tUtilities for context managers and the with-statement.\t                            2.5\n",
    "contextvars\tContext-local storage for async code (like thread-local, but for tasks).\t        3.7\n",
    "copy\t    Shallow and deep copy operations for Python objects.\t                            2.0\n",
    "copyreg\t    Register custom pickling functions for complex objects.\t                            3.0\n",
    "csv\t        Read and write CSV files (comma-separated values) with ease.\t                    2.3\n",
    "ctypes\t    Call C libraries and work with C-compatible data types.\t                            2.5\n",
    "curses\t    Terminal handling for character-cell UIs (Unix-like systems only).\t                2.0"
   ]
  },
  {
   "cell_type": "markdown",
   "id": "f8a0379c",
   "metadata": {},
   "source": [
    "Module\t    Description\t                                                                        Introduced\n",
    "dataclasses\tDecorator and helpers for classes that store data (auto-generate init, repr, etc.).\t3.7\n",
    "datetime\tDates, times, time zones, and timedeltas made simple and precise.\t                2.3\n",
    "dbm\t        Family of simple on-disk key/value databases (backed by platform libs).\t            2.0\n",
    "decimal\t    Fixed-point and floating decimal arithmetic for money and exact math.\t            2.4\n",
    "difflib\t    Compare sequences and create human-readable diffs.\t                                2.1\n",
    "dis\t        Disassemble Python bytecode for inspection and debugging.\t                        2.0\n",
    "doctest\t    Test examples embedded in docstrings (keeps docs and code in sync).\t                2.1"
   ]
  },
  {
   "cell_type": "markdown",
   "id": "b0434293",
   "metadata": {},
   "source": [
    "Module\t    Description\t                                                                        Introduced\n",
    "email\t    Parse, build, and send email messages (headers, MIME, attachments).\t                2.2\n",
    "encodings\tImplementation of text encodings used by Python’s codec system.\t                    2.0\n",
    "ensurepip\tBootstraps pip into a Python installation.\t                                        3.4\n",
    "enum\t    Define enumerations (named constants) with nice semantics.\t                        3.4\n",
    "errno\t    Standard error number constants from the OS.\t                                    2.0"
   ]
  },
  {
   "cell_type": "markdown",
   "id": "d1c3646b",
   "metadata": {},
   "source": [
    "Module\t    Description\t                                                                        Introduced\n",
    "faulthandler\tDump Python tracebacks on a crash or on demand (helps debug hard faults).\t    3.3\n",
    "filecmp\t    Compare files and directories to see what changed.\t                                2.0\n",
    "fileinput\tLoop over lines from stdin or a list of files as a single stream.\t                2.0\n",
    "fnmatch\t    Match filenames using shell-style wildcards.\t                                    2.0\n",
    "fractions\tRational numbers (Fractions) for exact arithmetic.\t                                2.6\n",
    "ftplib\t    FTP client library for transferring files.\t                                        2.0\n",
    "functools\tHigher-order functions and utilities (lru_cache, partial, wraps, etc.).\t            2.5"
   ]
  },
  {
   "cell_type": "markdown",
   "id": "5aaa1c04",
   "metadata": {},
   "source": []
  }
 ],
 "metadata": {
  "kernelspec": {
   "display_name": "Python 3",
   "language": "python",
   "name": "python3"
  },
  "language_info": {
   "codemirror_mode": {
    "name": "ipython",
    "version": 3
   },
   "file_extension": ".py",
   "mimetype": "text/x-python",
   "name": "python",
   "nbconvert_exporter": "python",
   "pygments_lexer": "ipython3",
   "version": "3.13.6"
  }
 },
 "nbformat": 4,
 "nbformat_minor": 5
}
