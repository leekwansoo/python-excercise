{
 "cells": [
  {
   "cell_type": "markdown",
   "id": "2f8fe528",
   "metadata": {},
   "source": [
    "# Python Decorators\n",
    "\n",
    "Decorators let you add extra behavior to a function, without changing the function's code.\n",
    "\n",
    "A decorator is a function that takes another function as input and returns a new function.\n",
    "\n",
    "#   Basic Decorator\n",
    "\n",
    "Define the decorator first, then apply it with @decorator_name above the function."
   ]
  },
  {
   "cell_type": "code",
   "execution_count": 6,
   "id": "e3f5d42e",
   "metadata": {},
   "outputs": [
    {
     "name": "stdout",
     "output_type": "stream",
     "text": [
      "HELLO SALLY\n"
     ]
    }
   ],
   "source": [
    "# A basic decorator that uppercases the return value of the decorated function.\n",
    "\n",
    "def changecase(func):\n",
    "  def myinner():\n",
    "    return func().upper()\n",
    "  return myinner\n",
    "\n",
    "@changecase\n",
    "def myfunction():\n",
    "  return \"Hello Sally\"\n",
    "\n",
    "print(myfunction())\n",
    "\n"
   ]
  }
 ],
 "metadata": {
  "kernelspec": {
   "display_name": "Python 3",
   "language": "python",
   "name": "python3"
  },
  "language_info": {
   "codemirror_mode": {
    "name": "ipython",
    "version": 3
   },
   "file_extension": ".py",
   "mimetype": "text/x-python",
   "name": "python",
   "nbconvert_exporter": "python",
   "pygments_lexer": "ipython3",
   "version": "3.13.6"
  }
 },
 "nbformat": 4,
 "nbformat_minor": 5
}
