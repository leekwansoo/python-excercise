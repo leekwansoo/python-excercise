{
 "cells": [
  {
   "cell_type": "markdown",
   "id": "eef656bf",
   "metadata": {},
   "source": [
    "## Python Functions\n",
    "\n",
    "A function is a block of code which only runs when it is called.\n",
    "\n",
    "You can pass data, known as parameters, into a function.\n",
    "\n",
    "A function can return data as a result.\n",
    "\n",
    "# Creating a Function\n",
    "\n",
    "In Python a function is defined using the def keyword:"
   ]
  },
  {
   "cell_type": "code",
   "execution_count": null,
   "id": "4b572e62",
   "metadata": {},
   "outputs": [
    {
     "name": "stdout",
     "output_type": "stream",
     "text": [
      "Hello from a function\n"
     ]
    }
   ],
   "source": [
    "# Creating function without arguments\n",
    "\n",
    "def my_function():\n",
    "  print(\"Hello from a function\")\n",
    "  \n",
    "my_function()"
   ]
  },
  {
   "cell_type": "code",
   "execution_count": null,
   "id": "cdba2de9",
   "metadata": {},
   "outputs": [
    {
     "name": "stdout",
     "output_type": "stream",
     "text": [
      "Hello from a function with parameter\n"
     ]
    }
   ],
   "source": [
    "# Creating function with arguments\n",
    "\n",
    "def my_function(a):\n",
    "  print(a)\n",
    "\n",
    "a = \"Hello from a function with arguments\"\n",
    "my_function(a)"
   ]
  },
  {
   "cell_type": "markdown",
   "id": "4686ee3e",
   "metadata": {},
   "source": [
    "## Arguments\n",
    "Information can be passed into functions as arguments.\n",
    "\n",
    "Arguments are specified after the function name, inside the parentheses. You can add as many arguments as you want, just separate them with a comma.\n",
    "\n",
    "The following example has a function with one argument (fname). When the function is called, we pass along a first name, which is used inside the function to print the full name:"
   ]
  },
  {
   "cell_type": "code",
   "execution_count": 6,
   "id": "99e868c9",
   "metadata": {},
   "outputs": [
    {
     "name": "stdout",
     "output_type": "stream",
     "text": [
      "Emil Jolla\n",
      "Tobias Jolla\n",
      "Linus Jolla\n"
     ]
    }
   ],
   "source": [
    "# Examples for arguments\n",
    "\n",
    "def my_function(fname):\n",
    "  print(fname + \" Jolla\")\n",
    "\n",
    "my_function(\"Emil\")\n",
    "my_function(\"Tobias\")\n",
    "my_function(\"Linus\")"
   ]
  },
  {
   "cell_type": "markdown",
   "id": "2f8e5dbd",
   "metadata": {},
   "source": [
    "# Parameters or Arguments?\n",
    "\n",
    "The terms parameter and argument can be used for the same thing: information that are passed into a function.\n",
    "\n",
    "From a function's perspective:\n",
    "\n",
    "A parameter is the variable listed inside the parentheses in the function definition.\n",
    "\n",
    "An argument is the value that is sent to the function when it is called."
   ]
  },
  {
   "cell_type": "code",
   "execution_count": 9,
   "id": "d4ad9743",
   "metadata": {},
   "outputs": [
    {
     "name": "stdout",
     "output_type": "stream",
     "text": [
      "Emil Jolla\n"
     ]
    }
   ],
   "source": [
    "# This function expects 2 arguments, and gets 2 arguments:\n",
    "\n",
    "def my_function(fname, lname):\n",
    "  print(fname + \" \" + lname)\n",
    "\n",
    "my_function(\"Emil\", \"Jolla\")"
   ]
  },
  {
   "cell_type": "code",
   "execution_count": null,
   "id": "33e7feaa",
   "metadata": {},
   "outputs": [],
   "source": [
    "# Error Case\n",
    "\n",
    "def my_function(fname, lname):\n",
    "  print(fname + \" \" + lname)\n",
    "\n",
    "my_function(\"Emil\")"
   ]
  },
  {
   "cell_type": "markdown",
   "id": "394d6229",
   "metadata": {},
   "source": [
    "# Arbitrary Arguments, *args\n",
    "\n",
    "If you do not know how many arguments that will be passed into your function, add a * before the parameter name in the function definition.\n",
    "\n",
    "This way the function will receive a tuple of arguments, and can access the items accordingly:"
   ]
  },
  {
   "cell_type": "code",
   "execution_count": 14,
   "id": "6a864469",
   "metadata": {},
   "outputs": [
    {
     "name": "stdout",
     "output_type": "stream",
     "text": [
      "The youngest child is Linus\n",
      "The youngest child is Linus\n",
      "The youngest child is Linus\n"
     ]
    }
   ],
   "source": [
    "# If the number of arguments is unknown, add a * before the parameter name:\n",
    "def my_function(*kids):\n",
    "  print(\"The youngest child is \" + kids[2])\n",
    "\n",
    "my_function(\"Emil\", \"Tobias\", \"Linus\")\n",
    "\n",
    "kids = (\"Emil\", \"Tobias\", \"Linus\")\n",
    "my_function(*kids)\n",
    "\n",
    "kids = (\"Emil\", \"Tobias\", \"Linus\", \"Thomas\")\n",
    "my_function(*kids)\n"
   ]
  },
  {
   "cell_type": "markdown",
   "id": "f3efe173",
   "metadata": {},
   "source": [
    "# Keyword Arguments\n",
    "You can also send arguments with the key = value syntax.\n",
    "\n",
    "This way the order of the arguments does not matter."
   ]
  },
  {
   "cell_type": "code",
   "execution_count": null,
   "id": "4286309c",
   "metadata": {},
   "outputs": [
    {
     "name": "stdout",
     "output_type": "stream",
     "text": [
      "The youngest child is Linus\n",
      "The youngest child is Linus\n"
     ]
    }
   ],
   "source": [
    "# Example for Keyword Arguments\n",
    "def my_function(child1, child2, child3):\n",
    "  print(\"The youngest child is \" + child3)\n",
    "\n",
    "my_function(child1=\"Emil\", child2=\"Tobias\", child3=\"Linus\") \n",
    "\n",
    "child = {\"child1\": \"Emil\", \"child2\": \"Tobias\", \"child3\": \"Linus\"}  # Dictionary\n",
    "my_function(**child) # Unpacking a Dictionary\n"
   ]
  },
  {
   "cell_type": "markdown",
   "id": "3b8a2763",
   "metadata": {},
   "source": [
    "## Default Parameter Value\n",
    "The following example shows how to use a default parameter value.\n",
    "\n",
    "If we call the function without argument, it uses the default value:\n",
    "\n"
   ]
  },
  {
   "cell_type": "code",
   "execution_count": null,
   "id": "39e4d2a2",
   "metadata": {},
   "outputs": [
    {
     "name": "stdout",
     "output_type": "stream",
     "text": [
      "I am from Sweden\n",
      "I am from India\n",
      "I am from Norway\n",
      "I am from Brazil\n"
     ]
    }
   ],
   "source": [
    "# Example for Default Varible in function\n",
    "def my_function(country = \"Norway\"):\n",
    "  print(\"I am from \" + country)\n",
    "  \n",
    "my_function(\"Sweden\")\n",
    "my_function(\"India\")\n",
    "my_function() # if default variable is not passed, it will take default value\n",
    "my_function(\"Brazil\")"
   ]
  },
  {
   "cell_type": "markdown",
   "id": "37e8e76f",
   "metadata": {},
   "source": [
    "# Passing a List as an Argument\n",
    "\n",
    "You can send any data types of argument to a function (string, number, list, dictionary etc.), \n",
    "and it will be treated as the same data type inside the function.\n",
    "\n",
    "E.g. if you send a List as an argument, it will still be a List when it reaches the function:"
   ]
  },
  {
   "cell_type": "code",
   "execution_count": 21,
   "id": "f13628d8",
   "metadata": {},
   "outputs": [
    {
     "name": "stdout",
     "output_type": "stream",
     "text": [
      "apple\n",
      "banana\n",
      "cherry\n",
      "apple\n",
      "banana\n",
      "cherry\n",
      "banana\n"
     ]
    }
   ],
   "source": [
    "# Example for passing list as argument\n",
    "\n",
    "def my_function(food):\n",
    "  for x in food:\n",
    "    print(x)\n",
    "\n",
    "fruits = [\"apple\", \"banana\", \"cherry\"] # List\n",
    "\n",
    "my_function(fruits)\n",
    "\n",
    "# Arbitrary Arguments, *args\n",
    "def my_function(*fruits):\n",
    "  for x in fruits:\n",
    "    print(x)\n",
    "\n",
    "fruits = (\"apple\", \"banana\", \"cherry\") # Tuple\n",
    "my_function(*fruits)\n",
    "\n",
    "print(fruits[1])"
   ]
  },
  {
   "cell_type": "markdown",
   "id": "b764f1ad",
   "metadata": {},
   "source": [
    "# Return Values\n",
    "\n",
    "To let a function return a value, use the return statement:"
   ]
  },
  {
   "cell_type": "code",
   "execution_count": 25,
   "id": "97742f7e",
   "metadata": {},
   "outputs": [
    {
     "name": "stdout",
     "output_type": "stream",
     "text": [
      "15\n",
      "25\n",
      "45\n"
     ]
    }
   ],
   "source": [
    "# Example for returning value from function\n",
    "\n",
    "def my_function(x):\n",
    "    return 5*x\n",
    "\n",
    "print(my_function(3))\n",
    "print(my_function(5))\n",
    "print(my_function(9))"
   ]
  },
  {
   "cell_type": "markdown",
   "id": "4051ba67",
   "metadata": {},
   "source": [
    "# The pass Statement\n",
    "Function definitions cannot be empty, but if you for some reason have a function definition with no content, \n",
    "put in the pass statement to avoid getting an error."
   ]
  },
  {
   "cell_type": "code",
   "execution_count": 26,
   "id": "1762ff8c",
   "metadata": {},
   "outputs": [],
   "source": [
    "def myfunction():\n",
    "  pass"
   ]
  },
  {
   "cell_type": "markdown",
   "id": "3b42929f",
   "metadata": {},
   "source": [
    "#   Positional-Only Arguments\n",
    "\n",
    "You can specify that a function can have ONLY positional arguments, or ONLY keyword arguments.\n",
    "\n",
    "To specify that a function can have only positional arguments, add , / after the arguments:"
   ]
  },
  {
   "cell_type": "code",
   "execution_count": null,
   "id": "67b95c27",
   "metadata": {},
   "outputs": [
    {
     "name": "stdout",
     "output_type": "stream",
     "text": [
      "3\n"
     ]
    },
    {
     "ename": "TypeError",
     "evalue": "my_function() got some positional-only arguments passed as keyword arguments: 'x'",
     "output_type": "error",
     "traceback": [
      "\u001b[31m---------------------------------------------------------------------------\u001b[39m",
      "\u001b[31mTypeError\u001b[39m                                 Traceback (most recent call last)",
      "\u001b[36mCell\u001b[39m\u001b[36m \u001b[39m\u001b[32mIn[32]\u001b[39m\u001b[32m, line 8\u001b[39m\n\u001b[32m      4\u001b[39m   \u001b[38;5;28mprint\u001b[39m(x)\n\u001b[32m      6\u001b[39m my_function(\u001b[32m3\u001b[39m)\n\u001b[32m----> \u001b[39m\u001b[32m8\u001b[39m \u001b[43mmy_function\u001b[49m\u001b[43m(\u001b[49m\u001b[43mx\u001b[49m\u001b[43m \u001b[49m\u001b[43m=\u001b[49m\u001b[43m \u001b[49m\u001b[32;43m3\u001b[39;49m\u001b[43m)\u001b[49m\n\u001b[32m      9\u001b[39m \u001b[38;5;66;03m# Example for positional-only argument with multiple parameters\u001b[39;00m\n\u001b[32m     11\u001b[39m \u001b[38;5;28;01mdef\u001b[39;00m\u001b[38;5;250m \u001b[39m\u001b[34mmy_function\u001b[39m(a, b, /, c, d):\n",
      "\u001b[31mTypeError\u001b[39m: my_function() got some positional-only arguments passed as keyword arguments: 'x'"
     ]
    }
   ],
   "source": [
    "# Example for positional-only argument\n",
    "\n",
    "def my_function(x, /):\n",
    "  print(x)\n",
    "\n",
    "my_function(3)\n",
    "\n",
    "my_function(x = 3)\n",
    "\n",
    "# Example for positional-only argument with multiple parameters\n",
    "\n",
    "def my_function(a, b, /, c, d):\n",
    "  print(a, b, c, d)\n",
    "  \n",
    "my_function(10, 20, d=30, c=40)"
   ]
  },
  {
   "cell_type": "code",
   "execution_count": null,
   "id": "cb1a0916",
   "metadata": {},
   "outputs": [
    {
     "name": "stdout",
     "output_type": "stream",
     "text": [
      "10 20 40 30\n",
      "3\n"
     ]
    }
   ],
   "source": [
    "# Without the , / you are actually allowed to use keyword arguments even if the function expects positional arguments:\n",
    "\n",
    "def my_function(a, b, c, d):\n",
    "  print(a, b, c, d)\n",
    "  \n",
    "my_function(10, 20, d=30, c=40)\n",
    "\n",
    "# keyword-only arguments\n",
    "def my_function(x):\n",
    "  print(x)\n",
    "\n",
    "my_function(x = 3)"
   ]
  },
  {
   "cell_type": "markdown",
   "id": "3aaa5928",
   "metadata": {},
   "source": [
    "# Recursion\n",
    "\n",
    "Python also accepts function recursion, which means a defined function can call itself.\n",
    "\n",
    "Recursion is a common mathematical and programming concept. \n",
    "It means that a function calls itself. \n",
    "This has the benefit of meaning that you can loop through data to reach a result.\n",
    "\n",
    "The developer should be very careful with recursion as it can be quite easy to slip into writing a function which never terminates, or one that uses excess amounts of memory or processor power. \n",
    "However, when written correctly recursion can be a very efficient and mathematically-elegant approach to programming.\n",
    "\n",
    "In this example, tri_recursion() is a function that we have defined to call itself (\"recurse\"). \n",
    "We use the k variable as the data, which decrements (-1) every time we recurse. \n",
    "The recursion ends when the condition is not greater than 0 (i.e. when it is 0).\n",
    "\n",
    "To a new developer it can take some time to work out how exactly this works, best way to find out is by testing and modifying it."
   ]
  },
  {
   "cell_type": "code",
   "execution_count": 33,
   "id": "8c5b633a",
   "metadata": {},
   "outputs": [
    {
     "name": "stdout",
     "output_type": "stream",
     "text": [
      "Recursion Example Results:\n",
      "1\n",
      "3\n",
      "6\n",
      "10\n",
      "15\n",
      "21\n"
     ]
    },
    {
     "data": {
      "text/plain": [
       "21"
      ]
     },
     "execution_count": 33,
     "metadata": {},
     "output_type": "execute_result"
    }
   ],
   "source": [
    "# Recursion example\n",
    "\n",
    "def tri_recursion(k):\n",
    "  if(k > 0):\n",
    "    result = k + tri_recursion(k - 1)\n",
    "    print(result)\n",
    "  else:\n",
    "    result = 0\n",
    "  return result\n",
    "\n",
    "print(\"Recursion Example Results:\")\n",
    "tri_recursion(6)\n"
   ]
  }
 ],
 "metadata": {
  "kernelspec": {
   "display_name": "Python 3",
   "language": "python",
   "name": "python3"
  },
  "language_info": {
   "codemirror_mode": {
    "name": "ipython",
    "version": 3
   },
   "file_extension": ".py",
   "mimetype": "text/x-python",
   "name": "python",
   "nbconvert_exporter": "python",
   "pygments_lexer": "ipython3",
   "version": "3.13.6"
  }
 },
 "nbformat": 4,
 "nbformat_minor": 5
}
