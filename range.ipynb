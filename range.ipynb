{
 "cells": [
  {
   "cell_type": "markdown",
   "id": "e8470cea",
   "metadata": {},
   "source": [
    "# Python range\n",
    "\n",
    "The built-in range() function returns an immutable sequence of numbers, commonly used for looping a specific number of times.\n",
    "\n",
    "This set of numbers has its own data type called range.\n",
    "\n",
    "Note: Immutable means that it cannot be modified after it is created."
   ]
  },
  {
   "cell_type": "markdown",
   "id": "03a4c191",
   "metadata": {},
   "source": [
    "# Call range() With One Argument\n",
    "\n",
    "If the range function is called with only one argument, the argument represents the stop value.\n",
    "\n",
    "The start argument is optional, and if not provided, it defaults to 0.\n",
    "\n",
    "range(10) returns a sequence of each number from 0 to 9. (The start argument, 0 is inclusive, and the stop argument, 10 is exclusive)."
   ]
  },
  {
   "cell_type": "code",
   "execution_count": 4,
   "id": "0981a4a2",
   "metadata": {},
   "outputs": [
    {
     "name": "stdout",
     "output_type": "stream",
     "text": [
      "range(0, 10)\n"
     ]
    }
   ],
   "source": [
    "# Creating range\n",
    "\n",
    "range(1, 10, 2) # value of (start, stop, step)\n",
    "\n",
    "# creating a range of numbers from 0 to 9\n",
    "\n",
    "x = range(10)\n",
    "print(x) # range(0, 10)"
   ]
  },
  {
   "cell_type": "markdown",
   "id": "28fec490",
   "metadata": {},
   "source": [
    "#   Call range() With Two Arguments\n",
    "If the range function is called with two arguments, the first argument represents the start value, and the second argument represents the stop value.\n",
    "\n",
    "range(3, 10) returns a sequence of each number from 3 to 9:"
   ]
  },
  {
   "cell_type": "code",
   "execution_count": null,
   "id": "277f8276",
   "metadata": {},
   "outputs": [],
   "source": [
    "x = range(3, 10)\n",
    "for i in x:\n",
    "    print(i)\n",
    "  \n",
    "print(x)\n",
    "  \n",
    "for i in range(3, 10):\n",
    "    print(i)"
   ]
  },
  {
   "cell_type": "markdown",
   "id": "7cbe3f11",
   "metadata": {},
   "source": [
    "# Using List to Display Ranges\n",
    "\n",
    "The range object is a data type that represents an immutable sequence of numbers, and it is not directly displayable.\n",
    "\n",
    "Therefore, ranges are often converted to lists for display."
   ]
  },
  {
   "cell_type": "code",
   "execution_count": null,
   "id": "c12452c7",
   "metadata": {},
   "outputs": [
    {
     "name": "stdout",
     "output_type": "stream",
     "text": [
      "[0, 1, 2, 3, 4]\n",
      "[1, 2, 3, 4, 5]\n",
      "[4, 6, 8, 10, 12, 14, 16, 18]\n"
     ]
    }
   ],
   "source": [
    "# Convert different ranges to lists:\n",
    "\n",
    "print(list(range(5)))\n",
    "print(list(range(1, 6)))\n",
    "print(list(range(4, 20, 2))) # don't include last number"
   ]
  },
  {
   "cell_type": "markdown",
   "id": "b67ea483",
   "metadata": {},
   "source": [
    "# Slicing Ranges\n",
    "\n",
    "Like other sequences, ranges can be sliced to extract a subsequence."
   ]
  },
  {
   "cell_type": "code",
   "execution_count": 16,
   "id": "7d0db02e",
   "metadata": {},
   "outputs": [
    {
     "name": "stdout",
     "output_type": "stream",
     "text": [
      "range(0, 10)\n",
      "2\n",
      "9\n",
      "range(0, 3)\n"
     ]
    }
   ],
   "source": [
    "r = range(10)\n",
    "print (r)\n",
    "print(r[2])\n",
    "print(r[-1])\n",
    "print(r[:3])\n"
   ]
  },
  {
   "cell_type": "markdown",
   "id": "47b46aba",
   "metadata": {},
   "source": [
    "#   Membership Testing\n",
    "Ranges support membership testing with the in operator."
   ]
  },
  {
   "cell_type": "code",
   "execution_count": 17,
   "id": "32060554",
   "metadata": {},
   "outputs": [
    {
     "name": "stdout",
     "output_type": "stream",
     "text": [
      "True\n",
      "False\n"
     ]
    }
   ],
   "source": [
    "## ArgumentsTest if the numbers 6 and 7 are present in a range:\n",
    "\n",
    "r = range(0, 10, 2)\n",
    "print(6 in r)\n",
    "print(7 in r)"
   ]
  },
  {
   "cell_type": "markdown",
   "id": "29c21436",
   "metadata": {},
   "source": [
    "# Length\n",
    "\n",
    "Ranges support the len() function to get the number of elements in the range.\n"
   ]
  },
  {
   "cell_type": "code",
   "execution_count": 19,
   "id": "ad25c06a",
   "metadata": {},
   "outputs": [
    {
     "name": "stdout",
     "output_type": "stream",
     "text": [
      "4\n"
     ]
    }
   ],
   "source": [
    "# Get the length of range\n",
    "\n",
    "r = range(0, 10, 3)\n",
    "print(len(r))"
   ]
  }
 ],
 "metadata": {
  "kernelspec": {
   "display_name": "Python 3",
   "language": "python",
   "name": "python3"
  },
  "language_info": {
   "codemirror_mode": {
    "name": "ipython",
    "version": 3
   },
   "file_extension": ".py",
   "mimetype": "text/x-python",
   "name": "python",
   "nbconvert_exporter": "python",
   "pygments_lexer": "ipython3",
   "version": "3.13.6"
  }
 },
 "nbformat": 4,
 "nbformat_minor": 5
}
