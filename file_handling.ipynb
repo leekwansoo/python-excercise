{
 "cells": [
  {
   "cell_type": "markdown",
   "id": "55499ed6",
   "metadata": {},
   "source": [
    "## File Handling\n",
    "\n",
    "Python has several functions for creating, reading, updating, and deleting files.\n",
    "\n",
    "The key function for working with files in Python is the open() function.\n",
    "\n",
    "The open() function takes two parameters; filename, and mode.\n",
    "\n",
    "There are four different methods (modes) for opening a file:"
   ]
  },
  {
   "cell_type": "markdown",
   "id": "acbc5a8c",
   "metadata": {},
   "source": [
    "\"r\" - Read - Default value. Opens a file for reading, error if the file does not exist\n",
    "\n",
    "\"a\" - Append - Opens a file for appending, creates the file if it does not exist\n",
    "\n",
    "\"w\" - Write - Opens a file for writing, creates the file if it does not exist\n",
    "\n",
    "\"x\" - Create - Creates the specified file, returns an error if the file exists"
   ]
  },
  {
   "cell_type": "code",
   "execution_count": 2,
   "id": "110dc8ae",
   "metadata": {},
   "outputs": [],
   "source": [
    "# Create demofile.txt for exercise\n",
    "\n",
    "with open(\"example_data/demofile.txt\", \"w\") as f:\n",
    "    f.write(\"Hello World!\\n\")\n",
    "    f.write(\"This is a demo file.\\n\")\n",
    "    f.write(\"It contains some sample text.\\n\")\n",
    "    f.write(\"Feel free to modify it as needed.\\n\")"
   ]
  },
  {
   "cell_type": "markdown",
   "id": "cfbab026",
   "metadata": {},
   "source": [
    "#   In addition you can specify if the file should be handled as binary or text mode\n",
    "\n",
    "\"t\" - Text - Default value. Text mode\n",
    "\n",
    "\"b\" - Binary - Binary mode (e.g. images)"
   ]
  },
  {
   "cell_type": "code",
   "execution_count": 3,
   "id": "45b4bb99",
   "metadata": {},
   "outputs": [],
   "source": [
    "#   To open a file for reading it is enough to specify the name of the file:\n",
    "\n",
    "f = open(\"example_data/demofile.txt\")"
   ]
  },
  {
   "cell_type": "code",
   "execution_count": 4,
   "id": "5753c341",
   "metadata": {},
   "outputs": [],
   "source": [
    "#  The code above is the same as: \n",
    "\n",
    "f = open(\"example_data/demofile.txt\", \"rt\")\n",
    "\n",
    "# \"r\" for read, and \"t\" for text are the default values, you do not need to specify them."
   ]
  },
  {
   "cell_type": "markdown",
   "id": "5eb30d3a",
   "metadata": {},
   "source": [
    "# Open file and Read the content of file\n",
    "\n",
    "we created a file \"example_data/demofile.txt\" from previous demo"
   ]
  },
  {
   "cell_type": "code",
   "execution_count": 5,
   "id": "4077ea0a",
   "metadata": {},
   "outputs": [
    {
     "name": "stdout",
     "output_type": "stream",
     "text": [
      "Hello World!\n",
      "This is a demo file.\n",
      "It contains some sample text.\n",
      "Feel free to modify it as needed.\n",
      "\n"
     ]
    }
   ],
   "source": [
    "# The open() function returns a file object, which has a read() method for reading the content of the file:\n",
    "f = open(\"example_data/demofile.txt\", \"r\")\n",
    "content = f.read()\n",
    "print(content)\n",
    "f.close()"
   ]
  },
  {
   "cell_type": "markdown",
   "id": "5f9746d4",
   "metadata": {},
   "source": [
    "Using the with statement\n",
    "You can also use the with statement when opening a file:"
   ]
  },
  {
   "cell_type": "code",
   "execution_count": null,
   "id": "f8a3c14e",
   "metadata": {},
   "outputs": [
    {
     "name": "stdout",
     "output_type": "stream",
     "text": [
      "Hello World!\n",
      "This is a demo file.\n",
      "It contains some sample text.\n",
      "Feel free to modify it as needed.\n",
      "\n"
     ]
    }
   ],
   "source": [
    "with open(\"example_data/demofile.txt\") as f:\n",
    "  print(f.read())\n",
    "  \n",
    "#   Then you do not have to worry about closing your files, the with statement takes care of that."
   ]
  },
  {
   "cell_type": "markdown",
   "id": "7ca2386a",
   "metadata": {},
   "source": [
    "Close Files\n",
    "\n",
    "It is a good practice to always close the file when you are done with it.\n",
    "\n",
    "If you are not using the with statement, you must write a close statement in order to close the file:"
   ]
  },
  {
   "cell_type": "code",
   "execution_count": 16,
   "id": "d3fee98f",
   "metadata": {},
   "outputs": [
    {
     "name": "stdout",
     "output_type": "stream",
     "text": [
      "Hello World!\n",
      "\n"
     ]
    }
   ],
   "source": [
    "# Read lines\n",
    "# Read one line of the file:\n",
    "f = open(\"example_data/demofile.txt\")\n",
    "print(f.readline())  # Read the first 20 characters\n",
    "f.close()"
   ]
  },
  {
   "cell_type": "code",
   "execution_count": 17,
   "id": "b6208c7d",
   "metadata": {},
   "outputs": [
    {
     "name": "stdout",
     "output_type": "stream",
     "text": [
      "Hello World!\n",
      "\n",
      "This is a demo file.\n",
      "\n"
     ]
    }
   ],
   "source": [
    "# By calling readline() two times, you can read the two first lines:\n",
    "with open(\"example_data/demofile.txt\") as f:\n",
    "  print(f.readline())\n",
    "  print(f.readline())"
   ]
  },
  {
   "cell_type": "code",
   "execution_count": 21,
   "id": "ebc31f23",
   "metadata": {},
   "outputs": [
    {
     "name": "stdout",
     "output_type": "stream",
     "text": [
      "Hello World!\n",
      "\n",
      "This is a demo file.\n",
      "\n",
      "It contains some sample text.\n",
      "\n",
      "Feel free to modify it as needed.\n",
      "\n",
      "Hello World!\n",
      "This is a demo file.\n",
      "It contains some sample text.\n",
      "Feel free to modify it as needed.\n",
      "\n",
      "Hello World!\n",
      "This is a demo file.\n",
      "It contains some sample text.\n",
      "Feel free to modify it as needed.\n",
      "\n"
     ]
    }
   ],
   "source": [
    "# By looping through the lines of the file, you can read the whole file, line by line:\n",
    "with open(\"example_data/demofile.txt\") as f:\n",
    "  for line in f:\n",
    "    print(line)\n",
    "    \n",
    "with open(\"example_data/demofile.txt\") as f:\n",
    "    print(f.read())\n",
    "\n",
    "with open(\"example_data/demofile.txt\") as f:\n",
    "    content = f.read()\n",
    "    print(content)"
   ]
  },
  {
   "cell_type": "code",
   "execution_count": 15,
   "id": "c38d7c64",
   "metadata": {},
   "outputs": [
    {
     "name": "stdout",
     "output_type": "stream",
     "text": [
      "Hello World!\n"
     ]
    }
   ],
   "source": [
    "# Read Only Parts of the File\n",
    "# By default the read() method returns the whole text, but you can also specify how many characters you want to return:\n",
    "\n",
    "with open(\"demofile.txt\") as f:\n",
    "  print(f.read(12))"
   ]
  },
  {
   "cell_type": "markdown",
   "id": "c75735c9",
   "metadata": {},
   "source": [
    "#   Write to an Existing File\n",
    "To write to an existing file, you must add a parameter to the open() function:\n",
    "\n",
    "\"a\" - Append - will append to the end of the file\n",
    "\n",
    "\"w\" - Write - will overwrite any existing content"
   ]
  },
  {
   "cell_type": "code",
   "execution_count": 22,
   "id": "05437112",
   "metadata": {},
   "outputs": [
    {
     "name": "stdout",
     "output_type": "stream",
     "text": [
      "Hello World!\n",
      "This is a demo file.\n",
      "It contains some sample text.\n",
      "Feel free to modify it as needed.\n",
      "This is the appended text.\n"
     ]
    }
   ],
   "source": [
    "# Open the file \"demofile.txt\" and append content to the file:\n",
    "with open(\"example_data/demofile.txt\", \"a\") as f:\n",
    "    f.write(\"This is the appended text.\")\n",
    "    \n",
    "#open and read the file after the appending:\n",
    "with open(\"example_data/demofile.txt\") as f:\n",
    "  print(f.read())"
   ]
  },
  {
   "cell_type": "code",
   "execution_count": 23,
   "id": "b5f73450",
   "metadata": {},
   "outputs": [
    {
     "name": "stdout",
     "output_type": "stream",
     "text": [
      "This is the new content.\n"
     ]
    }
   ],
   "source": [
    "# To overwrite the existing content to the file, use the w parameter:\n",
    "\n",
    "with open(\"example_data/demofile.txt\", \"w\") as f:\n",
    "    f.write(\"This is the new content.\")\n",
    "    \n",
    "    \n",
    "#open and read the file after the overwriting:\n",
    "with open(\"example_data/demofile.txt\") as f:\n",
    "  print(f.read())"
   ]
  },
  {
   "cell_type": "markdown",
   "id": "79830320",
   "metadata": {},
   "source": [
    "#   Create a New File\n",
    "\n",
    "To create a new file in Python, use the open() method, with one of the following parameters:\n",
    "\n",
    "\"x\" - Create - will create a file, returns an error if the file exists\n",
    "\n",
    "\"a\" - Append - will create a file if the specified file does not exists\n",
    "\n",
    "\"w\" - Write - will create a file if the specified file does not exists"
   ]
  },
  {
   "cell_type": "code",
   "execution_count": null,
   "id": "86994c12",
   "metadata": {},
   "outputs": [],
   "source": [
    "# Create a new file called \"myfile.txt\":\n",
    "\n",
    "f = open(\"example_data/myfile.txt\", \"x\")  # a new empty file is created.\n",
    "f.close()\n",
    "\n",
    "#  Note: If the file already exist, an error will be raised."
   ]
  },
  {
   "cell_type": "code",
   "execution_count": 25,
   "id": "d681e6e4",
   "metadata": {},
   "outputs": [],
   "source": [
    "# Delete a file\n",
    "\n",
    "import os\n",
    "os.remove(\"demofile.txt\")"
   ]
  },
  {
   "cell_type": "code",
   "execution_count": 30,
   "id": "b6e4a5dd",
   "metadata": {},
   "outputs": [
    {
     "name": "stdout",
     "output_type": "stream",
     "text": [
      "The file does not exist\n"
     ]
    }
   ],
   "source": [
    "# Check if File exist:\n",
    "# To avoid getting an error, you might want to check if the file exists before you try to delete it:\n",
    "\n",
    "import os\n",
    "if os.path.exists(\"demofile.txt\"):\n",
    "  os.remove(\"demofile.txt\")\n",
    "else:\n",
    "  print(\"The file does not exist\")\n"
   ]
  },
  {
   "cell_type": "code",
   "execution_count": 31,
   "id": "9155a606",
   "metadata": {},
   "outputs": [
    {
     "name": "stdout",
     "output_type": "stream",
     "text": [
      "Folder created successfully\n"
     ]
    }
   ],
   "source": [
    "# Create a folder\n",
    "\n",
    "import os\n",
    "\n",
    "os.mkdir(\"myfolder\")\n",
    "\n",
    "if os.path.exists(\"myfolder\"):\n",
    "    print(\"Folder created successfully\")"
   ]
  },
  {
   "cell_type": "code",
   "execution_count": null,
   "id": "c56c8768",
   "metadata": {},
   "outputs": [],
   "source": [
    "# Delete an entire folder\n",
    "\n",
    "import os\n",
    "\n",
    "os.rmdir(\"myfolder\")\n",
    "if not os.path.exists(\"myfolder\"):\n",
    "    print(\"Folder deleted successfully\")\n",
    "else:\n",
    "    print(\"Folder still exists\")\n",
    "\n",
    "os.rmdir(\"example_data\")  # This will not remove the folder if it is not empty\n",
    "if not os.path.exists(\"example_data\"):\n",
    "    print(\"Folder deleted successfully\")\n",
    "\n"
   ]
  },
  {
   "cell_type": "code",
   "execution_count": null,
   "id": "aab0bfe5",
   "metadata": {},
   "outputs": [],
   "source": []
  }
 ],
 "metadata": {
  "kernelspec": {
   "display_name": "Python 3",
   "language": "python",
   "name": "python3"
  },
  "language_info": {
   "codemirror_mode": {
    "name": "ipython",
    "version": 3
   },
   "file_extension": ".py",
   "mimetype": "text/x-python",
   "name": "python",
   "nbconvert_exporter": "python",
   "pygments_lexer": "ipython3",
   "version": "3.13.6"
  }
 },
 "nbformat": 4,
 "nbformat_minor": 5
}
