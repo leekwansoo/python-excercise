{
 "cells": [
  {
   "cell_type": "markdown",
   "id": "af333c7e",
   "metadata": {},
   "source": [
    "##  Python math Module\n",
    "\n",
    "Python has a built-in module that you can use for mathematical tasks.\n",
    "\n",
    "The math module has a set of methods and constants."
   ]
  },
  {
   "cell_type": "markdown",
   "id": "ab55493f",
   "metadata": {},
   "source": [
    "## Math Methods\n",
    "\n",
    "Method\t            Description\n",
    "math.acos()\t        Returns the arc cosine of a number\n",
    "math.acosh()\t    Returns the inverse hyperbolic cosine of a number\n",
    "math.asin()\t        Returns the arc sine of a number\n",
    "math.asinh()\t    Returns the inverse hyperbolic sine of a number\n",
    "math.atan()\t        Returns the arc tangent of a number in radians\n",
    "math.atan2()\t    Returns the arc tangent of y/x in radians\n",
    "math.atanh()\t    Returns the inverse hyperbolic tangent of a number\n",
    "math.ceil()\t        Rounds a number up to the nearest integer\n",
    "math.comb()\t        Returns the number of ways to choose k items from n items without repetition and order\n",
    "math.copysign()\t    Returns a float consisting of the value of the first parameter and the sign of the second parameter\n",
    "math.cos()\t        Returns the cosine of a number\n",
    "math.cosh()\t        Returns the hyperbolic cosine of a number\n",
    "math.degrees()\t    Converts an angle from radians to degrees\n",
    "math.dist()\t        Returns the Euclidean distance between two points (p and q), where p and q are the coordinates of that point\n",
    "math.erf()\t        Returns the error function of a number\n",
    "math.erfc()\t        Returns the complementary error function of a number\n",
    "math.exp()\t        Returns E raised to the power of x\n",
    "math.expm1()\t    Returns Ex - 1\n",
    "math.fabs()\t        Returns the absolute value of a number\n",
    "math.factorial()\tReturns the factorial of a number\n",
    "math.floor()\t    Rounds a number down to the nearest integer\n",
    "math.fmod()\t        Returns the remainder of x/y\n",
    "math.frexp()\t    Returns the mantissa and the exponent, of a specified number\n",
    "math.fsum()\t        Returns the sum of all items in any iterable (tuples, arrays, lists, etc.)\n",
    "math.gamma()\t    Returns the gamma function at x\n",
    "math.gcd()\t        Returns the greatest common divisor of two integers\n",
    "math.hypot()\t    Returns the Euclidean norm\n",
    "math.isclose()\t    Checks whether two values are close to each other, or not\n",
    "math.isfinite()\t    Checks whether a number is finite or not\n",
    "math.isinf()\t    Checks whether a number is infinite or not\n",
    "math.isnan()\t    Checks whether a value is NaN (not a number) or not\n",
    "math.isqrt()\t    Rounds a square root number downwards to the nearest integer\n",
    "math.ldexp()\t    Returns the inverse of math.frexp() which is x * (2**i) of the given numbers x and i\n",
    "math.lgamma()\t    Returns the log gamma value of x\n",
    "math.log()\t        Returns the natural logarithm of a number, or the logarithm of number to base\n",
    "math.log10()\t    Returns the base-10 logarithm of x\n",
    "math.log1p()\t    Returns the natural logarithm of 1+x\n",
    "math.log2()\t        Returns the base-2 logarithm of x\n",
    "math.perm()\t        Returns the number of ways to choose k items from n items with order and without repetition\n",
    "math.pow()\t        Returns the value of x to the power of y\n",
    "math.prod()\t        Returns the product of all the elements in an iterable\n",
    "math.radians()\t    Converts a degree value into radians\n",
    "math.remainder()\tReturns the closest value that can make numerator completely divisible by the denominator\n",
    "math.sin()\t        Returns the sine of a number\n",
    "math.sinh()\t        Returns the hyperbolic sine of a number\n",
    "math.sqrt()\t        Returns the square root of a number\n",
    "math.tan()\t        Returns the tangent of a number\n",
    "math.tanh()\t        Returns the hyperbolic tangent of a number\n",
    "math.trunc()\t    Returns the truncated integer parts of a number"
   ]
  },
  {
   "cell_type": "markdown",
   "id": "1fd93577",
   "metadata": {},
   "source": [
    "## Math Constants\n",
    "\n",
    "Constant\t        Description\n",
    "math.e\t            Returns Euler's number (2.7182...)\n",
    "math.inf\t        Returns a floating-point positive infinity\n",
    "math.nan\t        Returns a floating-point NaN (Not a Number) value\n",
    "math.pi\t            Returns PI (3.1415...)\n",
    "math.tau\t        Returns tau (6.2831...)"
   ]
  }
 ],
 "metadata": {
  "language_info": {
   "name": "python"
  }
 },
 "nbformat": 4,
 "nbformat_minor": 5
}
