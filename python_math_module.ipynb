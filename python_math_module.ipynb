{
 "cells": [
  {
   "cell_type": "markdown",
   "id": "af333c7e",
   "metadata": {},
   "source": [
    "##  Python math Module\n",
    "\n",
    "Python has a built-in module that you can use for mathematical tasks.\n",
    "\n",
    "The math module has a set of methods and constants."
   ]
  },
  {
   "cell_type": "markdown",
   "id": "ab55493f",
   "metadata": {},
   "source": [
    "## Math Methods\n",
    "\n",
    "Method\t            Description\n",
    "math.acos()\t        Returns the arc cosine of a number\n",
    "math.acosh()\t    Returns the inverse hyperbolic cosine of a number\n",
    "math.asin()\t        Returns the arc sine of a number\n",
    "math.asinh()\t    Returns the inverse hyperbolic sine of a number\n",
    "math.atan()\t        Returns the arc tangent of a number in radians\n",
    "math.atan2()\t    Returns the arc tangent of y/x in radians\n",
    "math.atanh()\t    Returns the inverse hyperbolic tangent of a number\n",
    "math.ceil()\t        Rounds a number up to the nearest integer\n",
    "math.comb()\t        Returns the number of ways to choose k items from n items without repetition and order\n",
    "math.copysign()\t    Returns a float consisting of the value of the first parameter and the sign of the second parameter\n",
    "math.cos()\t        Returns the cosine of a number\n",
    "math.cosh()\t        Returns the hyperbolic cosine of a number\n",
    "math.degrees()\t    Converts an angle from radians to degrees\n",
    "math.dist()\t        Returns the Euclidean distance between two points (p and q), where p and q are the coordinates of that point\n",
    "math.erf()\t        Returns the error function of a number\n",
    "math.erfc()\t        Returns the complementary error function of a number\n",
    "math.exp()\t        Returns E raised to the power of x\n",
    "math.expm1()\t    Returns Ex - 1\n",
    "math.fabs()\t        Returns the absolute value of a number\n",
    "math.factorial()\tReturns the factorial of a number\n",
    "math.floor()\t    Rounds a number down to the nearest integer\n",
    "math.fmod()\t        Returns the remainder of x/y\n",
    "math.frexp()\t    Returns the mantissa and the exponent, of a specified number\n",
    "math.fsum()\t        Returns the sum of all items in any iterable (tuples, arrays, lists, etc.)\n",
    "math.gamma()\t    Returns the gamma function at x\n",
    "math.gcd()\t        Returns the greatest common divisor of two integers\n",
    "math.hypot()\t    Returns the Euclidean norm\n",
    "math.isclose()\t    Checks whether two values are close to each other, or not\n",
    "math.isfinite()\t    Checks whether a number is finite or not\n",
    "math.isinf()\t    Checks whether a number is infinite or not\n",
    "math.isnan()\t    Checks whether a value is NaN (not a number) or not\n",
    "math.isqrt()\t    Rounds a square root number downwards to the nearest integer\n",
    "math.ldexp()\t    Returns the inverse of math.frexp() which is x * (2**i) of the given numbers x and i\n",
    "math.lgamma()\t    Returns the log gamma value of x\n",
    "math.log()\t        Returns the natural logarithm of a number, or the logarithm of number to base\n",
    "math.log10()\t    Returns the base-10 logarithm of x\n",
    "math.log1p()\t    Returns the natural logarithm of 1+x\n",
    "math.log2()\t        Returns the base-2 logarithm of x\n",
    "math.perm()\t        Returns the number of ways to choose k items from n items with order and without repetition\n",
    "math.pow()\t        Returns the value of x to the power of y\n",
    "math.prod()\t        Returns the product of all the elements in an iterable\n",
    "math.radians()\t    Converts a degree value into radians\n",
    "math.remainder()\tReturns the closest value that can make numerator completely divisible by the denominator\n",
    "math.sin()\t        Returns the sine of a number\n",
    "math.sinh()\t        Returns the hyperbolic sine of a number\n",
    "math.sqrt()\t        Returns the square root of a number\n",
    "math.tan()\t        Returns the tangent of a number\n",
    "math.tanh()\t        Returns the hyperbolic tangent of a number\n",
    "math.trunc()\t    Returns the truncated integer parts of a number"
   ]
  },
  {
   "cell_type": "markdown",
   "id": "1fd93577",
   "metadata": {},
   "source": [
    "## Math Constants\n",
    "\n",
    "Constant\t        Description\n",
    "math.e\t            Returns Euler's number (2.7182...)\n",
    "math.inf\t        Returns a floating-point positive infinity\n",
    "math.nan\t        Returns a floating-point NaN (Not a Number) value\n",
    "math.pi\t            Returns PI (3.1415...)\n",
    "math.tau\t        Returns tau (6.2831...)"
   ]
  },
  {
   "cell_type": "markdown",
   "id": "b6419bae",
   "metadata": {},
   "source": [
    "## 🚀 Interactive Examples\n",
    "\n",
    "Let's practice using the Python math module with hands-on examples!"
   ]
  },
  {
   "cell_type": "code",
   "execution_count": null,
   "id": "1bfbaa4c",
   "metadata": {},
   "outputs": [],
   "source": [
    "# Import the math module\n",
    "import math\n",
    "\n",
    "# Example 1: Basic calculations\n",
    "print(\"=== Basic Math Operations ===\")\n",
    "print(f\"Square root of 16: {math.sqrt(16)}\")\n",
    "print(f\"2 to the power of 3: {math.pow(2, 3)}\")\n",
    "print(f\"Factorial of 5: {math.factorial(5)}\")\n",
    "print(f\"Ceiling of 4.2: {math.ceil(4.2)}\")\n",
    "print(f\"Floor of 4.8: {math.floor(4.8)}\")\n",
    "\n",
    "print(\"\\n=== Math Constants ===\")\n",
    "print(f\"Value of PI: {math.pi}\")\n",
    "print(f\"Value of E: {math.e}\")\n",
    "print(f\"Value of Tau: {math.tau}\")"
   ]
  },
  {
   "cell_type": "markdown",
   "id": "04019f64",
   "metadata": {},
   "source": [
    "### 🎯 Try It Yourself!\n",
    "\n",
    "Modify the code below to explore different math functions:"
   ]
  },
  {
   "cell_type": "code",
   "execution_count": null,
   "id": "b8579c0b",
   "metadata": {},
   "outputs": [],
   "source": [
    "# 🎯 Exercise: Try different math functions!\n",
    "\n",
    "# 1. Calculate the square root of your favorite number\n",
    "your_number = 25  # Change this number!\n",
    "result = math.sqrt(your_number)\n",
    "print(f\"Square root of {your_number} is: {result}\")\n",
    "\n",
    "# 2. Calculate the area of a circle (π × r²)\n",
    "radius = 5  # Change the radius!\n",
    "area = math.pi * math.pow(radius, 2)\n",
    "print(f\"Area of circle with radius {radius}: {area:.2f}\")\n",
    "\n",
    "# 3. Convert degrees to radians\n",
    "degrees = 90  # Change this angle!\n",
    "radians = math.radians(degrees)\n",
    "print(f\"{degrees} degrees = {radians:.4f} radians\")\n",
    "\n",
    "# 4. Calculate trigonometric functions\n",
    "angle_in_radians = math.pi / 4  # 45 degrees\n",
    "print(f\"sin(45°) = {math.sin(angle_in_radians):.4f}\")\n",
    "print(f\"cos(45°) = {math.cos(angle_in_radians):.4f}\")\n",
    "print(f\"tan(45°) = {math.tan(angle_in_radians):.4f}\")\n",
    "\n",
    "# 🔥 Challenge: Try to calculate the distance between two points!\n",
    "# Formula: sqrt((x2-x1)² + (y2-y1)²)\n",
    "x1, y1 = 0, 0\n",
    "x2, y2 = 3, 4\n",
    "distance = math.sqrt(math.pow(x2-x1, 2) + math.pow(y2-y1, 2))\n",
    "print(f\"Distance between ({x1},{y1}) and ({x2},{y2}): {distance}\")"
   ]
  }
 ],
 "metadata": {
  "kernelspec": {
   "display_name": "Python 3",
   "language": "python",
   "name": "python3"
  },
  "language_info": {
   "name": "python",
   "version": "3.13.6"
  }
 },
 "nbformat": 4,
 "nbformat_minor": 5
}
