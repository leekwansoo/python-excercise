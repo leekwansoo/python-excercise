{
 "cells": [
  {
   "cell_type": "markdown",
   "id": "15539e90",
   "metadata": {},
   "source": [
    "##  Python statistics Module\n",
    "\n",
    "Python has a built-in module that you can use to calculate mathematical statistics of numeric data.\n",
    "\n",
    "## Statistics Methods"
   ]
  },
  {
   "cell_type": "markdown",
   "id": "386a2854",
   "metadata": {},
   "source": [
    "Method\t                        Description\n",
    "statistics.harmonic_mean()\t    Calculates the harmonic mean (central location) of the given data\n",
    "statistics.mean()\t            Calculates the mean (average) of the given data\n",
    "statistics.median()\t            Calculates the median (middle value) of the given data\n",
    "statistics.median_grouped()\t    Calculates the median of grouped continuous data\n",
    "statistics.median_high()\t    Calculates the high median of the given data\n",
    "statistics.median_low()\t        Calculates the low median of the given data\n",
    "statistics.mode()\t            Calculates the mode (central tendency) of the given numeric or nominal data\n",
    "statistics.pstdev()\t            Calculates the standard deviation from an entire population\n",
    "statistics.stdev()\t            Calculates the standard deviation from a sample of data\n",
    "statistics.pvariance()\t        Calculates the variance of an entire population\n",
    "statistics.variance()\t        Calculates the variance from a sample of data"
   ]
  }
 ],
 "metadata": {
  "language_info": {
   "name": "python"
  }
 },
 "nbformat": 4,
 "nbformat_minor": 5
}
