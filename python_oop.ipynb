{
 "cells": [
  {
   "cell_type": "markdown",
   "id": "f0fe19f8",
   "metadata": {},
   "source": [
    "##   What is OOP?\n",
    "OOP stands for Object-Oriented Programming.\n",
    "\n",
    "Python is an object-oriented language, allowing you to structure your code using classes and objects for better organization and reusability.\n",
    "\n",
    "Advantages of OOP\n",
    "Provides a clear structure to programs\n",
    "Makes code easier to maintain, reuse, and debug\n",
    "Helps keep your code DRY (Don't Repeat Yourself)\n",
    "Allows you to build reusable applications with less code\n",
    "Tip: The DRY principle means you should avoid writing the same code more than once. Move repeated code into functions or classes and reuse it.\n",
    "\n",
    "## What are Classes and Objects?\n",
    "Classes and objects are the two core concepts in object-oriented programming.\n",
    "\n",
    "A class defines what an object should look like, and an object is created based on that class. For example:\n",
    "\n",
    "\n",
    "    Class\tObjects\n",
    "    Fruit\tApple, Banana, Mango\n",
    "    Car\t    Volvo, Audi, Toyota\n",
    "\n",
    "\n",
    "When you create an object from a class, it inherits all the variables and functions defined inside that class.\n",
    "\n",
    "In the next chapters, you will learn how to:\n",
    "\n",
    "    Create a class\n",
    "    Create objects\n",
    "    Access class members\n",
    "    And much more\n"
   ]
  }
 ],
 "metadata": {
  "language_info": {
   "name": "python"
  }
 },
 "nbformat": 4,
 "nbformat_minor": 5
}
