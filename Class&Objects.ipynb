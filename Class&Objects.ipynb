{
 "cells": [
  {
   "cell_type": "markdown",
   "id": "5dcb3e15",
   "metadata": {},
   "source": [
    "## Python Classes/Objects\n",
    "\n",
    "Python is an object oriented programming language.\n",
    "\n",
    "Almost everything in Python is an object, with its properties and methods.\n",
    "\n",
    "A Class is like an object constructor, or a \"blueprint\" for creating objects.\n",
    "\n"
   ]
  },
  {
   "cell_type": "code",
   "execution_count": null,
   "id": "1c3a8671",
   "metadata": {},
   "outputs": [],
   "source": [
    "# Creating a Class MyClass with object properties x and y\n",
    "\n",
    "class MyClass:\n",
    "  x = 5\n",
    "  y = \"Hello, World!\""
   ]
  },
  {
   "cell_type": "code",
   "execution_count": 5,
   "id": "0ad666f1",
   "metadata": {},
   "outputs": [
    {
     "name": "stdout",
     "output_type": "stream",
     "text": [
      "5\n",
      "Hello, World!\n"
     ]
    }
   ],
   "source": [
    "# Create an object named p1, and print the value of x:\n",
    "\n",
    "p1 = MyClass()\n",
    "print(p1.x)\n",
    "print(p1.y)"
   ]
  },
  {
   "cell_type": "markdown",
   "id": "2cdff4cf",
   "metadata": {},
   "source": [
    "#   The __init__() Method\n",
    "\n",
    "The examples above are classes and objects in their simplest form, and are not really useful in real life applications.\n",
    "\n",
    "To understand the meaning of classes we have to understand the built-in __init__() method.\n",
    "\n",
    "All classes have a method called __init__(), which is always executed when the class is being initiated.\n",
    "\n",
    "Use the __init__() method to assign values to object properties, or other operations that are necessary to do when the object is being created:"
   ]
  },
  {
   "cell_type": "code",
   "execution_count": null,
   "id": "6a356e4f",
   "metadata": {},
   "outputs": [
    {
     "name": "stdout",
     "output_type": "stream",
     "text": [
      "John\n",
      "36\n",
      "Sara\n",
      "25\n"
     ]
    }
   ],
   "source": [
    "## Create a class named Person, use the __init__() method to assign values for name and age:\n",
    "\n",
    "class Person:\n",
    "    def __init__(self, name, age):\n",
    "        self.name = name\n",
    "        self.age = age\n",
    "\n",
    "# Use the Person class to create an object, and print the name and age:     \n",
    "# p1 is an object of class Person   \n",
    "p1 = Person(\"John\", 36)\n",
    "print(p1.name)\n",
    "print(p1.age)\n",
    "\n",
    "p2 = Person(\"Sara\", 25)\n",
    "print(p2.name)\n",
    "print(p2.age)\n",
    "\n",
    "# Note: The __init__() method is called automatically every time the class is being used to create a new object."
   ]
  },
  {
   "cell_type": "markdown",
   "id": "30bee520",
   "metadata": {},
   "source": [
    "#   The __str__() Method\n",
    "\n",
    "The __str__() method controls what should be returned when the class object is represented as a string.\n",
    "\n",
    "If the __str__() method is not set, the string representation of the object is returned:\n",
    "\n"
   ]
  },
  {
   "cell_type": "code",
   "execution_count": 10,
   "id": "dbaea5ba",
   "metadata": {},
   "outputs": [
    {
     "name": "stdout",
     "output_type": "stream",
     "text": [
      "<__main__.Person object at 0x0000021B4EB1E7B0>\n",
      "John\n"
     ]
    }
   ],
   "source": [
    "## The string representation of an object WITHOUT the __str__() method:\n",
    "\n",
    "class Person:\n",
    "  def __init__(self, name, age):\n",
    "    self.name = name\n",
    "    self.age = age\n",
    "\n",
    "p1 = Person(\"John\", 36)\n",
    "\n",
    "print(p1)\n",
    "print(p1.name)"
   ]
  },
  {
   "cell_type": "code",
   "execution_count": 11,
   "id": "c4ecdae7",
   "metadata": {},
   "outputs": [
    {
     "name": "stdout",
     "output_type": "stream",
     "text": [
      "John(36)\n"
     ]
    }
   ],
   "source": [
    "# The string representation of an object WITH the __str__() method:\n",
    "\n",
    "class Person:\n",
    "  def __init__(self, name, age):\n",
    "    self.name = name\n",
    "    self.age = age\n",
    "\n",
    "  def __str__(self):\n",
    "    return f\"{self.name}({self.age})\"\n",
    "\n",
    "p1 = Person(\"John\", 36)\n",
    "\n",
    "print(p1)"
   ]
  },
  {
   "cell_type": "markdown",
   "id": "db6fa450",
   "metadata": {},
   "source": [
    "#   Create Methods\n",
    "\n",
    "You can create your own methods inside objects. Methods in objects are functions that belong to the object.\n",
    "\n",
    "Let us create a method in the Person class:"
   ]
  },
  {
   "cell_type": "code",
   "execution_count": null,
   "id": "4278782c",
   "metadata": {},
   "outputs": [
    {
     "name": "stdout",
     "output_type": "stream",
     "text": [
      "Hello my name is John\n"
     ]
    }
   ],
   "source": [
    "# Create Methods in a class a function that prints a greeting, and execute it on the p1 object:\n",
    "\n",
    "class Person:\n",
    "    # Create a object p1 with name and age\n",
    "  def __init__(self, name, age):\n",
    "    self.name = name\n",
    "    self.age = age\n",
    "\n",
    "    # Create a method named myfunc\n",
    "  def myfunc(self):\n",
    "    print(\"Hello my name is \" + self.name)\n",
    "\n",
    "p1 = Person(\"John\", 36)\n",
    "p1.myfunc()"
   ]
  },
  {
   "cell_type": "markdown",
   "id": "d3b27e3d",
   "metadata": {},
   "source": [
    "##  The self Parameter\n",
    "\n",
    "The self parameter is a reference to the current instance of the class, and is used to access variables that belong to the class.\n",
    "\n",
    "It does not have to be named self, you can call it whatever you like, but it has to be the first parameter of any function in the class:"
   ]
  },
  {
   "cell_type": "code",
   "execution_count": 16,
   "id": "0c976316",
   "metadata": {},
   "outputs": [
    {
     "name": "stdout",
     "output_type": "stream",
     "text": [
      "Hello my name is John\n"
     ]
    }
   ],
   "source": [
    "# Use the words mysillyobject and abc instead of self:\n",
    "\n",
    "class Person:\n",
    "  def __init__(mysillyobject, name, age):\n",
    "    mysillyobject.name = name\n",
    "    mysillyobject.age = age\n",
    "    \n",
    "  def __str__(self):\n",
    "    return f\"{self.name}({self.age})\"\n",
    "\n",
    "  def myfunc(abc):\n",
    "    print(\"Hello my name is \" + abc.name)\n",
    "\n",
    "p1 = Person(\"John\", 36)\n",
    "p1.myfunc()"
   ]
  },
  {
   "cell_type": "code",
   "execution_count": null,
   "id": "7e064d4e",
   "metadata": {},
   "outputs": [
    {
     "name": "stdout",
     "output_type": "stream",
     "text": [
      "Mike(40)\n"
     ]
    }
   ],
   "source": [
    "# Modify Object Properties\n",
    "\n",
    "p1.name = \"Mike\"\n",
    "p1.age = 40\n",
    "\n",
    "del p1.age\n",
    "print(p1)\n"
   ]
  },
  {
   "cell_type": "code",
   "execution_count": 19,
   "id": "effc87f6",
   "metadata": {},
   "outputs": [],
   "source": [
    "# The pass Statement\n",
    "# class definitions cannot be empty, but if you for some reason have a class definition with no content, put in the pass statement to avoid getting an error.\n",
    "\n",
    "class Person:\n",
    "    pass"
   ]
  },
  {
   "cell_type": "markdown",
   "id": "cd874f7c",
   "metadata": {},
   "source": [
    "##  Python Inheritance\n",
    "\n",
    "Inheritance allows us to define a class that inherits all the methods and properties from another class.\n",
    "\n",
    "Parent class is the class being inherited from, also called base class.\n",
    "\n",
    "Child class is the class that inherits from another class, also called derived class.\n",
    "\n",
    "#   Create a Parent Class\n",
    "Any class can be a parent class, so the syntax is the same as creating any other class:"
   ]
  },
  {
   "cell_type": "code",
   "execution_count": null,
   "id": "c85c4da7",
   "metadata": {},
   "outputs": [
    {
     "name": "stdout",
     "output_type": "stream",
     "text": [
      "John Doe\n"
     ]
    }
   ],
   "source": [
    "# Create a class named Person, with firstname and lastname properties, and a printname method:\n",
    "\n",
    "class Person:\n",
    "    def __init__(self, firstname, lastname):\n",
    "        self.firstname = firstname\n",
    "        self.lastname = lastname\n",
    "\n",
    "    def printname(self):\n",
    "        print(self.firstname, self.lastname)\n",
    "\n",
    "# Use the Person class to create an object, and then execute the printname method:\n",
    "\n",
    "p1 = Person(\"John\", \"Doe\")\n",
    "p1.printname()"
   ]
  },
  {
   "cell_type": "markdown",
   "id": "b0b89626",
   "metadata": {},
   "source": [
    "#   Create a Child Class\n",
    "To create a class that inherits the functionality from another class, send the parent class as a parameter when creating the child class:"
   ]
  },
  {
   "cell_type": "code",
   "execution_count": null,
   "id": "1aac63f3",
   "metadata": {},
   "outputs": [],
   "source": [
    "# Create a class named Student, which will inherit the properties and methods from the Person class:\n",
    "\n",
    "class Student(Person):\n",
    "    def __init__(self, firstname, lastname, student_id):\n",
    "        super().__init__(firstname, lastname) # inherit the properties from the Person class\n",
    "        self.student_id = student_id\n",
    "\n",
    "    def printstudent(self):\n",
    "        print(self.firstname, self.lastname, self.student_id)\n"
   ]
  },
  {
   "cell_type": "code",
   "execution_count": 22,
   "id": "d961aa22",
   "metadata": {},
   "outputs": [
    {
     "name": "stdout",
     "output_type": "stream",
     "text": [
      "Mike Olsen\n",
      "Mike Olsen S123\n"
     ]
    }
   ],
   "source": [
    "x = Student(\"Mike\", \"Olsen\", \"S123\")\n",
    "x.printname()\n",
    "x.printstudent()"
   ]
  },
  {
   "cell_type": "markdown",
   "id": "40b7464c",
   "metadata": {},
   "source": [
    "##  Add the __init__() Function\n",
    "\n",
    "So far we have created a child class that inherits the properties and methods from its parent.\n",
    "\n",
    "We want to add the __init__() function to the child class (instead of the pass keyword).\n",
    "\n",
    "Note: The __init__() function is called automatically every time the class is being used to create a new object."
   ]
  },
  {
   "cell_type": "code",
   "execution_count": 26,
   "id": "7928477c",
   "metadata": {},
   "outputs": [],
   "source": [
    "# Add the __init__() function to the Student class:\n",
    "\n",
    "class Student(Person):\n",
    "  def __init__(self, fname, lname):\n",
    "      super().__init__(fname, lname) # same as Person.__init__(self, fname, lname)\n",
    "      self.student_id = None\n"
   ]
  },
  {
   "cell_type": "code",
   "execution_count": 34,
   "id": "d6027576",
   "metadata": {},
   "outputs": [],
   "source": [
    "## Add properties to the Student class:\n",
    "\n",
    "class Student(Person):\n",
    "  def __init__(self, fname, lname, graduationyear):\n",
    "    super().__init__(fname, lname)\n",
    "    self.graduationyear = graduationyear\n",
    "\n",
    "  def printstudent(self):   # add a method to the Student class\n",
    "    print(self.firstname, self.lastname, self.graduationyear)"
   ]
  },
  {
   "cell_type": "code",
   "execution_count": 35,
   "id": "b1e2d514",
   "metadata": {},
   "outputs": [
    {
     "name": "stdout",
     "output_type": "stream",
     "text": [
      "Mike Olsen\n",
      "Mike Olsen 2019\n"
     ]
    }
   ],
   "source": [
    "x = Student(\"Mike\", \"Olsen\", 2019)\n",
    "x.printname()\n",
    "x.printstudent()"
   ]
  },
  {
   "cell_type": "code",
   "execution_count": 36,
   "id": "257ac81d",
   "metadata": {},
   "outputs": [],
   "source": [
    "# Add a method called welcome to the Student class:\n",
    "\n",
    "class Student(Person):\n",
    "  def __init__(self, fname, lname, graduationyear):\n",
    "    super().__init__(fname, lname)\n",
    "    self.graduationyear = graduationyear\n",
    "\n",
    "  def printstudent(self):\n",
    "    print(self.firstname, self.lastname, self.graduationyear)\n",
    "\n",
    "  def welcome(self):\n",
    "    print(\"Welcome\", self.firstname, self.lastname, \"to the class of\", self.graduationyear)\n"
   ]
  },
  {
   "cell_type": "code",
   "execution_count": 37,
   "id": "d6b73046",
   "metadata": {},
   "outputs": [
    {
     "name": "stdout",
     "output_type": "stream",
     "text": [
      "Mike Olsen 2019\n",
      "Welcome Mike Olsen to the class of 2019\n"
     ]
    }
   ],
   "source": [
    "x = Student(\"Mike\", \"Olsen\", 2019)\n",
    "x.printstudent()\n",
    "x.welcome()"
   ]
  }
 ],
 "metadata": {
  "kernelspec": {
   "display_name": "Python 3",
   "language": "python",
   "name": "python3"
  },
  "language_info": {
   "codemirror_mode": {
    "name": "ipython",
    "version": 3
   },
   "file_extension": ".py",
   "mimetype": "text/x-python",
   "name": "python",
   "nbconvert_exporter": "python",
   "pygments_lexer": "ipython3",
   "version": "3.13.6"
  }
 },
 "nbformat": 4,
 "nbformat_minor": 5
}
