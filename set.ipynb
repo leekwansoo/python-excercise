{
 "cells": [
  {
   "cell_type": "code",
   "execution_count": null,
   "id": "cb47c403",
   "metadata": {},
   "outputs": [
    {
     "name": "stdout",
     "output_type": "stream",
     "text": [
      "cherry\n",
      "banana\n",
      "apple\n",
      "cherry banana apple \n",
      "\n",
      "{'cherry', 'banana', 'apple'} \n",
      "\n"
     ]
    }
   ],
   "source": [
    "# Python Sets\n",
    "\n",
    "# A set is a collection which is unordered, unchangeable*, and unindexed.\n",
    "\n",
    "myset = {\"apple\", \"banana\", \"cherry\"}\n",
    "\n",
    "a, b, c = myset\n",
    "print(a)\n",
    "print(b)\n",
    "print(c)\n",
    "print(a , b, c, \"\\n\")\n",
    "print(myset, \"\\n\")"
   ]
  },
  {
   "cell_type": "code",
   "execution_count": null,
   "id": "bacdccb3",
   "metadata": {},
   "outputs": [
    {
     "name": "stdout",
     "output_type": "stream",
     "text": [
      "{'cherry', 'banana', 'apple'}\n"
     ]
    }
   ],
   "source": [
    "# Duplicates Not Allowed\n",
    "\n",
    "thisset = {\"apple\", \"banana\", \"cherry\", \"apple\"}\n",
    "\n",
    "print(thisset)\n"
   ]
  },
  {
   "cell_type": "code",
   "execution_count": 5,
   "id": "1bbb5621",
   "metadata": {},
   "outputs": [
    {
     "name": "stdout",
     "output_type": "stream",
     "text": [
      "{False, True, 'apple', 'cherry', 'banana'}\n"
     ]
    }
   ],
   "source": [
    "# False and 0 is considered the same value:\n",
    "thisset = {\"apple\", \"banana\", \"cherry\", False, True, 0}\n",
    "\n",
    "print(thisset)\n"
   ]
  },
  {
   "cell_type": "code",
   "execution_count": 6,
   "id": "96779a6c",
   "metadata": {},
   "outputs": [
    {
     "name": "stdout",
     "output_type": "stream",
     "text": [
      "3\n"
     ]
    }
   ],
   "source": [
    "# Get the Length of a Set\n",
    "thisset = {\"apple\", \"banana\", \"cherry\"}\n",
    "\n",
    "print(len(thisset))"
   ]
  },
  {
   "cell_type": "code",
   "execution_count": 9,
   "id": "66179bfa",
   "metadata": {},
   "outputs": [
    {
     "name": "stdout",
     "output_type": "stream",
     "text": [
      "<class 'set'>\n"
     ]
    }
   ],
   "source": [
    "# Set Items - Data Types\n",
    "# Set items can be of any data type:\n",
    "\n",
    "set1 = {\"apple\", \"banana\", \"cherry\"}\n",
    "set2 = {1, 5, 7, 9, 3}\n",
    "set3 = {True, False, False}\n",
    "\n",
    "# A set with strings, integers and boolean values:\n",
    "\n",
    "set1 = {\"abc\", 34, True, 40, \"male\"}\n",
    "\n",
    "myset = {\"apple\", \"banana\", \"cherry\"}\n",
    "print(type(myset))"
   ]
  },
  {
   "cell_type": "code",
   "execution_count": null,
   "id": "6b025dc1",
   "metadata": {},
   "outputs": [
    {
     "name": "stdout",
     "output_type": "stream",
     "text": [
      "{'cherry', 'banana', 'apple'}\n"
     ]
    }
   ],
   "source": [
    "# The set() Constructor\n",
    "\n",
    "thisset = set((\"apple\", \"banana\", \"cherry\"))\n",
    "\n",
    "# Note: the set list is unordered, so the result will display the items in a random order.\n",
    "print(thisset)\n"
   ]
  },
  {
   "cell_type": "markdown",
   "id": "fdf538ca",
   "metadata": {},
   "source": [
    "## Access Items\n",
    "You cannot access items in a set by referring to an index or a key.\n",
    "\n",
    "But you can loop through the set items using a for loop, or ask if a specified value is present in a set, by using the in keyword."
   ]
  },
  {
   "cell_type": "code",
   "execution_count": 15,
   "id": "bf10a822",
   "metadata": {},
   "outputs": [
    {
     "name": "stdout",
     "output_type": "stream",
     "text": [
      "cherry\n",
      "banana\n",
      "apple\n"
     ]
    }
   ],
   "source": [
    "# Loop through the set, and print the values:\n",
    "\n",
    "thisset = {\"apple\", \"banana\", \"cherry\"}\n",
    "\n",
    "for x in thisset:\n",
    "  print(x)"
   ]
  },
  {
   "cell_type": "code",
   "execution_count": 16,
   "id": "7ad129f8",
   "metadata": {},
   "outputs": [
    {
     "name": "stdout",
     "output_type": "stream",
     "text": [
      "True\n"
     ]
    }
   ],
   "source": [
    "# Check if \"banana\" is present in the set:\n",
    "\n",
    "thisset = {\"apple\", \"banana\", \"cherry\"}\n",
    "\n",
    "print(\"banana\" in thisset)"
   ]
  },
  {
   "cell_type": "code",
   "execution_count": 17,
   "id": "e85e6422",
   "metadata": {},
   "outputs": [
    {
     "name": "stdout",
     "output_type": "stream",
     "text": [
      "False\n"
     ]
    }
   ],
   "source": [
    "# Check if \"banana\" is NOT present in the set:\n",
    "\n",
    "thisset = {\"apple\", \"banana\", \"cherry\"}\n",
    "\n",
    "print(\"banana\" not in thisset)"
   ]
  },
  {
   "cell_type": "code",
   "execution_count": 20,
   "id": "34b6123d",
   "metadata": {},
   "outputs": [
    {
     "name": "stdout",
     "output_type": "stream",
     "text": [
      "{'cherry', 'banana', 'orange', 'apple'}\n"
     ]
    }
   ],
   "source": [
    "# Add Items in the set\n",
    "# Once a set is created, you cannot change its items, but you can add new items.\n",
    "\n",
    "# To add one item to a set use the add() method.\n",
    "\n",
    "thisset = {\"apple\", \"banana\", \"cherry\"}\n",
    "thisset.add(\"orange\")\n",
    "print(thisset)\n"
   ]
  },
  {
   "cell_type": "code",
   "execution_count": 21,
   "id": "034c703e",
   "metadata": {},
   "outputs": [
    {
     "name": "stdout",
     "output_type": "stream",
     "text": [
      "{'grape', 'mango', 'apple', 'cherry', 'banana', 'orange'}\n"
     ]
    }
   ],
   "source": [
    "# Add Sets\n",
    "# To add items from another set into the current set, use the update() method.\n",
    "\n",
    "thisset = {\"apple\", \"banana\", \"cherry\"}\n",
    "thisset2 = {\"orange\", \"mango\", \"grape\"}\n",
    "thisset.update(thisset2)\n",
    "print(thisset)\n"
   ]
  },
  {
   "cell_type": "code",
   "execution_count": 22,
   "id": "c7f12790",
   "metadata": {},
   "outputs": [
    {
     "name": "stdout",
     "output_type": "stream",
     "text": [
      "{'mango', 'grape', 'apple', 'cherry', 'banana', 'orange'}\n"
     ]
    }
   ],
   "source": [
    "# Add Any Iterable\n",
    "# The object in the update() method does not have to be a set, it can be any iterable object (tuples, lists, dictionaries etc.).\n",
    "\n",
    "thisset = {\"apple\", \"banana\", \"cherry\"}\n",
    "thislist = [\"orange\", \"mango\", \"grape\"]\n",
    "thisset.update(thislist)\n",
    "print(thisset)\n"
   ]
  },
  {
   "cell_type": "markdown",
   "id": "f62523a2",
   "metadata": {},
   "source": [
    "## Python - Remove Set Items\n",
    "\n",
    "Remove Item\n",
    "To remove an item in a set, use the remove(), or the discard() method."
   ]
  },
  {
   "cell_type": "code",
   "execution_count": 24,
   "id": "11af1fb0",
   "metadata": {},
   "outputs": [
    {
     "name": "stdout",
     "output_type": "stream",
     "text": [
      "{'cherry', 'apple'}\n",
      "{'cherry', 'apple'}\n"
     ]
    }
   ],
   "source": [
    "# Remove \"banana\" by using the remove() method:\n",
    "\n",
    "thisset = {\"apple\", \"banana\", \"cherry\"}\n",
    "\n",
    "thisset.remove(\"banana\")\n",
    "\n",
    "print(thisset)\n",
    "\n",
    "# If the item to remove does not exist, remove() will raise an error.\n",
    "# To avoid this, use the discard() method if the item to remove may not exist.\n",
    "\n",
    "thisset = {\"apple\", \"banana\", \"cherry\"}\n",
    "\n",
    "thisset.discard(\"banana\")\n",
    "\n",
    "print(thisset)"
   ]
  },
  {
   "cell_type": "markdown",
   "id": "a779998b",
   "metadata": {},
   "source": [
    "You can also use the pop() method to remove an item, but this method will remove a random item, so you cannot be sure what item that gets removed.\n",
    "\n",
    "The return value of the pop() method is the removed item."
   ]
  },
  {
   "cell_type": "code",
   "execution_count": 25,
   "id": "aa0e6afc",
   "metadata": {},
   "outputs": [
    {
     "name": "stdout",
     "output_type": "stream",
     "text": [
      "cherry\n",
      "{'banana', 'apple'}\n"
     ]
    }
   ],
   "source": [
    "# Remove a random item by using the pop() method:\n",
    "\n",
    "thisset = {\"apple\", \"banana\", \"cherry\"}\n",
    "\n",
    "x = thisset.pop()\n",
    "\n",
    "print(x)\n",
    "\n",
    "print(thisset)"
   ]
  },
  {
   "cell_type": "code",
   "execution_count": 26,
   "id": "ac43616e",
   "metadata": {},
   "outputs": [
    {
     "name": "stdout",
     "output_type": "stream",
     "text": [
      "set()\n"
     ]
    }
   ],
   "source": [
    "# The clear() method empties the set:\n",
    "\n",
    "thisset = {\"apple\", \"banana\", \"cherry\"}\n",
    "\n",
    "thisset.clear()\n",
    "\n",
    "print(thisset)"
   ]
  },
  {
   "cell_type": "code",
   "execution_count": 27,
   "id": "2ac2ea40",
   "metadata": {},
   "outputs": [
    {
     "ename": "NameError",
     "evalue": "name 'thisset' is not defined",
     "output_type": "error",
     "traceback": [
      "\u001b[31m---------------------------------------------------------------------------\u001b[39m",
      "\u001b[31mNameError\u001b[39m                                 Traceback (most recent call last)",
      "\u001b[36mCell\u001b[39m\u001b[36m \u001b[39m\u001b[32mIn[27]\u001b[39m\u001b[32m, line 7\u001b[39m\n\u001b[32m      3\u001b[39m thisset = {\u001b[33m\"\u001b[39m\u001b[33mapple\u001b[39m\u001b[33m\"\u001b[39m, \u001b[33m\"\u001b[39m\u001b[33mbanana\u001b[39m\u001b[33m\"\u001b[39m, \u001b[33m\"\u001b[39m\u001b[33mcherry\u001b[39m\u001b[33m\"\u001b[39m}\n\u001b[32m      5\u001b[39m \u001b[38;5;28;01mdel\u001b[39;00m thisset\n\u001b[32m----> \u001b[39m\u001b[32m7\u001b[39m \u001b[38;5;28mprint\u001b[39m(\u001b[43mthisset\u001b[49m)\n",
      "\u001b[31mNameError\u001b[39m: name 'thisset' is not defined"
     ]
    }
   ],
   "source": [
    "# The del keyword will delete the set completely:\n",
    "\n",
    "thisset = {\"apple\", \"banana\", \"cherry\"}\n",
    "\n",
    "del thisset\n",
    "\n",
    "print(thisset)"
   ]
  },
  {
   "cell_type": "markdown",
   "id": "38847e67",
   "metadata": {},
   "source": [
    "## Loop Items\n",
    "You can loop through the set items by using a for loop:"
   ]
  },
  {
   "cell_type": "code",
   "execution_count": 28,
   "id": "6d8d499d",
   "metadata": {},
   "outputs": [
    {
     "name": "stdout",
     "output_type": "stream",
     "text": [
      "cherry\n",
      "banana\n",
      "apple\n"
     ]
    }
   ],
   "source": [
    "thisset = {\"apple\", \"banana\", \"cherry\"}\n",
    "\n",
    "for x in thisset:\n",
    "  print(x)"
   ]
  },
  {
   "cell_type": "markdown",
   "id": "983e5ddc",
   "metadata": {},
   "source": [
    "## Python - Join Sets\n",
    "\n",
    "There are several ways to join two or more sets in Python.\n",
    "\n",
    "The union() and update() methods joins all items from both sets.\n",
    "\n",
    "The intersection() method keeps ONLY the duplicates.\n",
    "\n",
    "The difference() method keeps the items from the first set that are not in the other set(s).\n",
    "\n",
    "The symmetric_difference() method keeps all items EXCEPT the duplicates."
   ]
  },
  {
   "cell_type": "code",
   "execution_count": 31,
   "id": "c53f58ce",
   "metadata": {},
   "outputs": [
    {
     "name": "stdout",
     "output_type": "stream",
     "text": [
      "{'grape', 'mango', 'apple', 'cherry', 'banana', 'orange'}\n",
      "{'a', 1, 2, 3, 'c', 'b'}\n",
      "{'a', 1, 2, 3, 'c', 'b'}\n"
     ]
    }
   ],
   "source": [
    "# The union() method returns a new set with all items from both sets.\n",
    "thisset = {\"apple\", \"banana\", \"cherry\"}\n",
    "thisset2 = {\"orange\", \"mango\", \"grape\"}\n",
    "thisset3 = thisset.union(thisset2)\n",
    "print(thisset3)\n",
    "\n",
    "# Join set1 and set2 into a new set:\n",
    "set1 = {\"a\", \"b\", \"c\"}\n",
    "set2 = {1, 2, 3}\n",
    "\n",
    "set3 = set1.union(set2)\n",
    "print(set3)\n",
    "\n",
    "# You can use the | operator instead of the union() method, and you will get the same result.\n",
    "\n",
    "set1 = {\"a\", \"b\", \"c\"}\n",
    "set2 = {1, 2, 3}\n",
    "\n",
    "set3 = set1 | set2\n",
    "print(set3)"
   ]
  },
  {
   "cell_type": "code",
   "execution_count": 33,
   "id": "b0117699",
   "metadata": {},
   "outputs": [
    {
     "name": "stdout",
     "output_type": "stream",
     "text": [
      "{1, 2, 3, 'apple', 'a', 'bananas', 'cherry', 'John', 'Elena', 'c', 'b'}\n",
      "{1, 2, 3, 'apple', 'a', 'bananas', 'cherry', 'John', 'Elena', 'c', 'b'}\n"
     ]
    }
   ],
   "source": [
    "# Join Multiple Sets\n",
    "# All the joining methods and operators can be used to join multiple sets.\n",
    "# When using a method, just add more sets in the parentheses, separated by commas:\n",
    "\n",
    "set1 = {\"a\", \"b\", \"c\"}\n",
    "set2 = {1, 2, 3}\n",
    "set3 = {\"John\", \"Elena\"}\n",
    "set4 = {\"apple\", \"bananas\", \"cherry\"}\n",
    "\n",
    "myset = set1.union(set2, set3, set4)\n",
    "print(myset)\n",
    "\n",
    "# When using the | operator, separate the sets with more | operators:\n",
    "\n",
    "set1 = {\"a\", \"b\", \"c\"}\n",
    "set2 = {1, 2, 3}\n",
    "set3 = {\"John\", \"Elena\"}\n",
    "set4 = {\"apple\", \"bananas\", \"cherry\"}\n",
    "\n",
    "myset = set1 | set2 | set3 | set4\n",
    "print(myset)"
   ]
  },
  {
   "cell_type": "code",
   "execution_count": 37,
   "id": "ac622003",
   "metadata": {},
   "outputs": [
    {
     "name": "stdout",
     "output_type": "stream",
     "text": [
      "{1, 2, 3, 'a', 'c', 'b'}\n",
      "<class 'set'>\n"
     ]
    }
   ],
   "source": [
    "# Join a Set and a Tuple\n",
    "# The union() method allows you to join a set with other data types, like lists or tuples.\n",
    "# \n",
    "# join a set and a tuple: the reuslt will be a set\n",
    "x = {\"a\", \"b\", \"c\"}\n",
    "y = (1, 2, 3)\n",
    "\n",
    "z = x.union(y)\n",
    "print(z)\n",
    "print(type(z))"
   ]
  },
  {
   "cell_type": "code",
   "execution_count": null,
   "id": "07657cf7",
   "metadata": {},
   "outputs": [
    {
     "name": "stdout",
     "output_type": "stream",
     "text": [
      "{'a', 1, 2, 3, 'c', 'b'}\n",
      "{1, 2, 3}\n"
     ]
    }
   ],
   "source": [
    "# The update() method inserts all items from one set into another.\n",
    "# The update() changes the original set, and does not return a new set.\n",
    "# Note: Both union() and update() will exclude any duplicate items.\n",
    "set1 = {\"a\", \"b\" , \"c\"}\n",
    "set2 = {1, 2, 3}\n",
    "\n",
    "set1.update(set2)\n",
    "print(set1)\n",
    "print(set2)"
   ]
  },
  {
   "cell_type": "code",
   "execution_count": null,
   "id": "80d3983c",
   "metadata": {},
   "outputs": [
    {
     "name": "stdout",
     "output_type": "stream",
     "text": [
      "{'apple'}\n"
     ]
    }
   ],
   "source": [
    "# Intersection\n",
    "# Keep ONLY the duplicates\n",
    "\n",
    "set1 = {\"apple\", \"banana\", \"cherry\"}\n",
    "set2 = {\"google\", \"microsoft\", \"apple\"}\n",
    "\n",
    "set3 = set1.intersection(set2)\n",
    "print(set3)\n"
   ]
  },
  {
   "cell_type": "code",
   "execution_count": 41,
   "id": "72419a7f",
   "metadata": {},
   "outputs": [
    {
     "name": "stdout",
     "output_type": "stream",
     "text": [
      "{'apple'}\n"
     ]
    }
   ],
   "source": [
    "# You can use the & operator instead of the intersection() method, and you will get the same result.\n",
    "\n",
    "set1 = {\"apple\", \"banana\", \"cherry\"}\n",
    "set2 = {\"google\", \"microsoft\", \"apple\"}\n",
    "\n",
    "set3 = set1 & set2\n",
    "print(set3)"
   ]
  },
  {
   "cell_type": "code",
   "execution_count": 42,
   "id": "80c6fd92",
   "metadata": {},
   "outputs": [
    {
     "name": "stdout",
     "output_type": "stream",
     "text": [
      "{'cherry', 'banana'}\n"
     ]
    }
   ],
   "source": [
    "# Difference\n",
    "# The difference() method will return a new set that will contain only the items from the first set that are not present in the other set.\n",
    "# Keep all items from set1 that are not in set2:\n",
    "set1 = {\"apple\", \"banana\", \"cherry\"}\n",
    "set2 = {\"google\", \"microsoft\", \"apple\"}\n",
    "\n",
    "set3 = set1.difference(set2)\n",
    "print(set3)\n"
   ]
  },
  {
   "cell_type": "code",
   "execution_count": 43,
   "id": "06acbd4c",
   "metadata": {},
   "outputs": [
    {
     "name": "stdout",
     "output_type": "stream",
     "text": [
      "{'cherry', 'banana'}\n"
     ]
    }
   ],
   "source": [
    "# You can use the - operator instead of the difference() method, and you will get the same result.\n",
    "\n",
    "set1 = {\"apple\", \"banana\", \"cherry\"}\n",
    "set2 = {\"google\", \"microsoft\", \"apple\"}\n",
    "\n",
    "set3 = set1 - set2\n",
    "print(set3)\n"
   ]
  },
  {
   "cell_type": "code",
   "execution_count": 45,
   "id": "a8cf926c",
   "metadata": {},
   "outputs": [
    {
     "name": "stdout",
     "output_type": "stream",
     "text": [
      "{'google', 'cherry', 'microsoft', 'banana'}\n",
      "{'google', 'cherry', 'microsoft', 'banana'}\n"
     ]
    }
   ],
   "source": [
    "# Symmetric Differences\n",
    "# The symmetric_difference() method will keep only the elements that are NOT present in both sets.\n",
    "\n",
    "set1 = {\"apple\", \"banana\", \"cherry\"}\n",
    "set2 = {\"google\", \"microsoft\", \"apple\"}\n",
    "\n",
    "set3 = set1.symmetric_difference(set2)\n",
    "\n",
    "print(set3)\n",
    "\n",
    "# You can use the ^ operator instead of the symmetric_difference() method, and you will get the same result.\n",
    "\n",
    "set1 = {\"apple\", \"banana\", \"cherry\"}\n",
    "set2 = {\"google\", \"microsoft\", \"apple\"}\n",
    "\n",
    "set3 = set1 ^ set2\n",
    "print(set3)"
   ]
  },
  {
   "cell_type": "markdown",
   "id": "4e59b2c5",
   "metadata": {},
   "source": [
    "#   Python frozenset\n",
    "frozenset is an immutable version of a set.\n",
    "Like sets, it contains unique, unordered, unchangeable elements.\n",
    "Unlike sets, elements cannot be added or removed from a frozenset.\n",
    "\n"
   ]
  },
  {
   "cell_type": "code",
   "execution_count": 46,
   "id": "ad63147d",
   "metadata": {},
   "outputs": [
    {
     "name": "stdout",
     "output_type": "stream",
     "text": [
      "frozenset({'cherry', 'banana', 'apple'})\n",
      "<class 'frozenset'>\n"
     ]
    }
   ],
   "source": [
    "# Use the frozenset() constructor to create a frozenset from any iterable.\n",
    "\n",
    "x = frozenset({\"apple\", \"banana\", \"cherry\"})\n",
    "print(x)\n",
    "print(type(x))\n"
   ]
  },
  {
   "cell_type": "markdown",
   "id": "b8bf3a92",
   "metadata": {},
   "source": [
    "## Frozen Set Methods\n",
    "\n",
    "Method\t                Shortcut\t        Description\t\n",
    "copy()\t \t                        Returns a shallow copy\t\n",
    "difference()\t        -\t        Returns a new frozenset with the difference\t\n",
    "intersection()\t        &\t        Returns a new frozenset with the intersection\t\n",
    "isdisjoint()\t \t                Returns whether two frozensets have an intersection\t\n",
    "issubset()\t            <= / <\t    Returns True if this frozenset is a (proper) subset of another\t\n",
    "issuperset()\t        >= / >\t    Returns True if this frozenset is a (proper) superset of another\t\n",
    "symmetric_difference()\t^\t        Returns a new frozenset with the symmetric differences\t\n",
    "union()\t                |\t        Returns a new frozenset containing the union"
   ]
  },
  {
   "cell_type": "markdown",
   "id": "8461fd27",
   "metadata": {},
   "source": [
    "## Python Set Methods\n",
    "\n",
    "Method\t                    Shortcut\tDescription\n",
    "add()\t \t                            Adds an element to the set\n",
    "clear()\t \t                            Removes all the elements from the set\n",
    "copy()\t \t                            Returns a copy of the set\n",
    "difference()\t                -\t    Returns a set containing the difference between two or more sets\n",
    "difference_update()\t            -=\t    Removes the items in this set that are also included in another, specified set\n",
    "discard()\t \t                        Remove the specified item\n",
    "intersection()\t                &\t    Returns a set, that is the intersection of two other sets\n",
    "intersection_update()\t        &=\t    Removes the items in this set that are not present in other, specified set(s)\n",
    "isdisjoint()\t \t                    Returns whether two sets have a intersection or not\n",
    "issubset()\t                    <=\t    Returns True if all items of this set is present in another set\n",
    " \t                            <\t    Returns True if all items of this set is present in another, larger set\n",
    "issuperset()\t                >=\t    Returns True if all items of another set is present in this set\n",
    " \t                            >\t    Returns True if all items of another, smaller set is present in this set\n",
    "pop()\t \t                            Removes an element from the set\n",
    "remove()\t \t                        Removes the specified element\n",
    "symmetric_difference()\t        ^\t    Returns a set with the symmetric differences of two sets\n",
    "symmetric_difference_update()\t^=\t    Inserts the symmetric differences from this set and another\n",
    "union()\t                        |\t    Return a set containing the union of sets\n",
    "update()\t                    |=\t    Update the set with the union of this set and others"
   ]
  }
 ],
 "metadata": {
  "kernelspec": {
   "display_name": "base",
   "language": "python",
   "name": "python3"
  },
  "language_info": {
   "codemirror_mode": {
    "name": "ipython",
    "version": 3
   },
   "file_extension": ".py",
   "mimetype": "text/x-python",
   "name": "python",
   "nbconvert_exporter": "python",
   "pygments_lexer": "ipython3",
   "version": "3.12.9"
  }
 },
 "nbformat": 4,
 "nbformat_minor": 5
}
