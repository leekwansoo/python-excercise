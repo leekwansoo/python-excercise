{
 "cells": [
  {
   "cell_type": "markdown",
   "id": "da151b23",
   "metadata": {},
   "source": [
    "## Python Requests Module\n",
    "\n",
    "Make a request to a web page, and print the response text:\n",
    "\n",
    "#   Definition and Usage\n",
    "The requests module allows you to send HTTP requests using Python.\n",
    "\n",
    "The HTTP request returns a Response Object with all the response data (content, encoding, status, etc)."
   ]
  },
  {
   "cell_type": "code",
   "execution_count": 1,
   "id": "6a399dc4",
   "metadata": {},
   "outputs": [
    {
     "name": "stdout",
     "output_type": "stream",
     "text": [
      "<!DOCTYPE html>\n",
      "<html>\n",
      "<body>\n",
      "\n",
      "<h1>This is a Test Page</h1>\n",
      "\n",
      "</body>\n",
      "</html>\n"
     ]
    }
   ],
   "source": [
    "import requests\n",
    "\n",
    "x = requests.get('https://w3schools.com/python/demopage.htm')\n",
    "\n",
    "print(x.text)"
   ]
  },
  {
   "cell_type": "markdown",
   "id": "5be54428",
   "metadata": {},
   "source": [
    "## Requests methods\n",
    "\n",
    "Method\t                        Description\n",
    "delete(url, args)\t            Sends a DELETE request to the specified url\n",
    "get(url, params, args)\t        Sends a GET request to the specified url\n",
    "head(url, args)\t                Sends a HEAD request to the specified url\n",
    "patch(url, data, args)\t        Sends a PATCH request to the specified url\n",
    "post(url, data, json, args)\t    Sends a POST request to the specified url\n",
    "put(url, data, args)\t        Sends a PUT request to the specified url\n",
    "request(method, url, args)\t    Sends a request of the specified method to the specified url"
   ]
  }
 ],
 "metadata": {
  "kernelspec": {
   "display_name": "Python 3",
   "language": "python",
   "name": "python3"
  },
  "language_info": {
   "codemirror_mode": {
    "name": "ipython",
    "version": 3
   },
   "file_extension": ".py",
   "mimetype": "text/x-python",
   "name": "python",
   "nbconvert_exporter": "python",
   "pygments_lexer": "ipython3",
   "version": "3.13.6"
  }
 },
 "nbformat": 4,
 "nbformat_minor": 5
}
